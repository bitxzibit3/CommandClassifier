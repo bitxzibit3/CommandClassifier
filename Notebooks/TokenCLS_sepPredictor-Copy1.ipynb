{
 "cells": [
  {
   "cell_type": "code",
   "execution_count": 1,
   "metadata": {},
   "outputs": [],
   "source": [
    "import json\n",
    "from collections import defaultdict\n",
    "import pandas as pd\n",
    "import numpy as np\n",
    "from sklearn.model_selection import train_test_split"
   ]
  },
  {
   "cell_type": "code",
   "execution_count": 2,
   "metadata": {},
   "outputs": [
    {
     "name": "stdout",
     "output_type": "stream",
     "text": [
      "(16253, 5)\n"
     ]
    }
   ],
   "source": [
    "df = pd.read_csv(\"../Data/Interim/some_cmd_v3_03062022_low_split.csv\", sep=\",\")\n",
    "df = df.loc[:,[\"full_text\", \"text1\", \"text2\", \"text3\", \"subset\"]]\n",
    "print(df.shape)\n",
    "# добавляем кома\n",
    "df_onecmd = pd.read_csv(\"../Data/Interim/one_cmd_v3_03062022_low_split.csv\", sep=\",\")\n",
    "df_onecmd = df_onecmd.sample(5000, random_state=42)\n",
    "df_onecmd = df_onecmd.loc[df_onecmd[\"subset\"].isin([\"train\", \"valid\"]), [\"x\", \"subset\"]]\n",
    "df_onecmd[\"full_text\"] = df_onecmd[\"x\"]\n",
    "df_onecmd[\"text1\"] = df_onecmd[\"x\"]\n",
    "df_onecmd[\"text2\"] = np.empty_like(df_onecmd[\"x\"], dtype=np.float32)\n",
    "df_onecmd[\"text3\"] = np.empty_like(df_onecmd[\"x\"], dtype=np.float32)\n",
    "\n",
    "df = pd.concat([df, df_onecmd])\n",
    "df.index= range(len(df))"
   ]
  },
  {
   "cell_type": "code",
   "execution_count": 3,
   "metadata": {},
   "outputs": [],
   "source": [
    "nerInput_train = {\n",
    "    \"sentence_id\": [],\n",
    "    \"words\": [],\n",
    "    \"labels\": []\n",
    "}\n",
    "nerInput_valid = {\n",
    "    \"sentence_id\": [],\n",
    "    \"words\": [],\n",
    "    \"labels\": []\n",
    "}\n",
    "nerInput = None\n",
    "for ir, row in df.iterrows():\n",
    "    if row[\"subset\"]==\"train\":\n",
    "        nerInput = nerInput_train\n",
    "    if row[\"subset\"]==\"valid\":\n",
    "        nerInput = nerInput_valid\n",
    "\n",
    "    start_1 = row[\"full_text\"].find(row[\"text1\"])\n",
    "    assert start_1 >= 0\n",
    "    start_2 = None\n",
    "    if type(row['text2']) != float:\n",
    "        start_2 = row[\"full_text\"].find(row[\"text2\"], start_1 + len(row[\"text1\"]))    \n",
    "        assert start_2 >= start_1\n",
    "    start_3 = None\n",
    "    if type(row['text3']) != float:\n",
    "        start_3 = row[\"full_text\"].find(row[\"text3\"], start_2 + len(row[\"text2\"]))\n",
    "        assert start_3 >= start_2\n",
    "    lastWordPos = 0\n",
    "    for word in row[\"full_text\"].split():\n",
    "        nerInput[\"sentence_id\"].append(ir)\n",
    "        nerInput[\"words\"].append(word)\n",
    "        wordPos = row[\"full_text\"].find(word, lastWordPos)\n",
    "        assert wordPos!=-1\n",
    "        lastWordPos = wordPos + len(word)\n",
    "        if (wordPos >= start_1) and (wordPos <= (start_1+len(row[\"text1\"].strip()))):\n",
    "            if lastWordPos == (start_1+len(row[\"text1\"].strip())):\n",
    "                nerInput[\"labels\"].append(\"[SEP]\")\n",
    "            else:\n",
    "                nerInput[\"labels\"].append(\"[CMD]\")\n",
    "        elif (start_2 is not None) and (wordPos >= start_2) and (wordPos <= (start_2+len(row[\"text2\"].strip()))):\n",
    "            if lastWordPos == (start_2+len(row[\"text2\"].strip())):\n",
    "                nerInput[\"labels\"].append(\"[SEP]\")\n",
    "            else:\n",
    "                nerInput[\"labels\"].append(\"[CMD]\")\n",
    "        elif (start_3 is not None) and (wordPos >= start_3) and (wordPos <= (start_3+len(row[\"text3\"].strip()))):\n",
    "            if lastWordPos == (start_3+len(row[\"text3\"].strip())):\n",
    "                nerInput[\"labels\"].append(\"[SEP]\")\n",
    "            else:\n",
    "                nerInput[\"labels\"].append(\"[CMD]\")\n",
    "        else:\n",
    "            nerInput[\"labels\"].append(\"O\")\n",
    "train_df = pd.DataFrame(nerInput_train)\n",
    "valid_df = pd.DataFrame(nerInput_valid)"
   ]
  },
  {
   "cell_type": "code",
   "execution_count": 4,
   "metadata": {},
   "outputs": [],
   "source": [
    "for ir, row in df.iterrows():\n",
    "    cmd_count = 1\n",
    "    if type(row[\"text2\"])==str:\n",
    "        cmd_count+=1\n",
    "    if type(row[\"text3\"])==str:\n",
    "        cmd_count+=1\n",
    "    if ir in train_df[\"sentence_id\"].values:\n",
    "        assert train_df[train_df[\"sentence_id\"]==ir][\"labels\"].value_counts()[\"[SEP]\"]==cmd_count\n",
    "    else:\n",
    "        assert valid_df[valid_df[\"sentence_id\"]==ir][\"labels\"].value_counts()[\"[SEP]\"]==cmd_count"
   ]
  },
  {
   "cell_type": "code",
   "execution_count": 5,
   "metadata": {
    "scrolled": true
   },
   "outputs": [],
   "source": [
    "for ir, row in df.iterrows():\n",
    "    cmd_count = 1\n",
    "    if type(row[\"text2\"])==str:\n",
    "        cmd_count+=1\n",
    "    if type(row[\"text3\"])==str:\n",
    "        cmd_count+=1\n",
    "    ner_commands = [[],[],[]]\n",
    "    current_command = 0\n",
    "    if ir in train_df[\"sentence_id\"].values:\n",
    "        input_df = train_df\n",
    "    else:\n",
    "        input_df = valid_df\n",
    "    for ir_2, row_2 in input_df[input_df[\"sentence_id\"]==ir].iterrows():\n",
    "        if row_2[\"labels\"]==\"O\":\n",
    "            continue\n",
    "        ner_commands[current_command].append(row_2[\"words\"])\n",
    "        if row_2[\"labels\"]==\"[SEP]\":\n",
    "            current_command += 1\n",
    "    assert row[\"text1\"].strip() == \" \".join(ner_commands[0])\n",
    "    if cmd_count>1:\n",
    "        assert row[\"text2\"].strip() == \" \".join(ner_commands[1])\n",
    "    if cmd_count>2:\n",
    "        assert row[\"text3\"].strip() == \" \".join(ner_commands[2])"
   ]
  },
  {
   "cell_type": "code",
   "execution_count": 6,
   "metadata": {},
   "outputs": [
    {
     "name": "stderr",
     "output_type": "stream",
     "text": [
      "Some weights of the model checkpoint at /s/ls4/users/grartem/HuggingFace/models/rubert-tiny2 were not used when initializing BertForTokenClassification: ['cls.predictions.transform.dense.bias', 'cls.predictions.bias', 'cls.predictions.transform.dense.weight', 'cls.predictions.decoder.bias', 'cls.predictions.transform.LayerNorm.weight', 'cls.seq_relationship.weight', 'cls.predictions.decoder.weight', 'cls.seq_relationship.bias', 'cls.predictions.transform.LayerNorm.bias']\n",
      "- This IS expected if you are initializing BertForTokenClassification from the checkpoint of a model trained on another task or with another architecture (e.g. initializing a BertForSequenceClassification model from a BertForPreTraining model).\n",
      "- This IS NOT expected if you are initializing BertForTokenClassification from the checkpoint of a model that you expect to be exactly identical (initializing a BertForSequenceClassification model from a BertForSequenceClassification model).\n",
      "Some weights of BertForTokenClassification were not initialized from the model checkpoint at /s/ls4/users/grartem/HuggingFace/models/rubert-tiny2 and are newly initialized: ['classifier.weight', 'classifier.bias']\n",
      "You should probably TRAIN this model on a down-stream task to be able to use it for predictions and inference.\n"
     ]
    }
   ],
   "source": [
    "from simpletransformers.ner import NERModel, NERArgs\n",
    "model_args = NERArgs()\n",
    "model_args.evaluate_during_training = True\n",
    "model_args.num_train_epochs = 10\n",
    "model_args.output_dir = \"/s/ls4/users/grartem/RL_robots/CommandClassifier/models/TokenCLS_sepPredictor_ipynb_Copy1_data3v2\"\n",
    "\n",
    "model = NERModel(\n",
    "    \"bert\", \n",
    "    \"/s/ls4/users/grartem/HuggingFace/models/rubert-tiny2\",\n",
    "    #\"/s/ls4/users/grartem/RL_robots/CommandClassifier/models/TokenCLS_sepPredictor_ipynb/checkpoint-20664-epoch-9/\",\n",
    "    args=model_args,\n",
    "    labels=[\"[CMD]\", \"[SEP]\",\"O\"]\n",
    ")"
   ]
  },
  {
   "cell_type": "code",
   "execution_count": 7,
   "metadata": {},
   "outputs": [
    {
     "data": {
      "application/vnd.jupyter.widget-view+json": {
       "model_id": "5bdff9f41a4a4ebab87fcce1f12c7bc0",
       "version_major": 2,
       "version_minor": 0
      },
      "text/plain": [
       "  0%|          | 0/29 [00:00<?, ?it/s]"
      ]
     },
     "metadata": {},
     "output_type": "display_data"
    },
    {
     "name": "stderr",
     "output_type": "stream",
     "text": [
      "/s/ls4/users/grartem/anaconda3/envs/simptr/lib/python3.8/site-packages/transformers/optimization.py:306: FutureWarning: This implementation of AdamW is deprecated and will be removed in a future version. Use the PyTorch implementation torch.optim.AdamW instead, or set `no_deprecation_warning=True` to disable this warning\n",
      "  warnings.warn(\n"
     ]
    },
    {
     "data": {
      "application/vnd.jupyter.widget-view+json": {
       "model_id": "1afa53df09214b02831136a1be0fde17",
       "version_major": 2,
       "version_minor": 0
      },
      "text/plain": [
       "Epoch:   0%|          | 0/10 [00:00<?, ?it/s]"
      ]
     },
     "metadata": {},
     "output_type": "display_data"
    },
    {
     "data": {
      "application/vnd.jupyter.widget-view+json": {
       "model_id": "c863e65c6223402ebee52173bff06916",
       "version_major": 2,
       "version_minor": 0
      },
      "text/plain": [
       "Running Epoch 0 of 10:   0%|          | 0/2264 [00:00<?, ?it/s]"
      ]
     },
     "metadata": {},
     "output_type": "display_data"
    },
    {
     "data": {
      "application/vnd.jupyter.widget-view+json": {
       "model_id": "2277251736b646b49842397af6eabfce",
       "version_major": 2,
       "version_minor": 0
      },
      "text/plain": [
       "  0%|          | 0/7 [00:00<?, ?it/s]"
      ]
     },
     "metadata": {},
     "output_type": "display_data"
    },
    {
     "data": {
      "application/vnd.jupyter.widget-view+json": {
       "model_id": "31c28b2a0ed04fa1b6a2db03505cc46d",
       "version_major": 2,
       "version_minor": 0
      },
      "text/plain": [
       "Running Evaluation:   0%|          | 0/380 [00:00<?, ?it/s]"
      ]
     },
     "metadata": {},
     "output_type": "display_data"
    },
    {
     "name": "stderr",
     "output_type": "stream",
     "text": [
      "/s/ls4/users/grartem/anaconda3/envs/simptr/lib/python3.8/site-packages/seqeval/metrics/sequence_labeling.py:171: UserWarning: [SEP] seems not to be NE tag.\n",
      "  warnings.warn('{} seems not to be NE tag.'.format(chunk))\n",
      "/s/ls4/users/grartem/anaconda3/envs/simptr/lib/python3.8/site-packages/seqeval/metrics/sequence_labeling.py:171: UserWarning: [CMD] seems not to be NE tag.\n",
      "  warnings.warn('{} seems not to be NE tag.'.format(chunk))\n"
     ]
    },
    {
     "data": {
      "application/vnd.jupyter.widget-view+json": {
       "model_id": "5dddd118be5f4df2b72ff7ec0d8510fc",
       "version_major": 2,
       "version_minor": 0
      },
      "text/plain": [
       "  0%|          | 0/7 [00:00<?, ?it/s]"
      ]
     },
     "metadata": {},
     "output_type": "display_data"
    },
    {
     "data": {
      "application/vnd.jupyter.widget-view+json": {
       "model_id": "3603ce7605f04b5d9109aa9a0326f009",
       "version_major": 2,
       "version_minor": 0
      },
      "text/plain": [
       "Running Evaluation:   0%|          | 0/380 [00:00<?, ?it/s]"
      ]
     },
     "metadata": {},
     "output_type": "display_data"
    },
    {
     "name": "stderr",
     "output_type": "stream",
     "text": [
      "/s/ls4/users/grartem/anaconda3/envs/simptr/lib/python3.8/site-packages/seqeval/metrics/sequence_labeling.py:171: UserWarning: [SEP] seems not to be NE tag.\n",
      "  warnings.warn('{} seems not to be NE tag.'.format(chunk))\n",
      "/s/ls4/users/grartem/anaconda3/envs/simptr/lib/python3.8/site-packages/seqeval/metrics/sequence_labeling.py:171: UserWarning: [CMD] seems not to be NE tag.\n",
      "  warnings.warn('{} seems not to be NE tag.'.format(chunk))\n"
     ]
    },
    {
     "data": {
      "application/vnd.jupyter.widget-view+json": {
       "model_id": "f42437d68ab84d19881213bba54f2a26",
       "version_major": 2,
       "version_minor": 0
      },
      "text/plain": [
       "Running Epoch 1 of 10:   0%|          | 0/2264 [00:00<?, ?it/s]"
      ]
     },
     "metadata": {},
     "output_type": "display_data"
    },
    {
     "data": {
      "application/vnd.jupyter.widget-view+json": {
       "model_id": "58716f8d646447069476bf9063cb8007",
       "version_major": 2,
       "version_minor": 0
      },
      "text/plain": [
       "  0%|          | 0/7 [00:00<?, ?it/s]"
      ]
     },
     "metadata": {},
     "output_type": "display_data"
    },
    {
     "data": {
      "application/vnd.jupyter.widget-view+json": {
       "model_id": "82c558aa6357436bb25cfa10e7fdcf07",
       "version_major": 2,
       "version_minor": 0
      },
      "text/plain": [
       "Running Evaluation:   0%|          | 0/380 [00:00<?, ?it/s]"
      ]
     },
     "metadata": {},
     "output_type": "display_data"
    },
    {
     "name": "stderr",
     "output_type": "stream",
     "text": [
      "/s/ls4/users/grartem/anaconda3/envs/simptr/lib/python3.8/site-packages/seqeval/metrics/sequence_labeling.py:171: UserWarning: [SEP] seems not to be NE tag.\n",
      "  warnings.warn('{} seems not to be NE tag.'.format(chunk))\n",
      "/s/ls4/users/grartem/anaconda3/envs/simptr/lib/python3.8/site-packages/seqeval/metrics/sequence_labeling.py:171: UserWarning: [CMD] seems not to be NE tag.\n",
      "  warnings.warn('{} seems not to be NE tag.'.format(chunk))\n"
     ]
    },
    {
     "data": {
      "application/vnd.jupyter.widget-view+json": {
       "model_id": "f6d43a96ac444513baadf8ecb7dd74ce",
       "version_major": 2,
       "version_minor": 0
      },
      "text/plain": [
       "  0%|          | 0/7 [00:00<?, ?it/s]"
      ]
     },
     "metadata": {},
     "output_type": "display_data"
    },
    {
     "data": {
      "application/vnd.jupyter.widget-view+json": {
       "model_id": "85eb4085d8cd4beaad2a501034f9a548",
       "version_major": 2,
       "version_minor": 0
      },
      "text/plain": [
       "Running Evaluation:   0%|          | 0/380 [00:00<?, ?it/s]"
      ]
     },
     "metadata": {},
     "output_type": "display_data"
    },
    {
     "name": "stderr",
     "output_type": "stream",
     "text": [
      "/s/ls4/users/grartem/anaconda3/envs/simptr/lib/python3.8/site-packages/seqeval/metrics/sequence_labeling.py:171: UserWarning: [SEP] seems not to be NE tag.\n",
      "  warnings.warn('{} seems not to be NE tag.'.format(chunk))\n",
      "/s/ls4/users/grartem/anaconda3/envs/simptr/lib/python3.8/site-packages/seqeval/metrics/sequence_labeling.py:171: UserWarning: [CMD] seems not to be NE tag.\n",
      "  warnings.warn('{} seems not to be NE tag.'.format(chunk))\n"
     ]
    },
    {
     "data": {
      "application/vnd.jupyter.widget-view+json": {
       "model_id": "c8ae7b472b23487aaec8e9bdb3d6bca0",
       "version_major": 2,
       "version_minor": 0
      },
      "text/plain": [
       "Running Epoch 2 of 10:   0%|          | 0/2264 [00:00<?, ?it/s]"
      ]
     },
     "metadata": {},
     "output_type": "display_data"
    },
    {
     "data": {
      "application/vnd.jupyter.widget-view+json": {
       "model_id": "03ec06c03e5a48c4b81d5ffe1b8c992d",
       "version_major": 2,
       "version_minor": 0
      },
      "text/plain": [
       "  0%|          | 0/7 [00:00<?, ?it/s]"
      ]
     },
     "metadata": {},
     "output_type": "display_data"
    },
    {
     "data": {
      "application/vnd.jupyter.widget-view+json": {
       "model_id": "3b8d94d4426a438594a41f68f19604ce",
       "version_major": 2,
       "version_minor": 0
      },
      "text/plain": [
       "Running Evaluation:   0%|          | 0/380 [00:00<?, ?it/s]"
      ]
     },
     "metadata": {},
     "output_type": "display_data"
    },
    {
     "name": "stderr",
     "output_type": "stream",
     "text": [
      "/s/ls4/users/grartem/anaconda3/envs/simptr/lib/python3.8/site-packages/seqeval/metrics/sequence_labeling.py:171: UserWarning: [SEP] seems not to be NE tag.\n",
      "  warnings.warn('{} seems not to be NE tag.'.format(chunk))\n",
      "/s/ls4/users/grartem/anaconda3/envs/simptr/lib/python3.8/site-packages/seqeval/metrics/sequence_labeling.py:171: UserWarning: [CMD] seems not to be NE tag.\n",
      "  warnings.warn('{} seems not to be NE tag.'.format(chunk))\n"
     ]
    },
    {
     "data": {
      "application/vnd.jupyter.widget-view+json": {
       "model_id": "7d06e378fd504bf0bb671de62758b88d",
       "version_major": 2,
       "version_minor": 0
      },
      "text/plain": [
       "  0%|          | 0/7 [00:00<?, ?it/s]"
      ]
     },
     "metadata": {},
     "output_type": "display_data"
    },
    {
     "data": {
      "application/vnd.jupyter.widget-view+json": {
       "model_id": "0a2a415a6bd14dc7b6a7af242c788c40",
       "version_major": 2,
       "version_minor": 0
      },
      "text/plain": [
       "Running Evaluation:   0%|          | 0/380 [00:00<?, ?it/s]"
      ]
     },
     "metadata": {},
     "output_type": "display_data"
    },
    {
     "name": "stderr",
     "output_type": "stream",
     "text": [
      "/s/ls4/users/grartem/anaconda3/envs/simptr/lib/python3.8/site-packages/seqeval/metrics/sequence_labeling.py:171: UserWarning: [SEP] seems not to be NE tag.\n",
      "  warnings.warn('{} seems not to be NE tag.'.format(chunk))\n",
      "/s/ls4/users/grartem/anaconda3/envs/simptr/lib/python3.8/site-packages/seqeval/metrics/sequence_labeling.py:171: UserWarning: [CMD] seems not to be NE tag.\n",
      "  warnings.warn('{} seems not to be NE tag.'.format(chunk))\n"
     ]
    },
    {
     "data": {
      "application/vnd.jupyter.widget-view+json": {
       "model_id": "837911be72bc4836a8e8b0f2a7ccd846",
       "version_major": 2,
       "version_minor": 0
      },
      "text/plain": [
       "Running Epoch 3 of 10:   0%|          | 0/2264 [00:00<?, ?it/s]"
      ]
     },
     "metadata": {},
     "output_type": "display_data"
    },
    {
     "data": {
      "application/vnd.jupyter.widget-view+json": {
       "model_id": "a34f8efbc4af43edb3edbf334a4f2040",
       "version_major": 2,
       "version_minor": 0
      },
      "text/plain": [
       "  0%|          | 0/7 [00:00<?, ?it/s]"
      ]
     },
     "metadata": {},
     "output_type": "display_data"
    },
    {
     "data": {
      "application/vnd.jupyter.widget-view+json": {
       "model_id": "d5f75c4cdef64353acad05a395ff7f5c",
       "version_major": 2,
       "version_minor": 0
      },
      "text/plain": [
       "Running Evaluation:   0%|          | 0/380 [00:00<?, ?it/s]"
      ]
     },
     "metadata": {},
     "output_type": "display_data"
    },
    {
     "name": "stderr",
     "output_type": "stream",
     "text": [
      "/s/ls4/users/grartem/anaconda3/envs/simptr/lib/python3.8/site-packages/seqeval/metrics/sequence_labeling.py:171: UserWarning: [SEP] seems not to be NE tag.\n",
      "  warnings.warn('{} seems not to be NE tag.'.format(chunk))\n",
      "/s/ls4/users/grartem/anaconda3/envs/simptr/lib/python3.8/site-packages/seqeval/metrics/sequence_labeling.py:171: UserWarning: [CMD] seems not to be NE tag.\n",
      "  warnings.warn('{} seems not to be NE tag.'.format(chunk))\n"
     ]
    },
    {
     "data": {
      "application/vnd.jupyter.widget-view+json": {
       "model_id": "651c4f73e55f40999ddc5d446aa8a274",
       "version_major": 2,
       "version_minor": 0
      },
      "text/plain": [
       "  0%|          | 0/7 [00:00<?, ?it/s]"
      ]
     },
     "metadata": {},
     "output_type": "display_data"
    },
    {
     "data": {
      "application/vnd.jupyter.widget-view+json": {
       "model_id": "b6ecf330006145aa9b3fbb3e6d989dff",
       "version_major": 2,
       "version_minor": 0
      },
      "text/plain": [
       "Running Evaluation:   0%|          | 0/380 [00:00<?, ?it/s]"
      ]
     },
     "metadata": {},
     "output_type": "display_data"
    },
    {
     "name": "stderr",
     "output_type": "stream",
     "text": [
      "/s/ls4/users/grartem/anaconda3/envs/simptr/lib/python3.8/site-packages/seqeval/metrics/sequence_labeling.py:171: UserWarning: [SEP] seems not to be NE tag.\n",
      "  warnings.warn('{} seems not to be NE tag.'.format(chunk))\n",
      "/s/ls4/users/grartem/anaconda3/envs/simptr/lib/python3.8/site-packages/seqeval/metrics/sequence_labeling.py:171: UserWarning: [CMD] seems not to be NE tag.\n",
      "  warnings.warn('{} seems not to be NE tag.'.format(chunk))\n"
     ]
    },
    {
     "data": {
      "application/vnd.jupyter.widget-view+json": {
       "model_id": "80817aa25a3d4192b5eeb005d6c84704",
       "version_major": 2,
       "version_minor": 0
      },
      "text/plain": [
       "Running Epoch 4 of 10:   0%|          | 0/2264 [00:00<?, ?it/s]"
      ]
     },
     "metadata": {},
     "output_type": "display_data"
    },
    {
     "data": {
      "application/vnd.jupyter.widget-view+json": {
       "model_id": "b114006f443544219153a07709f16507",
       "version_major": 2,
       "version_minor": 0
      },
      "text/plain": [
       "  0%|          | 0/7 [00:00<?, ?it/s]"
      ]
     },
     "metadata": {},
     "output_type": "display_data"
    },
    {
     "data": {
      "application/vnd.jupyter.widget-view+json": {
       "model_id": "5b7f81599fda49388b6cbf1c85cc2053",
       "version_major": 2,
       "version_minor": 0
      },
      "text/plain": [
       "Running Evaluation:   0%|          | 0/380 [00:00<?, ?it/s]"
      ]
     },
     "metadata": {},
     "output_type": "display_data"
    },
    {
     "name": "stderr",
     "output_type": "stream",
     "text": [
      "/s/ls4/users/grartem/anaconda3/envs/simptr/lib/python3.8/site-packages/seqeval/metrics/sequence_labeling.py:171: UserWarning: [SEP] seems not to be NE tag.\n",
      "  warnings.warn('{} seems not to be NE tag.'.format(chunk))\n",
      "/s/ls4/users/grartem/anaconda3/envs/simptr/lib/python3.8/site-packages/seqeval/metrics/sequence_labeling.py:171: UserWarning: [CMD] seems not to be NE tag.\n",
      "  warnings.warn('{} seems not to be NE tag.'.format(chunk))\n"
     ]
    },
    {
     "data": {
      "application/vnd.jupyter.widget-view+json": {
       "model_id": "6c134823e2db4ecbb9ace1c8b7a1b3a7",
       "version_major": 2,
       "version_minor": 0
      },
      "text/plain": [
       "  0%|          | 0/7 [00:00<?, ?it/s]"
      ]
     },
     "metadata": {},
     "output_type": "display_data"
    },
    {
     "data": {
      "application/vnd.jupyter.widget-view+json": {
       "model_id": "0886b3fb891d4c889ba0282d48454cfc",
       "version_major": 2,
       "version_minor": 0
      },
      "text/plain": [
       "Running Evaluation:   0%|          | 0/380 [00:00<?, ?it/s]"
      ]
     },
     "metadata": {},
     "output_type": "display_data"
    },
    {
     "name": "stderr",
     "output_type": "stream",
     "text": [
      "/s/ls4/users/grartem/anaconda3/envs/simptr/lib/python3.8/site-packages/seqeval/metrics/sequence_labeling.py:171: UserWarning: [SEP] seems not to be NE tag.\n",
      "  warnings.warn('{} seems not to be NE tag.'.format(chunk))\n",
      "/s/ls4/users/grartem/anaconda3/envs/simptr/lib/python3.8/site-packages/seqeval/metrics/sequence_labeling.py:171: UserWarning: [CMD] seems not to be NE tag.\n",
      "  warnings.warn('{} seems not to be NE tag.'.format(chunk))\n"
     ]
    },
    {
     "data": {
      "application/vnd.jupyter.widget-view+json": {
       "model_id": "10646734963944c9841df849ebec1918",
       "version_major": 2,
       "version_minor": 0
      },
      "text/plain": [
       "Running Epoch 5 of 10:   0%|          | 0/2264 [00:00<?, ?it/s]"
      ]
     },
     "metadata": {},
     "output_type": "display_data"
    },
    {
     "data": {
      "application/vnd.jupyter.widget-view+json": {
       "model_id": "e7e5f76e167c4013aa6ddd2bf0cfff9f",
       "version_major": 2,
       "version_minor": 0
      },
      "text/plain": [
       "  0%|          | 0/7 [00:00<?, ?it/s]"
      ]
     },
     "metadata": {},
     "output_type": "display_data"
    },
    {
     "data": {
      "application/vnd.jupyter.widget-view+json": {
       "model_id": "7f1c9a77161044d5a5093d0574343fd1",
       "version_major": 2,
       "version_minor": 0
      },
      "text/plain": [
       "Running Evaluation:   0%|          | 0/380 [00:00<?, ?it/s]"
      ]
     },
     "metadata": {},
     "output_type": "display_data"
    },
    {
     "name": "stderr",
     "output_type": "stream",
     "text": [
      "/s/ls4/users/grartem/anaconda3/envs/simptr/lib/python3.8/site-packages/seqeval/metrics/sequence_labeling.py:171: UserWarning: [SEP] seems not to be NE tag.\n",
      "  warnings.warn('{} seems not to be NE tag.'.format(chunk))\n",
      "/s/ls4/users/grartem/anaconda3/envs/simptr/lib/python3.8/site-packages/seqeval/metrics/sequence_labeling.py:171: UserWarning: [CMD] seems not to be NE tag.\n",
      "  warnings.warn('{} seems not to be NE tag.'.format(chunk))\n"
     ]
    },
    {
     "data": {
      "application/vnd.jupyter.widget-view+json": {
       "model_id": "fea6614ed8d14d36bbfaa2c074a9305c",
       "version_major": 2,
       "version_minor": 0
      },
      "text/plain": [
       "  0%|          | 0/7 [00:00<?, ?it/s]"
      ]
     },
     "metadata": {},
     "output_type": "display_data"
    },
    {
     "data": {
      "application/vnd.jupyter.widget-view+json": {
       "model_id": "2105206296694637a48b97634836bb8b",
       "version_major": 2,
       "version_minor": 0
      },
      "text/plain": [
       "Running Evaluation:   0%|          | 0/380 [00:00<?, ?it/s]"
      ]
     },
     "metadata": {},
     "output_type": "display_data"
    },
    {
     "name": "stderr",
     "output_type": "stream",
     "text": [
      "/s/ls4/users/grartem/anaconda3/envs/simptr/lib/python3.8/site-packages/seqeval/metrics/sequence_labeling.py:171: UserWarning: [SEP] seems not to be NE tag.\n",
      "  warnings.warn('{} seems not to be NE tag.'.format(chunk))\n",
      "/s/ls4/users/grartem/anaconda3/envs/simptr/lib/python3.8/site-packages/seqeval/metrics/sequence_labeling.py:171: UserWarning: [CMD] seems not to be NE tag.\n",
      "  warnings.warn('{} seems not to be NE tag.'.format(chunk))\n"
     ]
    },
    {
     "data": {
      "application/vnd.jupyter.widget-view+json": {
       "model_id": "5fccba90cdad4357bd9d2307909f3c32",
       "version_major": 2,
       "version_minor": 0
      },
      "text/plain": [
       "Running Epoch 6 of 10:   0%|          | 0/2264 [00:00<?, ?it/s]"
      ]
     },
     "metadata": {},
     "output_type": "display_data"
    },
    {
     "data": {
      "application/vnd.jupyter.widget-view+json": {
       "model_id": "8be4f9eb100c44b1bdaf68ec916d3cb3",
       "version_major": 2,
       "version_minor": 0
      },
      "text/plain": [
       "  0%|          | 0/7 [00:00<?, ?it/s]"
      ]
     },
     "metadata": {},
     "output_type": "display_data"
    },
    {
     "data": {
      "application/vnd.jupyter.widget-view+json": {
       "model_id": "8647a626a9c6403b90e3ce50b5e39049",
       "version_major": 2,
       "version_minor": 0
      },
      "text/plain": [
       "Running Evaluation:   0%|          | 0/380 [00:00<?, ?it/s]"
      ]
     },
     "metadata": {},
     "output_type": "display_data"
    },
    {
     "name": "stderr",
     "output_type": "stream",
     "text": [
      "/s/ls4/users/grartem/anaconda3/envs/simptr/lib/python3.8/site-packages/seqeval/metrics/sequence_labeling.py:171: UserWarning: [SEP] seems not to be NE tag.\n",
      "  warnings.warn('{} seems not to be NE tag.'.format(chunk))\n",
      "/s/ls4/users/grartem/anaconda3/envs/simptr/lib/python3.8/site-packages/seqeval/metrics/sequence_labeling.py:171: UserWarning: [CMD] seems not to be NE tag.\n",
      "  warnings.warn('{} seems not to be NE tag.'.format(chunk))\n"
     ]
    },
    {
     "data": {
      "application/vnd.jupyter.widget-view+json": {
       "model_id": "5c84067a111f41369bc71628847894db",
       "version_major": 2,
       "version_minor": 0
      },
      "text/plain": [
       "  0%|          | 0/7 [00:00<?, ?it/s]"
      ]
     },
     "metadata": {},
     "output_type": "display_data"
    },
    {
     "data": {
      "application/vnd.jupyter.widget-view+json": {
       "model_id": "cd6788d6038a4ef0834a8f5c50100c68",
       "version_major": 2,
       "version_minor": 0
      },
      "text/plain": [
       "Running Evaluation:   0%|          | 0/380 [00:00<?, ?it/s]"
      ]
     },
     "metadata": {},
     "output_type": "display_data"
    },
    {
     "name": "stderr",
     "output_type": "stream",
     "text": [
      "/s/ls4/users/grartem/anaconda3/envs/simptr/lib/python3.8/site-packages/seqeval/metrics/sequence_labeling.py:171: UserWarning: [SEP] seems not to be NE tag.\n",
      "  warnings.warn('{} seems not to be NE tag.'.format(chunk))\n",
      "/s/ls4/users/grartem/anaconda3/envs/simptr/lib/python3.8/site-packages/seqeval/metrics/sequence_labeling.py:171: UserWarning: [CMD] seems not to be NE tag.\n",
      "  warnings.warn('{} seems not to be NE tag.'.format(chunk))\n"
     ]
    },
    {
     "data": {
      "application/vnd.jupyter.widget-view+json": {
       "model_id": "fdbf7b62e03c4d37957c464d41148e23",
       "version_major": 2,
       "version_minor": 0
      },
      "text/plain": [
       "Running Epoch 7 of 10:   0%|          | 0/2264 [00:00<?, ?it/s]"
      ]
     },
     "metadata": {},
     "output_type": "display_data"
    },
    {
     "data": {
      "application/vnd.jupyter.widget-view+json": {
       "model_id": "2416e77778d547a4b616730399aa5e4c",
       "version_major": 2,
       "version_minor": 0
      },
      "text/plain": [
       "  0%|          | 0/7 [00:00<?, ?it/s]"
      ]
     },
     "metadata": {},
     "output_type": "display_data"
    },
    {
     "data": {
      "application/vnd.jupyter.widget-view+json": {
       "model_id": "95763bd18f5f47ee83daae0378d8f7b9",
       "version_major": 2,
       "version_minor": 0
      },
      "text/plain": [
       "Running Evaluation:   0%|          | 0/380 [00:00<?, ?it/s]"
      ]
     },
     "metadata": {},
     "output_type": "display_data"
    },
    {
     "name": "stderr",
     "output_type": "stream",
     "text": [
      "/s/ls4/users/grartem/anaconda3/envs/simptr/lib/python3.8/site-packages/seqeval/metrics/sequence_labeling.py:171: UserWarning: [SEP] seems not to be NE tag.\n",
      "  warnings.warn('{} seems not to be NE tag.'.format(chunk))\n",
      "/s/ls4/users/grartem/anaconda3/envs/simptr/lib/python3.8/site-packages/seqeval/metrics/sequence_labeling.py:171: UserWarning: [CMD] seems not to be NE tag.\n",
      "  warnings.warn('{} seems not to be NE tag.'.format(chunk))\n"
     ]
    },
    {
     "data": {
      "application/vnd.jupyter.widget-view+json": {
       "model_id": "ee69f515bad04930bef8c6982ccc3945",
       "version_major": 2,
       "version_minor": 0
      },
      "text/plain": [
       "  0%|          | 0/7 [00:00<?, ?it/s]"
      ]
     },
     "metadata": {},
     "output_type": "display_data"
    },
    {
     "data": {
      "application/vnd.jupyter.widget-view+json": {
       "model_id": "ae41b189b3314e4abd64335fdc401ad2",
       "version_major": 2,
       "version_minor": 0
      },
      "text/plain": [
       "Running Evaluation:   0%|          | 0/380 [00:00<?, ?it/s]"
      ]
     },
     "metadata": {},
     "output_type": "display_data"
    },
    {
     "name": "stderr",
     "output_type": "stream",
     "text": [
      "/s/ls4/users/grartem/anaconda3/envs/simptr/lib/python3.8/site-packages/seqeval/metrics/sequence_labeling.py:171: UserWarning: [SEP] seems not to be NE tag.\n",
      "  warnings.warn('{} seems not to be NE tag.'.format(chunk))\n",
      "/s/ls4/users/grartem/anaconda3/envs/simptr/lib/python3.8/site-packages/seqeval/metrics/sequence_labeling.py:171: UserWarning: [CMD] seems not to be NE tag.\n",
      "  warnings.warn('{} seems not to be NE tag.'.format(chunk))\n"
     ]
    },
    {
     "data": {
      "application/vnd.jupyter.widget-view+json": {
       "model_id": "4d40cf12e9104dbcae5ceed1e47fb2fc",
       "version_major": 2,
       "version_minor": 0
      },
      "text/plain": [
       "  0%|          | 0/7 [00:00<?, ?it/s]"
      ]
     },
     "metadata": {},
     "output_type": "display_data"
    },
    {
     "data": {
      "application/vnd.jupyter.widget-view+json": {
       "model_id": "a433380571144057b2fa35e1a8e673b4",
       "version_major": 2,
       "version_minor": 0
      },
      "text/plain": [
       "Running Evaluation:   0%|          | 0/380 [00:00<?, ?it/s]"
      ]
     },
     "metadata": {},
     "output_type": "display_data"
    },
    {
     "name": "stderr",
     "output_type": "stream",
     "text": [
      "/s/ls4/users/grartem/anaconda3/envs/simptr/lib/python3.8/site-packages/seqeval/metrics/sequence_labeling.py:171: UserWarning: [SEP] seems not to be NE tag.\n",
      "  warnings.warn('{} seems not to be NE tag.'.format(chunk))\n",
      "/s/ls4/users/grartem/anaconda3/envs/simptr/lib/python3.8/site-packages/seqeval/metrics/sequence_labeling.py:171: UserWarning: [CMD] seems not to be NE tag.\n",
      "  warnings.warn('{} seems not to be NE tag.'.format(chunk))\n"
     ]
    },
    {
     "data": {
      "application/vnd.jupyter.widget-view+json": {
       "model_id": "4b0e466e65c74a6297d7f31e1e442d75",
       "version_major": 2,
       "version_minor": 0
      },
      "text/plain": [
       "Running Epoch 8 of 10:   0%|          | 0/2264 [00:00<?, ?it/s]"
      ]
     },
     "metadata": {},
     "output_type": "display_data"
    },
    {
     "data": {
      "application/vnd.jupyter.widget-view+json": {
       "model_id": "d994b91680f6489a8e9e148cc3fa1c74",
       "version_major": 2,
       "version_minor": 0
      },
      "text/plain": [
       "  0%|          | 0/7 [00:00<?, ?it/s]"
      ]
     },
     "metadata": {},
     "output_type": "display_data"
    },
    {
     "data": {
      "application/vnd.jupyter.widget-view+json": {
       "model_id": "44cb7f2004a3454fbc8c6ae8fcb86293",
       "version_major": 2,
       "version_minor": 0
      },
      "text/plain": [
       "Running Evaluation:   0%|          | 0/380 [00:00<?, ?it/s]"
      ]
     },
     "metadata": {},
     "output_type": "display_data"
    },
    {
     "name": "stderr",
     "output_type": "stream",
     "text": [
      "/s/ls4/users/grartem/anaconda3/envs/simptr/lib/python3.8/site-packages/seqeval/metrics/sequence_labeling.py:171: UserWarning: [SEP] seems not to be NE tag.\n",
      "  warnings.warn('{} seems not to be NE tag.'.format(chunk))\n",
      "/s/ls4/users/grartem/anaconda3/envs/simptr/lib/python3.8/site-packages/seqeval/metrics/sequence_labeling.py:171: UserWarning: [CMD] seems not to be NE tag.\n",
      "  warnings.warn('{} seems not to be NE tag.'.format(chunk))\n"
     ]
    },
    {
     "data": {
      "application/vnd.jupyter.widget-view+json": {
       "model_id": "ab616381a15c406f9761c2af8f53a888",
       "version_major": 2,
       "version_minor": 0
      },
      "text/plain": [
       "  0%|          | 0/7 [00:00<?, ?it/s]"
      ]
     },
     "metadata": {},
     "output_type": "display_data"
    },
    {
     "data": {
      "application/vnd.jupyter.widget-view+json": {
       "model_id": "c84544d230ef4723a2a1d50cc5b016c7",
       "version_major": 2,
       "version_minor": 0
      },
      "text/plain": [
       "Running Evaluation:   0%|          | 0/380 [00:00<?, ?it/s]"
      ]
     },
     "metadata": {},
     "output_type": "display_data"
    },
    {
     "name": "stderr",
     "output_type": "stream",
     "text": [
      "/s/ls4/users/grartem/anaconda3/envs/simptr/lib/python3.8/site-packages/seqeval/metrics/sequence_labeling.py:171: UserWarning: [SEP] seems not to be NE tag.\n",
      "  warnings.warn('{} seems not to be NE tag.'.format(chunk))\n",
      "/s/ls4/users/grartem/anaconda3/envs/simptr/lib/python3.8/site-packages/seqeval/metrics/sequence_labeling.py:171: UserWarning: [CMD] seems not to be NE tag.\n",
      "  warnings.warn('{} seems not to be NE tag.'.format(chunk))\n"
     ]
    },
    {
     "data": {
      "application/vnd.jupyter.widget-view+json": {
       "model_id": "4b85c2f6eb7d4b6fb526ffa047fb9339",
       "version_major": 2,
       "version_minor": 0
      },
      "text/plain": [
       "Running Epoch 9 of 10:   0%|          | 0/2264 [00:00<?, ?it/s]"
      ]
     },
     "metadata": {},
     "output_type": "display_data"
    },
    {
     "data": {
      "application/vnd.jupyter.widget-view+json": {
       "model_id": "2a77c48497f241919d07bf567809404a",
       "version_major": 2,
       "version_minor": 0
      },
      "text/plain": [
       "  0%|          | 0/7 [00:00<?, ?it/s]"
      ]
     },
     "metadata": {},
     "output_type": "display_data"
    },
    {
     "data": {
      "application/vnd.jupyter.widget-view+json": {
       "model_id": "b8c8060128444fd697267466fa02ba34",
       "version_major": 2,
       "version_minor": 0
      },
      "text/plain": [
       "Running Evaluation:   0%|          | 0/380 [00:00<?, ?it/s]"
      ]
     },
     "metadata": {},
     "output_type": "display_data"
    },
    {
     "name": "stderr",
     "output_type": "stream",
     "text": [
      "/s/ls4/users/grartem/anaconda3/envs/simptr/lib/python3.8/site-packages/seqeval/metrics/sequence_labeling.py:171: UserWarning: [SEP] seems not to be NE tag.\n",
      "  warnings.warn('{} seems not to be NE tag.'.format(chunk))\n",
      "/s/ls4/users/grartem/anaconda3/envs/simptr/lib/python3.8/site-packages/seqeval/metrics/sequence_labeling.py:171: UserWarning: [CMD] seems not to be NE tag.\n",
      "  warnings.warn('{} seems not to be NE tag.'.format(chunk))\n"
     ]
    },
    {
     "data": {
      "application/vnd.jupyter.widget-view+json": {
       "model_id": "fd61d5a6014a4950b5911fd474f2dece",
       "version_major": 2,
       "version_minor": 0
      },
      "text/plain": [
       "  0%|          | 0/7 [00:00<?, ?it/s]"
      ]
     },
     "metadata": {},
     "output_type": "display_data"
    },
    {
     "data": {
      "application/vnd.jupyter.widget-view+json": {
       "model_id": "04104c892efb4639842db718e93e7811",
       "version_major": 2,
       "version_minor": 0
      },
      "text/plain": [
       "Running Evaluation:   0%|          | 0/380 [00:00<?, ?it/s]"
      ]
     },
     "metadata": {},
     "output_type": "display_data"
    },
    {
     "name": "stderr",
     "output_type": "stream",
     "text": [
      "/s/ls4/users/grartem/anaconda3/envs/simptr/lib/python3.8/site-packages/seqeval/metrics/sequence_labeling.py:171: UserWarning: [SEP] seems not to be NE tag.\n",
      "  warnings.warn('{} seems not to be NE tag.'.format(chunk))\n",
      "/s/ls4/users/grartem/anaconda3/envs/simptr/lib/python3.8/site-packages/seqeval/metrics/sequence_labeling.py:171: UserWarning: [CMD] seems not to be NE tag.\n",
      "  warnings.warn('{} seems not to be NE tag.'.format(chunk))\n"
     ]
    },
    {
     "data": {
      "text/plain": [
       "(22640,\n",
       " defaultdict(list,\n",
       "             {'global_step': [2000,\n",
       "               2264,\n",
       "               4000,\n",
       "               4528,\n",
       "               6000,\n",
       "               6792,\n",
       "               8000,\n",
       "               9056,\n",
       "               10000,\n",
       "               11320,\n",
       "               12000,\n",
       "               13584,\n",
       "               14000,\n",
       "               15848,\n",
       "               16000,\n",
       "               18000,\n",
       "               18112,\n",
       "               20000,\n",
       "               20376,\n",
       "               22000,\n",
       "               22640],\n",
       "              'train_loss': [0.03387736901640892,\n",
       "               0.0007173155900090933,\n",
       "               0.00029832852305844426,\n",
       "               0.0001819054305087775,\n",
       "               7.245669257827103e-05,\n",
       "               5.845365740242414e-05,\n",
       "               5.360653449315578e-05,\n",
       "               4.220008850097656e-05,\n",
       "               2.2140204237075523e-05,\n",
       "               1.5078364413056988e-05,\n",
       "               1.055002212524414e-05,\n",
       "               1.0685920642572455e-05,\n",
       "               1.5831217751838267e-05,\n",
       "               6.254329036892159e-06,\n",
       "               2.8670461688307114e-05,\n",
       "               7.013662070676219e-06,\n",
       "               4.327658643887844e-06,\n",
       "               4.12617964684614e-06,\n",
       "               4.254538453096757e-06,\n",
       "               3.6304647892393405e-06,\n",
       "               3.6190717764839064e-06],\n",
       "              'eval_loss': [0.006158578183768489,\n",
       "               0.0029507395888733875,\n",
       "               0.00189195332652736,\n",
       "               0.001534284771256161,\n",
       "               0.001274130495183176,\n",
       "               0.0006661230155115941,\n",
       "               0.0010452692490281678,\n",
       "               0.0013262561450741678,\n",
       "               0.0007184316118929546,\n",
       "               0.0006111699191514593,\n",
       "               0.0010803421560359838,\n",
       "               0.0005115324869220067,\n",
       "               0.0005783348560480829,\n",
       "               0.0006668589916001254,\n",
       "               0.00043852578010106105,\n",
       "               0.0005867647061659466,\n",
       "               0.0005677196531397193,\n",
       "               0.0007649449635867935,\n",
       "               0.0007105443835003275,\n",
       "               0.0008942188638615645,\n",
       "               0.0008904987916181247],\n",
       "              'precision': [0.9904937701892017,\n",
       "               0.9966691339748335,\n",
       "               0.9970416936303966,\n",
       "               0.9977796280877047,\n",
       "               0.9985193411067925,\n",
       "               0.9987975210433817,\n",
       "               0.9987047830511611,\n",
       "               0.9983359526670981,\n",
       "               0.9991672064402702,\n",
       "               0.9990748450365436,\n",
       "               0.9986109824983794,\n",
       "               0.9995375080936083,\n",
       "               0.9992601498196615,\n",
       "               0.9992596020360944,\n",
       "               0.9996300749098308,\n",
       "               0.9995375080936083,\n",
       "               0.9995375080936083,\n",
       "               0.9987975210433817,\n",
       "               0.9989828941285251,\n",
       "               0.9988902247294923,\n",
       "               0.9988902247294923],\n",
       "              'recall': [0.9922337278106509,\n",
       "               0.9959319526627219,\n",
       "               0.997133875739645,\n",
       "               0.997133875739645,\n",
       "               0.9975961538461539,\n",
       "               0.9983357988165681,\n",
       "               0.9980584319526628,\n",
       "               0.9984282544378699,\n",
       "               0.9983357988165681,\n",
       "               0.9984282544378699,\n",
       "               0.9970414201183432,\n",
       "               0.9990754437869822,\n",
       "               0.9989829881656804,\n",
       "               0.9982433431952663,\n",
       "               0.9993528106508875,\n",
       "               0.9990754437869822,\n",
       "               0.9990754437869822,\n",
       "               0.9983357988165681,\n",
       "               0.9988905325443787,\n",
       "               0.9986131656804734,\n",
       "               0.9986131656804734],\n",
       "              'f1_score': [0.991362985543393,\n",
       "               0.9963004069552349,\n",
       "               0.9970877825544308,\n",
       "               0.997456647398844,\n",
       "               0.9980575339931551,\n",
       "               0.998566606556619,\n",
       "               0.9983815028901735,\n",
       "               0.9983821014191282,\n",
       "               0.9987513296027378,\n",
       "               0.9987514450867051,\n",
       "               0.997825584085126,\n",
       "               0.9993064225273963,\n",
       "               0.9991215497711405,\n",
       "               0.9987512140974054,\n",
       "               0.9994914235517129,\n",
       "               0.9993064225273963,\n",
       "               0.9993064225273963,\n",
       "               0.998566606556619,\n",
       "               0.9989367112015162,\n",
       "               0.9987516759905682,\n",
       "               0.9987516759905682]}))"
      ]
     },
     "execution_count": 7,
     "metadata": {},
     "output_type": "execute_result"
    }
   ],
   "source": [
    "# Train the model\n",
    "model.train_model(train_df, eval_data=valid_df)"
   ]
  },
  {
   "cell_type": "code",
   "execution_count": 8,
   "metadata": {},
   "outputs": [
    {
     "data": {
      "application/vnd.jupyter.widget-view+json": {
       "model_id": "35ac1bc5befa4ee49584f5831cefa397",
       "version_major": 2,
       "version_minor": 0
      },
      "text/plain": [
       "  0%|          | 0/7 [00:00<?, ?it/s]"
      ]
     },
     "metadata": {},
     "output_type": "display_data"
    },
    {
     "data": {
      "application/vnd.jupyter.widget-view+json": {
       "model_id": "b23cf58c5f8c4ae98d5b3ed23f8376c2",
       "version_major": 2,
       "version_minor": 0
      },
      "text/plain": [
       "Running Evaluation:   0%|          | 0/380 [00:00<?, ?it/s]"
      ]
     },
     "metadata": {},
     "output_type": "display_data"
    },
    {
     "name": "stderr",
     "output_type": "stream",
     "text": [
      "/s/ls4/users/grartem/anaconda3/envs/simptr/lib/python3.8/site-packages/seqeval/metrics/sequence_labeling.py:171: UserWarning: [SEP] seems not to be NE tag.\n",
      "  warnings.warn('{} seems not to be NE tag.'.format(chunk))\n",
      "/s/ls4/users/grartem/anaconda3/envs/simptr/lib/python3.8/site-packages/seqeval/metrics/sequence_labeling.py:171: UserWarning: [CMD] seems not to be NE tag.\n",
      "  warnings.warn('{} seems not to be NE tag.'.format(chunk))\n"
     ]
    }
   ],
   "source": [
    "# Evaluate the model\n",
    "result, model_outputs, preds_list = model.eval_model(valid_df)"
   ]
  },
  {
   "cell_type": "code",
   "execution_count": 20,
   "metadata": {},
   "outputs": [
    {
     "data": {
      "application/vnd.jupyter.widget-view+json": {
       "model_id": "9f2fdf84d454418d9431565c0ad1c3c7",
       "version_major": 2,
       "version_minor": 0
      },
      "text/plain": [
       "  0%|          | 0/7 [00:00<?, ?it/s]"
      ]
     },
     "metadata": {},
     "output_type": "display_data"
    },
    {
     "data": {
      "application/vnd.jupyter.widget-view+json": {
       "model_id": "b0df050f32ab4f6fb71888ed287b3484",
       "version_major": 2,
       "version_minor": 0
      },
      "text/plain": [
       "Running Prediction:   0%|          | 0/380 [00:00<?, ?it/s]"
      ]
     },
     "metadata": {},
     "output_type": "display_data"
    }
   ],
   "source": [
    "predictions, raw_outputs = model.predict(df[df[\"subset\"]==\"valid\"][\"full_text\"])"
   ]
  },
  {
   "cell_type": "markdown",
   "metadata": {},
   "source": [
    "# оценка"
   ]
  },
  {
   "cell_type": "code",
   "execution_count": 21,
   "metadata": {},
   "outputs": [
    {
     "name": "stdout",
     "output_type": "stream",
     "text": [
      "              precision    recall  f1-score   support\n",
      "\n",
      "           O       1.00      1.00      1.00      2959\n",
      "       [CMD]       1.00      1.00      1.00     23669\n",
      "       [SEP]       1.00      1.00      1.00      5473\n",
      "\n",
      "    accuracy                           1.00     32101\n",
      "   macro avg       1.00      1.00      1.00     32101\n",
      "weighted avg       1.00      1.00      1.00     32101\n",
      "\n"
     ]
    }
   ],
   "source": [
    "from sklearn.metrics import classification_report\n",
    "flat_token_predictions = [list(x.values())[0] for sent in predictions for x in sent]\n",
    "flat_token_true = valid_df[\"labels\"].values\n",
    "print(classification_report(flat_token_true, flat_token_predictions))"
   ]
  },
  {
   "cell_type": "code",
   "execution_count": 22,
   "metadata": {},
   "outputs": [
    {
     "name": "stdout",
     "output_type": "stream",
     "text": [
      "full_text: обнаружь железного коня спереди от лесополосы находящуюся сзади от булыжника по прошествии времени справа от лесополосы находится светильник который приказывается рассмотреть\n",
      "text1: обнаружь железного коня спереди от лесополосы находящуюся сзади от булыжника predict: обнаружь железного коня\n",
      "text2: справа от лесополосы находится светильник который приказывается рассмотреть predict: спереди от лесополосы находящуюся сзади от булыжника\n",
      "text3: nan predict: справа от лесополосы находится светильник который приказывается рассмотреть\n",
      "\n",
      "full_text: сделай поворот до канавы передохни с течением времени приспевай назад\n",
      "text1: сделай поворот до канавы predict: сделай поворот до канавы передохни\n",
      "text2: передохни predict: приспевай назад\n",
      "text3: приспевай назад predict: \n",
      "\n",
      "full_text: начни поворачивать 343° немного погодя стоять правее дерева располагается тачка к которой приказывается плыть\n",
      "text1: начни поворачивать 343° predict: начни поворачивать 343°\n",
      "text2: стоять predict: стоять правее дерева располагается тачка к которой приказывается плыть\n",
      "text3: правее дерева располагается тачка к которой приказывается плыть predict: \n",
      "\n",
      "full_text: спереди от срубленного дерева располагается ольха которую умоляют найти ваша остановка опосля осуществляй обход местности по орбите радиуса 23м\n",
      "text1: спереди от срубленного дерева располагается ольха которую умоляют найти predict: спереди от срубленного дерева располагается ольха которую умоляют найти ваша остановка\n",
      "text2: ваша остановка predict: осуществляй обход местности по орбите радиуса 23м\n",
      "text3: осуществляй обход местности по орбите радиуса 23м predict: \n",
      "\n",
      "full_text: слева от сваленного дерева располагается барьер который просят обскакивать отгреби в северную сторону после сними с паузы\n",
      "text1: слева от сваленного дерева располагается барьер который просят обскакивать predict: слева от сваленного дерева располагается барьер который просят обскакивать отгреби в северную сторону\n",
      "text2: отгреби в северную сторону predict: сними с паузы\n",
      "text3: сними с паузы predict: \n",
      "\n",
      "full_text: отбеги в южную сторону на 55м правее горы железный конь которого требуется отыскать после этого притормози\n",
      "text1: отбеги в южную сторону на 55м predict: отбеги в южную сторону на 55м правее горы железный конь которого требуется отыскать\n",
      "text2: правее горы железный конь которого требуется отыскать predict: притормози\n",
      "text3: притормози predict: \n",
      "\n",
      "full_text: найди камушек рядом с рощей что находится левее пьяного человека\n",
      "text1: найди камушек рядом с рощей что находится левее пьяного человека predict: найди камушек\n",
      "text2: 6.31384346900109e-32 predict: рядом с рощей что находится левее пьяного человека\n",
      "text3: 6.31384346900109e-32 predict: \n",
      "\n",
      "Errors 7\n"
     ]
    }
   ],
   "source": [
    "i, errors = 0, 0\n",
    "for ir, row in df[df[\"subset\"]==\"valid\"].iterrows():\n",
    "    text1, text2, text3 = [], [], []\n",
    "    cmd_i = 0\n",
    "    for token in predictions[i]:\n",
    "        token, cls = list(token.items())[0]\n",
    "        if cls==\"O\":\n",
    "            continue\n",
    "        if cmd_i==0:\n",
    "            text1.append(token)\n",
    "        elif cmd_i==1:\n",
    "            text2.append(token)\n",
    "        elif cmd_i==2:\n",
    "            text3.append(token)\n",
    "        if cls==\"[SEP]\":\n",
    "            cmd_i += 1\n",
    "    text1 = \" \".join(text1)\n",
    "    text2 = \" \".join(text2)\n",
    "    text3 = \" \".join(text3)\n",
    "    \n",
    "    try:\n",
    "        assert row[\"text1\"].strip() in text1\n",
    "        assert (text2==\"\" and type(row[\"text2\"]) is float) or row[\"text2\"].strip() in text2\n",
    "        assert (text3==\"\" and type(row[\"text3\"]) is float) or row[\"text3\"].strip() in text3\n",
    "        #assert (text3==\"\" and np.isnan(row[\"text3\"])) or text3 == row[\"text3\"].strip()\n",
    "    except AssertionError:\n",
    "        print(\"full_text:\", row[\"full_text\"])\n",
    "        print(\"text1:\", row[\"text1\"], \"predict:\", text1)\n",
    "        print(\"text2:\", row[\"text2\"], \"predict:\", text2)\n",
    "        print(\"text3:\", row[\"text3\"], \"predict:\", text3)\n",
    "        print()\n",
    "        errors += 1\n",
    "    i+=1\n",
    "print(\"Errors\", errors)"
   ]
  },
  {
   "cell_type": "markdown",
   "metadata": {},
   "source": [
    "# проверим, как она хорошо предсказывает фразы из 1 команды, если не видела их"
   ]
  },
  {
   "cell_type": "code",
   "execution_count": 23,
   "metadata": {},
   "outputs": [
    {
     "data": {
      "application/vnd.jupyter.widget-view+json": {
       "model_id": "563b57274c27485493af81414b4f63c9",
       "version_major": 2,
       "version_minor": 0
      },
      "text/plain": [
       "  0%|          | 0/29 [00:00<?, ?it/s]"
      ]
     },
     "metadata": {},
     "output_type": "display_data"
    },
    {
     "data": {
      "application/vnd.jupyter.widget-view+json": {
       "model_id": "855c979c245c48779c26fa483ce927ae",
       "version_major": 2,
       "version_minor": 0
      },
      "text/plain": [
       "Running Prediction:   0%|          | 0/7136 [00:00<?, ?it/s]"
      ]
     },
     "metadata": {},
     "output_type": "display_data"
    }
   ],
   "source": [
    "df = pd.read_csv(\"../Data/Interim/one_cmd_v3_03062022_low_split.csv\", sep=\",\")\n",
    "predictions, raw_outputs = model.predict(df[\"x\"])"
   ]
  },
  {
   "cell_type": "code",
   "execution_count": 24,
   "metadata": {},
   "outputs": [
    {
     "data": {
      "text/plain": [
       "(295, 57085)"
      ]
     },
     "execution_count": 24,
     "metadata": {},
     "output_type": "execute_result"
    }
   ],
   "source": [
    "errors_count = 0\n",
    "for phrase in predictions:\n",
    "    classes = [list(x.values())[0] for x in phrase]\n",
    "    if classes[-1]==\"[SEP]\" and len([x for x in classes if x==\"[SEP]\"])==1:\n",
    "        continue\n",
    "    else:\n",
    "        errors_count+=1\n",
    "errors_count, len(predictions)"
   ]
  },
  {
   "cell_type": "code",
   "execution_count": null,
   "metadata": {},
   "outputs": [],
   "source": []
  },
  {
   "cell_type": "code",
   "execution_count": null,
   "metadata": {},
   "outputs": [],
   "source": []
  },
  {
   "cell_type": "code",
   "execution_count": 6,
   "metadata": {
    "scrolled": true
   },
   "outputs": [
    {
     "data": {
      "text/plain": [
       "BertForTokenClassification(\n",
       "  (bert): BertModel(\n",
       "    (embeddings): BertEmbeddings(\n",
       "      (word_embeddings): Embedding(83828, 312, padding_idx=0)\n",
       "      (position_embeddings): Embedding(2048, 312)\n",
       "      (token_type_embeddings): Embedding(2, 312)\n",
       "      (LayerNorm): LayerNorm((312,), eps=1e-12, elementwise_affine=True)\n",
       "      (dropout): Dropout(p=0.1, inplace=False)\n",
       "    )\n",
       "    (encoder): BertEncoder(\n",
       "      (layer): ModuleList(\n",
       "        (0): BertLayer(\n",
       "          (attention): BertAttention(\n",
       "            (self): BertSelfAttention(\n",
       "              (query): Linear(in_features=312, out_features=312, bias=True)\n",
       "              (key): Linear(in_features=312, out_features=312, bias=True)\n",
       "              (value): Linear(in_features=312, out_features=312, bias=True)\n",
       "              (dropout): Dropout(p=0.1, inplace=False)\n",
       "            )\n",
       "            (output): BertSelfOutput(\n",
       "              (dense): Linear(in_features=312, out_features=312, bias=True)\n",
       "              (LayerNorm): LayerNorm((312,), eps=1e-12, elementwise_affine=True)\n",
       "              (dropout): Dropout(p=0.1, inplace=False)\n",
       "            )\n",
       "          )\n",
       "          (intermediate): BertIntermediate(\n",
       "            (dense): Linear(in_features=312, out_features=600, bias=True)\n",
       "            (intermediate_act_fn): GELUActivation()\n",
       "          )\n",
       "          (output): BertOutput(\n",
       "            (dense): Linear(in_features=600, out_features=312, bias=True)\n",
       "            (LayerNorm): LayerNorm((312,), eps=1e-12, elementwise_affine=True)\n",
       "            (dropout): Dropout(p=0.1, inplace=False)\n",
       "          )\n",
       "        )\n",
       "        (1): BertLayer(\n",
       "          (attention): BertAttention(\n",
       "            (self): BertSelfAttention(\n",
       "              (query): Linear(in_features=312, out_features=312, bias=True)\n",
       "              (key): Linear(in_features=312, out_features=312, bias=True)\n",
       "              (value): Linear(in_features=312, out_features=312, bias=True)\n",
       "              (dropout): Dropout(p=0.1, inplace=False)\n",
       "            )\n",
       "            (output): BertSelfOutput(\n",
       "              (dense): Linear(in_features=312, out_features=312, bias=True)\n",
       "              (LayerNorm): LayerNorm((312,), eps=1e-12, elementwise_affine=True)\n",
       "              (dropout): Dropout(p=0.1, inplace=False)\n",
       "            )\n",
       "          )\n",
       "          (intermediate): BertIntermediate(\n",
       "            (dense): Linear(in_features=312, out_features=600, bias=True)\n",
       "            (intermediate_act_fn): GELUActivation()\n",
       "          )\n",
       "          (output): BertOutput(\n",
       "            (dense): Linear(in_features=600, out_features=312, bias=True)\n",
       "            (LayerNorm): LayerNorm((312,), eps=1e-12, elementwise_affine=True)\n",
       "            (dropout): Dropout(p=0.1, inplace=False)\n",
       "          )\n",
       "        )\n",
       "        (2): BertLayer(\n",
       "          (attention): BertAttention(\n",
       "            (self): BertSelfAttention(\n",
       "              (query): Linear(in_features=312, out_features=312, bias=True)\n",
       "              (key): Linear(in_features=312, out_features=312, bias=True)\n",
       "              (value): Linear(in_features=312, out_features=312, bias=True)\n",
       "              (dropout): Dropout(p=0.1, inplace=False)\n",
       "            )\n",
       "            (output): BertSelfOutput(\n",
       "              (dense): Linear(in_features=312, out_features=312, bias=True)\n",
       "              (LayerNorm): LayerNorm((312,), eps=1e-12, elementwise_affine=True)\n",
       "              (dropout): Dropout(p=0.1, inplace=False)\n",
       "            )\n",
       "          )\n",
       "          (intermediate): BertIntermediate(\n",
       "            (dense): Linear(in_features=312, out_features=600, bias=True)\n",
       "            (intermediate_act_fn): GELUActivation()\n",
       "          )\n",
       "          (output): BertOutput(\n",
       "            (dense): Linear(in_features=600, out_features=312, bias=True)\n",
       "            (LayerNorm): LayerNorm((312,), eps=1e-12, elementwise_affine=True)\n",
       "            (dropout): Dropout(p=0.1, inplace=False)\n",
       "          )\n",
       "        )\n",
       "      )\n",
       "    )\n",
       "  )\n",
       "  (dropout): Dropout(p=0.1, inplace=False)\n",
       "  (classifier): Linear(in_features=312, out_features=3, bias=True)\n",
       ")"
      ]
     },
     "execution_count": 6,
     "metadata": {},
     "output_type": "execute_result"
    }
   ],
   "source": [
    "from transformers import BertConfig, BertForTokenClassification, BertTokenizer\n",
    "from simpletransformers.ner import NERModel, NERArgs\n",
    "model_path = '../models/TokenCLS_sepPredictor_ipynb_Copy1_data3v2/checkpoint-22640-epoch-10/'\n",
    "model_args = NERArgs(labels_list=[\"[CMD]\", \"[SEP]\",\"O\"])\n",
    "bertconfig = BertConfig.from_pretrained(\n",
    "    model_path, **model_args.config)\n",
    "tokenizer = BertTokenizer.from_pretrained(\n",
    "    model_path,\n",
    "    do_lower_case=model_args.do_lower_case)\n",
    "model = BertForTokenClassification.from_pretrained(\n",
    "    model_path,\n",
    "    config=bertconfig,\n",
    ")\n",
    "model.eval()\n",
    "model.to(\"cuda\")"
   ]
  },
  {
   "cell_type": "code",
   "execution_count": 7,
   "metadata": {},
   "outputs": [
    {
     "data": {
      "text/plain": [
       "array(['погоди по прошествии времени обскочи в ту сторону к холмику',\n",
       "       'съезди к разлому правее себя следом пытайся разглядывать загородку справа от тебя',\n",
       "       'обставь камень наконец пытайся скакать на 1m', ...,\n",
       "       'заворчивай 354°', 'поворачивай на 7 30 на север',\n",
       "       'отвали в западную сторону на 9m'], dtype=object)"
      ]
     },
     "execution_count": 7,
     "metadata": {},
     "output_type": "execute_result"
    }
   ],
   "source": [
    "df[df[\"subset\"]==\"valid\"][\"full_text\"].values"
   ]
  },
  {
   "cell_type": "code",
   "execution_count": 8,
   "metadata": {},
   "outputs": [],
   "source": [
    "import torch\n",
    "with torch.no_grad():\n",
    "    model_inputs = tokenizer.batch_encode_plus(\n",
    "            df[df[\"subset\"]==\"valid\"][\"full_text\"].values, return_tensors=\"pt\", padding=True, truncation=True\n",
    "        )\n",
    "    model_inputs = {key: value.to(\"cuda\") for key, value in model_inputs.items()}\n",
    "    logits = model(**model_inputs)\n",
    "\n",
    "    logits = logits[0].cpu().numpy()"
   ]
  },
  {
   "cell_type": "code",
   "execution_count": 9,
   "metadata": {},
   "outputs": [],
   "source": [
    "pred_labels = np.argmax(logits, axis=-1)"
   ]
  },
  {
   "cell_type": "code",
   "execution_count": 48,
   "metadata": {},
   "outputs": [
    {
     "data": {
      "text/plain": [
       "['[CMD]', '[SEP]', 'O']"
      ]
     },
     "execution_count": 48,
     "metadata": {},
     "output_type": "execute_result"
    }
   ],
   "source": []
  },
  {
   "cell_type": "code",
   "execution_count": 12,
   "metadata": {},
   "outputs": [
    {
     "name": "stdout",
     "output_type": "stream",
     "text": [
      "пого [SEP]\n",
      "[' пого', '']\n",
      "##ди [SEP]\n",
      "[' пого', 'ди', '']\n",
      "по O\n",
      "[' пого', 'ди', '']\n",
      "прошествии O\n",
      "[' пого', 'ди', '']\n",
      "времени O\n",
      "[' пого', 'ди', '']\n",
      "об [CMD]\n",
      "[' пого', 'ди', ' об']\n",
      "##ско [CMD]\n",
      "[' пого', 'ди', ' обско']\n",
      "##чи [CMD]\n",
      "[' пого', 'ди', ' обскочи']\n",
      "в [CMD]\n",
      "[' пого', 'ди', ' обскочи в']\n",
      "ту [CMD]\n",
      "[' пого', 'ди', ' обскочи в ту']\n",
      "сторону [CMD]\n",
      "[' пого', 'ди', ' обскочи в ту сторону']\n",
      "к [CMD]\n",
      "[' пого', 'ди', ' обскочи в ту сторону к']\n",
      "холми [SEP]\n",
      "[' пого', 'ди', ' обскочи в ту сторону к холми', '']\n",
      "##ку [SEP]\n",
      "[' пого', 'ди', ' обскочи в ту сторону к холми', 'ку', '']\n"
     ]
    }
   ],
   "source": [
    "phrases = df[df[\"subset\"]==\"valid\"][\"full_text\"].values\n",
    "inputs = model_inputs['input_ids'].cpu().numpy()\n",
    "att_mask = model_inputs['attention_mask'].cpu().numpy()\n",
    "commands = []\n",
    "for i in range(len(phrases)):\n",
    "    commands.append([\"\"])\n",
    "    for t_i, token_id in enumerate(inputs[i]):\n",
    "        if token_id in [tokenizer.cls_token_id, tokenizer.pad_token_id]:\n",
    "            continue\n",
    "        if token_id == tokenizer.sep_token_id:\n",
    "            break\n",
    "        token = tokenizer.ids_to_tokens[token_id]\n",
    "        cls = model_args.labels_list[pred_labels[i, t_i]]\n",
    "        print(token, cls)\n",
    "        if cls==\"[CMD]\":\n",
    "            if token[:2]==\"##\":\n",
    "                commands[-1][-1] += token[2:]\n",
    "            else:\n",
    "                commands[-1][-1] += \" \" + token\n",
    "        if cls==\"[SEP]\":\n",
    "            if token[:2]==\"##\":\n",
    "                commands[-1][-1] += token[2:]\n",
    "            else:\n",
    "                commands[-1][-1] += \" \" + token\n",
    "            commands[-1].append(\"\")\n",
    "        print(commands[-1])\n",
    "    commands[-1] = [x.strip() for x in commands[-1]]\n",
    "    break"
   ]
  },
  {
   "cell_type": "code",
   "execution_count": 34,
   "metadata": {},
   "outputs": [],
   "source": [
    "pad_token_label_id = -100\n",
    "def _convert_tokens_to_word_logits(\n",
    "    input_ids, label_ids, attention_mask, logits, tokenizer\n",
    "):\n",
    "\n",
    "    ignore_ids = [\n",
    "        tokenizer.convert_tokens_to_ids(tokenizer.pad_token),\n",
    "        tokenizer.convert_tokens_to_ids(tokenizer.sep_token),\n",
    "        tokenizer.convert_tokens_to_ids(tokenizer.cls_token),\n",
    "    ]\n",
    "\n",
    "    # Remove unuseful positions\n",
    "    masked_ids = input_ids[(1 == attention_mask)]\n",
    "    masked_labels = label_ids[(1 == attention_mask)]\n",
    "    masked_logits = logits[(1 == attention_mask)]\n",
    "    for id in ignore_ids:\n",
    "        masked_labels = masked_labels[(id != masked_ids)]\n",
    "        masked_logits = masked_logits[(id != masked_ids)]\n",
    "        masked_ids = masked_ids[(id != masked_ids)]\n",
    "\n",
    "    # Map to word logits\n",
    "    word_logits = []\n",
    "    tmp = []\n",
    "    for n, lab in enumerate(masked_labels):\n",
    "        if lab != pad_token_label_id:\n",
    "            if n != 0:\n",
    "                word_logits.append(tmp)\n",
    "            tmp = [list(masked_logits[n])]\n",
    "        else:\n",
    "            tmp.append(list(masked_logits[n]))\n",
    "    word_logits.append(tmp)\n",
    "\n",
    "    return word_logits\n",
    "inputs = model_inputs['input_ids'].cpu().numpy()\n",
    "att_mask = model_inputs['attention_mask'].cpu().numpy()\n",
    "predictions = []\n",
    "for i in range(len(phrases)):\n",
    "    labels = [tokenizer.ids_to_tokens[x] for x in  inputs[i]]\n",
    "    labels = np.array([pad_token_label_id if x[:2]==\"##\" else 0 for x in labels])\n",
    "    word_logits = _convert_tokens_to_word_logits(inputs[i], labels, att_mask[i], logits[i], tokenizer)\n",
    "    assert len(phrases[i].split())==len(word_logits)\n",
    "    predictions.append([])\n",
    "    for w_i, word in enumerate(phrases[i].split()):\n",
    "        predictions[-1].append({word: model_args.labels_list[np.argmax(word_logits[w_i][0])]})"
   ]
  },
  {
   "cell_type": "code",
   "execution_count": 20,
   "metadata": {},
   "outputs": [
    {
     "data": {
      "text/plain": [
       "torch.Size([3033, 50, 3])"
      ]
     },
     "execution_count": 20,
     "metadata": {},
     "output_type": "execute_result"
    }
   ],
   "source": [
    "predictions = []\n",
    "for i in range(logits.shape[0]):\n",
    "    predictions.append([])\n",
    "    for j in range(logits.shape[1]):\n",
    "        if model_inputs['input_ids'][i][j]==tokenizer.cls_token_id:\n",
    "            continue\n",
    "        if model_inputs['input_ids'][i][j]==tokenizer.sep_token_id:\n",
    "            break\n",
    "        if model_inputs['input_ids'][i][j]==tokenizer.pad_token_id:\n",
    "            continue\n",
    "        predictions[-1].append({})\n",
    "            "
   ]
  },
  {
   "cell_type": "code",
   "execution_count": 36,
   "metadata": {},
   "outputs": [
    {
     "name": "stdout",
     "output_type": "stream",
     "text": [
      "full_text: обнаружь железного коня спереди от лесополосы находящуюся сзади от булыжника по прошествии времени справа от лесополосы находится светильник который приказывается рассмотреть\n",
      "text1: обнаружь железного коня спереди от лесополосы находящуюся сзади от булыжника predict: обнаружь железного коня\n",
      "text2: справа от лесополосы находится светильник который приказывается рассмотреть predict: спереди от лесополосы находящуюся сзади от булыжника\n",
      "text3: nan predict: справа от лесополосы находится светильник который приказывается рассмотреть\n",
      "\n",
      "full_text: сделай поворот до канавы передохни с течением времени приспевай назад\n",
      "text1: сделай поворот до канавы predict: сделай поворот до канавы передохни\n",
      "text2: передохни predict: приспевай назад\n",
      "text3: приспевай назад predict: \n",
      "\n",
      "full_text: начни поворачивать 343° немного погодя стоять правее дерева располагается тачка к которой приказывается плыть\n",
      "text1: начни поворачивать 343° predict: начни поворачивать 343°\n",
      "text2: стоять predict: стоять правее дерева располагается тачка к которой приказывается плыть\n",
      "text3: правее дерева располагается тачка к которой приказывается плыть predict: \n",
      "\n",
      "full_text: спереди от срубленного дерева располагается ольха которую умоляют найти ваша остановка опосля осуществляй обход местности по орбите радиуса 23м\n",
      "text1: спереди от срубленного дерева располагается ольха которую умоляют найти predict: спереди от срубленного дерева располагается ольха которую умоляют найти ваша остановка\n",
      "text2: ваша остановка predict: осуществляй обход местности по орбите радиуса 23м\n",
      "text3: осуществляй обход местности по орбите радиуса 23м predict: \n",
      "\n",
      "full_text: слева от сваленного дерева располагается барьер который просят обскакивать отгреби в северную сторону после сними с паузы\n",
      "text1: слева от сваленного дерева располагается барьер который просят обскакивать predict: слева от сваленного дерева располагается барьер который просят обскакивать отгреби в северную сторону\n",
      "text2: отгреби в северную сторону predict: сними с паузы\n",
      "text3: сними с паузы predict: \n",
      "\n",
      "full_text: отбеги в южную сторону на 55м правее горы железный конь которого требуется отыскать после этого притормози\n",
      "text1: отбеги в южную сторону на 55м predict: отбеги в южную сторону на 55м правее горы железный конь которого требуется отыскать\n",
      "text2: правее горы железный конь которого требуется отыскать predict: притормози\n",
      "text3: притормози predict: \n",
      "\n",
      "full_text: найди камушек рядом с рощей что находится левее пьяного человека\n",
      "text1: найди камушек рядом с рощей что находится левее пьяного человека predict: найди камушек\n",
      "text2: 1.5814028388825927e+36 predict: рядом с рощей что находится левее пьяного человека\n",
      "text3: 1.5814028388825927e+36 predict: \n",
      "\n",
      "Errors 7\n"
     ]
    }
   ],
   "source": [
    "i, errors = 0, 0\n",
    "for ir, row in df[df[\"subset\"]==\"valid\"].iterrows():\n",
    "    text1, text2, text3 = [], [], []\n",
    "    cmd_i = 0\n",
    "    for token in predictions[i]:\n",
    "        token, cls = list(token.items())[0]\n",
    "        if cls==\"O\":\n",
    "            continue\n",
    "        if cmd_i==0:\n",
    "            text1.append(token)\n",
    "        elif cmd_i==1:\n",
    "            text2.append(token)\n",
    "        elif cmd_i==2:\n",
    "            text3.append(token)\n",
    "        if cls==\"[SEP]\":\n",
    "            cmd_i += 1\n",
    "    text1 = \" \".join(text1)\n",
    "    text2 = \" \".join(text2)\n",
    "    text3 = \" \".join(text3)\n",
    "    \n",
    "    try:\n",
    "        assert row[\"text1\"].strip() in text1\n",
    "        assert (text2==\"\" and type(row[\"text2\"]) is float) or row[\"text2\"].strip() in text2\n",
    "        assert (text3==\"\" and type(row[\"text3\"]) is float) or row[\"text3\"].strip() in text3\n",
    "        #assert (text3==\"\" and np.isnan(row[\"text3\"])) or text3 == row[\"text3\"].strip()\n",
    "    except AssertionError:\n",
    "        print(\"full_text:\", row[\"full_text\"])\n",
    "        print(\"text1:\", row[\"text1\"], \"predict:\", text1)\n",
    "        print(\"text2:\", row[\"text2\"], \"predict:\", text2)\n",
    "        print(\"text3:\", row[\"text3\"], \"predict:\", text3)\n",
    "        print()\n",
    "        errors += 1\n",
    "    i+=1\n",
    "print(\"Errors\", errors)"
   ]
  }
 ],
 "metadata": {
  "kernelspec": {
   "display_name": "simptr",
   "language": "python",
   "name": "simptr"
  },
  "language_info": {
   "codemirror_mode": {
    "name": "ipython",
    "version": 3
   },
   "file_extension": ".py",
   "mimetype": "text/x-python",
   "name": "python",
   "nbconvert_exporter": "python",
   "pygments_lexer": "ipython3",
   "version": "3.8.0"
  }
 },
 "nbformat": 4,
 "nbformat_minor": 4
}
