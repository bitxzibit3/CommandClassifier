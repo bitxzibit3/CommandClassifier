{
 "cells": [
  {
   "cell_type": "code",
   "execution_count": 2,
   "metadata": {},
   "outputs": [],
   "source": [
    "import json\n",
    "from collections import defaultdict\n",
    "import pandas as pd\n",
    "import numpy as np\n",
    "from sklearn.model_selection import train_test_split"
   ]
  },
  {
   "cell_type": "code",
   "execution_count": 14,
   "metadata": {},
   "outputs": [
    {
     "name": "stdout",
     "output_type": "stream",
     "text": [
      "(16722, 5)\n"
     ]
    },
    {
     "name": "stderr",
     "output_type": "stream",
     "text": [
      "/tmp/ipykernel_5886/4095646851.py:1: DtypeWarning: Columns (3,34) have mixed types. Specify dtype option on import or set low_memory=False.\n",
      "  df = pd.read_csv(\"../Data/Interim/some_cmd_split.csv\", sep=\",\")\n"
     ]
    }
   ],
   "source": [
    "df = pd.read_csv(\"../Data/Interim/some_cmd_split.csv\", sep=\",\")\n",
    "df = df.loc[:,[\"full_text\", \"text1\", \"text2\", \"text3\", \"subset\"]]\n",
    "print(df.shape)\n",
    "# добавляем кома\n",
    "df_onecmd = pd.read_csv(\"../Data/Interim/24052022_onecmd_split.csv\", sep=\",\")\n",
    "df_onecmd = df_onecmd.sample(5000, random_state=42)\n",
    "df_onecmd = df_onecmd.loc[df_onecmd[\"subset\"].isin([\"train\", \"valid\"]), [\"x\", \"subset\"]]\n",
    "df_onecmd[\"full_text\"] = df_onecmd[\"x\"]\n",
    "df_onecmd[\"text1\"] = df_onecmd[\"x\"]\n",
    "df_onecmd[\"text2\"] = np.empty_like(df_onecmd[\"x\"], dtype=np.float32)\n",
    "df_onecmd[\"text3\"] = np.empty_like(df_onecmd[\"x\"], dtype=np.float32)\n",
    "\n",
    "df = pd.concat([df, df_onecmd])\n",
    "df.index= range(len(df))"
   ]
  },
  {
   "cell_type": "code",
   "execution_count": 15,
   "metadata": {},
   "outputs": [],
   "source": [
    "nerInput_train = {\n",
    "    \"sentence_id\": [],\n",
    "    \"words\": [],\n",
    "    \"labels\": []\n",
    "}\n",
    "nerInput_valid = {\n",
    "    \"sentence_id\": [],\n",
    "    \"words\": [],\n",
    "    \"labels\": []\n",
    "}\n",
    "nerInput = None\n",
    "for ir, row in df.iterrows():\n",
    "    if row[\"subset\"]==\"train\":\n",
    "        nerInput = nerInput_train\n",
    "    if row[\"subset\"]==\"valid\":\n",
    "        nerInput = nerInput_valid\n",
    "\n",
    "    start_1 = row[\"full_text\"].find(row[\"text1\"])\n",
    "    assert start_1 >= 0\n",
    "    start_2 = None\n",
    "    if type(row['text2']) != float:\n",
    "        start_2 = row[\"full_text\"].find(row[\"text2\"], start_1 + len(row[\"text1\"]))    \n",
    "        assert start_2 >= start_1\n",
    "    start_3 = None\n",
    "    if type(row['text3']) != float:\n",
    "        start_3 = row[\"full_text\"].find(row[\"text3\"], start_2 + len(row[\"text2\"]))\n",
    "        assert start_3 >= start_2\n",
    "    lastWordPos = 0\n",
    "    for word in row[\"full_text\"].split():\n",
    "        nerInput[\"sentence_id\"].append(ir)\n",
    "        nerInput[\"words\"].append(word)\n",
    "        wordPos = row[\"full_text\"].find(word, lastWordPos)\n",
    "        assert wordPos!=-1\n",
    "        lastWordPos = wordPos + len(word)\n",
    "        if lastWordPos == (start_1+len(row[\"text1\"].strip())):\n",
    "            nerInput[\"labels\"].append(\"[SEP]\")\n",
    "        elif (start_2 is not None) and lastWordPos == (start_2+len(row[\"text2\"].strip())):\n",
    "            nerInput[\"labels\"].append(\"[SEP]\")\n",
    "        elif (start_3 is not None) and lastWordPos == (start_3+len(row[\"text3\"].strip())):\n",
    "            nerInput[\"labels\"].append(\"[SEP]\")\n",
    "        else:\n",
    "            nerInput[\"labels\"].append(\"O\")\n",
    "train_df = pd.DataFrame(nerInput_train)\n",
    "valid_df = pd.DataFrame(nerInput_valid)"
   ]
  },
  {
   "cell_type": "code",
   "execution_count": 5,
   "metadata": {},
   "outputs": [],
   "source": [
    "for ir, row in df.iterrows():\n",
    "    cmd_count = 1\n",
    "    if type(row[\"text2\"])==str:\n",
    "        cmd_count+=1\n",
    "    if type(row[\"text3\"])==str:\n",
    "        cmd_count+=1\n",
    "    if ir in train_df[\"sentence_id\"].values:\n",
    "        assert train_df[train_df[\"sentence_id\"]==ir][\"labels\"].value_counts()[\"[SEP]\"]==cmd_count\n",
    "    else:\n",
    "        assert valid_df[valid_df[\"sentence_id\"]==ir][\"labels\"].value_counts()[\"[SEP]\"]==cmd_count"
   ]
  },
  {
   "cell_type": "code",
   "execution_count": 6,
   "metadata": {},
   "outputs": [
    {
     "name": "stdout",
     "output_type": "stream",
     "text": [
      "обойди окрестности по кругу размером 17 метров после всего тяни на южный край на 4 м а там за лесом располагается камушек который нужно обскакивать\n",
      "обойди O\n",
      "окрестности O\n",
      "по O\n",
      "кругу O\n",
      "размером O\n",
      "17 O\n",
      "метров [SEP]\n",
      "после O\n",
      "всего O\n",
      "тяни O\n",
      "на O\n",
      "южный O\n",
      "край O\n",
      "на O\n",
      "4 O\n",
      "м [SEP]\n",
      "а O\n",
      "там O\n",
      "за O\n",
      "лесом O\n",
      "располагается O\n",
      "камушек O\n",
      "который O\n",
      "нужно O\n",
      "обскакивать [SEP]\n",
      "обойди окрестности по кругу размером 17 метров | обойди окрестности по кругу размером 17 метров\n",
      "тяни на южный край на 4 м | после всего тяни на южный край на 4 м\n",
      "за лесом располагается камушек который нужно обскакивать | а там за лесом располагается камушек который нужно обскакивать\n"
     ]
    }
   ],
   "source": [
    "ir = 5000\n",
    "print(df.loc[ir, \"full_text\"])\n",
    "ner_commands= [[],[],[]]\n",
    "current_command = 0\n",
    "for ir_2, row in train_df[train_df[\"sentence_id\"]==ir].iterrows():\n",
    "    print(row[\"words\"], row[\"labels\"])\n",
    "    ner_commands[current_command].append(row[\"words\"])\n",
    "    if row[\"labels\"]==\"[SEP]\":\n",
    "        current_command += 1\n",
    "print(df.loc[ir, \"text1\"], \"|\", \" \".join(ner_commands[0]))\n",
    "print(df.loc[ir, \"text2\"], \"|\", \" \".join(ner_commands[1]))\n",
    "print(df.loc[ir, \"text3\"], \"|\", \" \".join(ner_commands[2]))"
   ]
  },
  {
   "cell_type": "code",
   "execution_count": 12,
   "metadata": {},
   "outputs": [],
   "source": [
    "from simpletransformers.ner import NERModel, NERArgs\n",
    "model_args = NERArgs()\n",
    "model_args.evaluate_during_training = True\n",
    "model_args.num_train_epochs = 10\n",
    "model_args.output_dir = \"/s/ls4/users/grartem/RL_robots/CommandClassifier/models/TokenCLS_sepPredictor_ipynb\"\n",
    "\n",
    "model = NERModel(\n",
    "    \"bert\", \n",
    "    #\"/s/ls4/users/grartem/HuggingFace/models/rubert-tiny2\",\n",
    "    \"/s/ls4/users/grartem/RL_robots/CommandClassifier/models/TokenCLS_sepPredictor_ipynb/checkpoint-20664-epoch-9/\",\n",
    "    args=model_args,\n",
    "    labels=[\"O\", \"[SEP]\"]\n",
    ")"
   ]
  },
  {
   "cell_type": "code",
   "execution_count": 8,
   "metadata": {},
   "outputs": [
    {
     "data": {
      "application/vnd.jupyter.widget-view+json": {
       "model_id": "6d3409ced19543ecb9c8d68ccc469c94",
       "version_major": 2,
       "version_minor": 0
      },
      "text/plain": [
       "  0%|          | 0/29 [00:00<?, ?it/s]"
      ]
     },
     "metadata": {},
     "output_type": "display_data"
    },
    {
     "name": "stderr",
     "output_type": "stream",
     "text": [
      "/s/ls4/users/grartem/anaconda3/envs/simptr/lib/python3.8/site-packages/transformers/optimization.py:306: FutureWarning: This implementation of AdamW is deprecated and will be removed in a future version. Use the PyTorch implementation torch.optim.AdamW instead, or set `no_deprecation_warning=True` to disable this warning\n",
      "  warnings.warn(\n"
     ]
    },
    {
     "data": {
      "application/vnd.jupyter.widget-view+json": {
       "model_id": "0d3bdaa625dd49cfa95ee85cb2d4282d",
       "version_major": 2,
       "version_minor": 0
      },
      "text/plain": [
       "Epoch:   0%|          | 0/10 [00:00<?, ?it/s]"
      ]
     },
     "metadata": {},
     "output_type": "display_data"
    },
    {
     "data": {
      "application/vnd.jupyter.widget-view+json": {
       "model_id": "eb13fedc67d94c7d990f067bb8872e05",
       "version_major": 2,
       "version_minor": 0
      },
      "text/plain": [
       "Running Epoch 0 of 10:   0%|          | 0/2296 [00:00<?, ?it/s]"
      ]
     },
     "metadata": {},
     "output_type": "display_data"
    },
    {
     "data": {
      "application/vnd.jupyter.widget-view+json": {
       "model_id": "8d88dcfe0f2c48769c25a5254a86f8ec",
       "version_major": 2,
       "version_minor": 0
      },
      "text/plain": [
       "  0%|          | 0/7 [00:00<?, ?it/s]"
      ]
     },
     "metadata": {},
     "output_type": "display_data"
    },
    {
     "data": {
      "application/vnd.jupyter.widget-view+json": {
       "model_id": "a7a48ee8054b4761930a3719e9109830",
       "version_major": 2,
       "version_minor": 0
      },
      "text/plain": [
       "Running Evaluation:   0%|          | 0/385 [00:00<?, ?it/s]"
      ]
     },
     "metadata": {},
     "output_type": "display_data"
    },
    {
     "name": "stderr",
     "output_type": "stream",
     "text": [
      "/s/ls4/users/grartem/anaconda3/envs/simptr/lib/python3.8/site-packages/seqeval/metrics/sequence_labeling.py:171: UserWarning: [SEP] seems not to be NE tag.\n",
      "  warnings.warn('{} seems not to be NE tag.'.format(chunk))\n"
     ]
    },
    {
     "data": {
      "application/vnd.jupyter.widget-view+json": {
       "model_id": "ad715314e4d6485591483dd45f8a144c",
       "version_major": 2,
       "version_minor": 0
      },
      "text/plain": [
       "  0%|          | 0/7 [00:00<?, ?it/s]"
      ]
     },
     "metadata": {},
     "output_type": "display_data"
    },
    {
     "data": {
      "application/vnd.jupyter.widget-view+json": {
       "model_id": "5d1afed4248b4efdb27388468d186071",
       "version_major": 2,
       "version_minor": 0
      },
      "text/plain": [
       "Running Evaluation:   0%|          | 0/385 [00:00<?, ?it/s]"
      ]
     },
     "metadata": {},
     "output_type": "display_data"
    },
    {
     "name": "stderr",
     "output_type": "stream",
     "text": [
      "/s/ls4/users/grartem/anaconda3/envs/simptr/lib/python3.8/site-packages/seqeval/metrics/sequence_labeling.py:171: UserWarning: [SEP] seems not to be NE tag.\n",
      "  warnings.warn('{} seems not to be NE tag.'.format(chunk))\n"
     ]
    },
    {
     "data": {
      "application/vnd.jupyter.widget-view+json": {
       "model_id": "fc9ca2954a704c69a1e5e6727e1789cc",
       "version_major": 2,
       "version_minor": 0
      },
      "text/plain": [
       "Running Epoch 1 of 10:   0%|          | 0/2296 [00:00<?, ?it/s]"
      ]
     },
     "metadata": {},
     "output_type": "display_data"
    },
    {
     "data": {
      "application/vnd.jupyter.widget-view+json": {
       "model_id": "ccfd582da4db4cafa4998b0b05679e34",
       "version_major": 2,
       "version_minor": 0
      },
      "text/plain": [
       "  0%|          | 0/7 [00:00<?, ?it/s]"
      ]
     },
     "metadata": {},
     "output_type": "display_data"
    },
    {
     "data": {
      "application/vnd.jupyter.widget-view+json": {
       "model_id": "b6ea0fb5711c49b2884eb754dcc86b09",
       "version_major": 2,
       "version_minor": 0
      },
      "text/plain": [
       "Running Evaluation:   0%|          | 0/385 [00:00<?, ?it/s]"
      ]
     },
     "metadata": {},
     "output_type": "display_data"
    },
    {
     "name": "stderr",
     "output_type": "stream",
     "text": [
      "/s/ls4/users/grartem/anaconda3/envs/simptr/lib/python3.8/site-packages/seqeval/metrics/sequence_labeling.py:171: UserWarning: [SEP] seems not to be NE tag.\n",
      "  warnings.warn('{} seems not to be NE tag.'.format(chunk))\n"
     ]
    },
    {
     "data": {
      "application/vnd.jupyter.widget-view+json": {
       "model_id": "2121c9e988ed4abcaa9b20eb5e13f6e3",
       "version_major": 2,
       "version_minor": 0
      },
      "text/plain": [
       "  0%|          | 0/7 [00:00<?, ?it/s]"
      ]
     },
     "metadata": {},
     "output_type": "display_data"
    },
    {
     "data": {
      "application/vnd.jupyter.widget-view+json": {
       "model_id": "99a0f08ac97946c7a02270b9f660840f",
       "version_major": 2,
       "version_minor": 0
      },
      "text/plain": [
       "Running Evaluation:   0%|          | 0/385 [00:00<?, ?it/s]"
      ]
     },
     "metadata": {},
     "output_type": "display_data"
    },
    {
     "name": "stderr",
     "output_type": "stream",
     "text": [
      "/s/ls4/users/grartem/anaconda3/envs/simptr/lib/python3.8/site-packages/seqeval/metrics/sequence_labeling.py:171: UserWarning: [SEP] seems not to be NE tag.\n",
      "  warnings.warn('{} seems not to be NE tag.'.format(chunk))\n"
     ]
    },
    {
     "data": {
      "application/vnd.jupyter.widget-view+json": {
       "model_id": "3e4cb493772c4896b9f4ca2d2df72cbf",
       "version_major": 2,
       "version_minor": 0
      },
      "text/plain": [
       "Running Epoch 2 of 10:   0%|          | 0/2296 [00:00<?, ?it/s]"
      ]
     },
     "metadata": {},
     "output_type": "display_data"
    },
    {
     "data": {
      "application/vnd.jupyter.widget-view+json": {
       "model_id": "2735f4b15c464a2b97754444a5f06979",
       "version_major": 2,
       "version_minor": 0
      },
      "text/plain": [
       "  0%|          | 0/7 [00:00<?, ?it/s]"
      ]
     },
     "metadata": {},
     "output_type": "display_data"
    },
    {
     "data": {
      "application/vnd.jupyter.widget-view+json": {
       "model_id": "986a696eb2814dcbbdadc708b38cb2e5",
       "version_major": 2,
       "version_minor": 0
      },
      "text/plain": [
       "Running Evaluation:   0%|          | 0/385 [00:00<?, ?it/s]"
      ]
     },
     "metadata": {},
     "output_type": "display_data"
    },
    {
     "name": "stderr",
     "output_type": "stream",
     "text": [
      "/s/ls4/users/grartem/anaconda3/envs/simptr/lib/python3.8/site-packages/seqeval/metrics/sequence_labeling.py:171: UserWarning: [SEP] seems not to be NE tag.\n",
      "  warnings.warn('{} seems not to be NE tag.'.format(chunk))\n"
     ]
    },
    {
     "data": {
      "application/vnd.jupyter.widget-view+json": {
       "model_id": "5be7c3903d114c9ab333f60623648a87",
       "version_major": 2,
       "version_minor": 0
      },
      "text/plain": [
       "  0%|          | 0/7 [00:00<?, ?it/s]"
      ]
     },
     "metadata": {},
     "output_type": "display_data"
    },
    {
     "data": {
      "application/vnd.jupyter.widget-view+json": {
       "model_id": "c70bc4218fae4f75bb3de070d30c1deb",
       "version_major": 2,
       "version_minor": 0
      },
      "text/plain": [
       "Running Evaluation:   0%|          | 0/385 [00:00<?, ?it/s]"
      ]
     },
     "metadata": {},
     "output_type": "display_data"
    },
    {
     "name": "stderr",
     "output_type": "stream",
     "text": [
      "/s/ls4/users/grartem/anaconda3/envs/simptr/lib/python3.8/site-packages/seqeval/metrics/sequence_labeling.py:171: UserWarning: [SEP] seems not to be NE tag.\n",
      "  warnings.warn('{} seems not to be NE tag.'.format(chunk))\n"
     ]
    },
    {
     "data": {
      "application/vnd.jupyter.widget-view+json": {
       "model_id": "91a68170f260419985420b5e729b471a",
       "version_major": 2,
       "version_minor": 0
      },
      "text/plain": [
       "Running Epoch 3 of 10:   0%|          | 0/2296 [00:00<?, ?it/s]"
      ]
     },
     "metadata": {},
     "output_type": "display_data"
    },
    {
     "data": {
      "application/vnd.jupyter.widget-view+json": {
       "model_id": "ab1f2dc883654219818bc423a7b0d939",
       "version_major": 2,
       "version_minor": 0
      },
      "text/plain": [
       "  0%|          | 0/7 [00:00<?, ?it/s]"
      ]
     },
     "metadata": {},
     "output_type": "display_data"
    },
    {
     "data": {
      "application/vnd.jupyter.widget-view+json": {
       "model_id": "32137e063ee544a8905ba3f83050cbef",
       "version_major": 2,
       "version_minor": 0
      },
      "text/plain": [
       "Running Evaluation:   0%|          | 0/385 [00:00<?, ?it/s]"
      ]
     },
     "metadata": {},
     "output_type": "display_data"
    },
    {
     "name": "stderr",
     "output_type": "stream",
     "text": [
      "/s/ls4/users/grartem/anaconda3/envs/simptr/lib/python3.8/site-packages/seqeval/metrics/sequence_labeling.py:171: UserWarning: [SEP] seems not to be NE tag.\n",
      "  warnings.warn('{} seems not to be NE tag.'.format(chunk))\n"
     ]
    },
    {
     "data": {
      "application/vnd.jupyter.widget-view+json": {
       "model_id": "1151f1fadc1443799d9e08d00ab9d354",
       "version_major": 2,
       "version_minor": 0
      },
      "text/plain": [
       "  0%|          | 0/7 [00:00<?, ?it/s]"
      ]
     },
     "metadata": {},
     "output_type": "display_data"
    },
    {
     "data": {
      "application/vnd.jupyter.widget-view+json": {
       "model_id": "098ac203f2a64932864afa8dc7d1ee7c",
       "version_major": 2,
       "version_minor": 0
      },
      "text/plain": [
       "Running Evaluation:   0%|          | 0/385 [00:00<?, ?it/s]"
      ]
     },
     "metadata": {},
     "output_type": "display_data"
    },
    {
     "name": "stderr",
     "output_type": "stream",
     "text": [
      "/s/ls4/users/grartem/anaconda3/envs/simptr/lib/python3.8/site-packages/seqeval/metrics/sequence_labeling.py:171: UserWarning: [SEP] seems not to be NE tag.\n",
      "  warnings.warn('{} seems not to be NE tag.'.format(chunk))\n"
     ]
    },
    {
     "data": {
      "application/vnd.jupyter.widget-view+json": {
       "model_id": "6dd29df9ab37462c8f8444812259cf5e",
       "version_major": 2,
       "version_minor": 0
      },
      "text/plain": [
       "Running Epoch 4 of 10:   0%|          | 0/2296 [00:00<?, ?it/s]"
      ]
     },
     "metadata": {},
     "output_type": "display_data"
    },
    {
     "data": {
      "application/vnd.jupyter.widget-view+json": {
       "model_id": "3715ac97a1e541659fc80c378933309f",
       "version_major": 2,
       "version_minor": 0
      },
      "text/plain": [
       "  0%|          | 0/7 [00:00<?, ?it/s]"
      ]
     },
     "metadata": {},
     "output_type": "display_data"
    },
    {
     "data": {
      "application/vnd.jupyter.widget-view+json": {
       "model_id": "45a64f4b3c44409186f00a877519d380",
       "version_major": 2,
       "version_minor": 0
      },
      "text/plain": [
       "Running Evaluation:   0%|          | 0/385 [00:00<?, ?it/s]"
      ]
     },
     "metadata": {},
     "output_type": "display_data"
    },
    {
     "name": "stderr",
     "output_type": "stream",
     "text": [
      "/s/ls4/users/grartem/anaconda3/envs/simptr/lib/python3.8/site-packages/seqeval/metrics/sequence_labeling.py:171: UserWarning: [SEP] seems not to be NE tag.\n",
      "  warnings.warn('{} seems not to be NE tag.'.format(chunk))\n"
     ]
    },
    {
     "data": {
      "application/vnd.jupyter.widget-view+json": {
       "model_id": "ebbde700efc34e88a45840cccc09f3c3",
       "version_major": 2,
       "version_minor": 0
      },
      "text/plain": [
       "  0%|          | 0/7 [00:00<?, ?it/s]"
      ]
     },
     "metadata": {},
     "output_type": "display_data"
    },
    {
     "data": {
      "application/vnd.jupyter.widget-view+json": {
       "model_id": "03b7f87acf384a6eaed7e89e9d939cfe",
       "version_major": 2,
       "version_minor": 0
      },
      "text/plain": [
       "Running Evaluation:   0%|          | 0/385 [00:00<?, ?it/s]"
      ]
     },
     "metadata": {},
     "output_type": "display_data"
    },
    {
     "name": "stderr",
     "output_type": "stream",
     "text": [
      "/s/ls4/users/grartem/anaconda3/envs/simptr/lib/python3.8/site-packages/seqeval/metrics/sequence_labeling.py:171: UserWarning: [SEP] seems not to be NE tag.\n",
      "  warnings.warn('{} seems not to be NE tag.'.format(chunk))\n"
     ]
    },
    {
     "data": {
      "application/vnd.jupyter.widget-view+json": {
       "model_id": "6c67dcffcd7641e5ad16c7d4729e91b3",
       "version_major": 2,
       "version_minor": 0
      },
      "text/plain": [
       "Running Epoch 5 of 10:   0%|          | 0/2296 [00:00<?, ?it/s]"
      ]
     },
     "metadata": {},
     "output_type": "display_data"
    },
    {
     "data": {
      "application/vnd.jupyter.widget-view+json": {
       "model_id": "598deccda3034f3889a0d91d15edb210",
       "version_major": 2,
       "version_minor": 0
      },
      "text/plain": [
       "  0%|          | 0/7 [00:00<?, ?it/s]"
      ]
     },
     "metadata": {},
     "output_type": "display_data"
    },
    {
     "data": {
      "application/vnd.jupyter.widget-view+json": {
       "model_id": "35c31ba6db914d29baa2d1c840ce364d",
       "version_major": 2,
       "version_minor": 0
      },
      "text/plain": [
       "Running Evaluation:   0%|          | 0/385 [00:00<?, ?it/s]"
      ]
     },
     "metadata": {},
     "output_type": "display_data"
    },
    {
     "name": "stderr",
     "output_type": "stream",
     "text": [
      "/s/ls4/users/grartem/anaconda3/envs/simptr/lib/python3.8/site-packages/seqeval/metrics/sequence_labeling.py:171: UserWarning: [SEP] seems not to be NE tag.\n",
      "  warnings.warn('{} seems not to be NE tag.'.format(chunk))\n"
     ]
    },
    {
     "data": {
      "application/vnd.jupyter.widget-view+json": {
       "model_id": "0e445d5b94b543468da8146b69e5c956",
       "version_major": 2,
       "version_minor": 0
      },
      "text/plain": [
       "  0%|          | 0/7 [00:00<?, ?it/s]"
      ]
     },
     "metadata": {},
     "output_type": "display_data"
    },
    {
     "data": {
      "application/vnd.jupyter.widget-view+json": {
       "model_id": "221655756c85474fa44857dafaedc9a4",
       "version_major": 2,
       "version_minor": 0
      },
      "text/plain": [
       "Running Evaluation:   0%|          | 0/385 [00:00<?, ?it/s]"
      ]
     },
     "metadata": {},
     "output_type": "display_data"
    },
    {
     "name": "stderr",
     "output_type": "stream",
     "text": [
      "/s/ls4/users/grartem/anaconda3/envs/simptr/lib/python3.8/site-packages/seqeval/metrics/sequence_labeling.py:171: UserWarning: [SEP] seems not to be NE tag.\n",
      "  warnings.warn('{} seems not to be NE tag.'.format(chunk))\n"
     ]
    },
    {
     "data": {
      "application/vnd.jupyter.widget-view+json": {
       "model_id": "530eef4693434791951323546497f87f",
       "version_major": 2,
       "version_minor": 0
      },
      "text/plain": [
       "Running Epoch 6 of 10:   0%|          | 0/2296 [00:00<?, ?it/s]"
      ]
     },
     "metadata": {},
     "output_type": "display_data"
    },
    {
     "data": {
      "application/vnd.jupyter.widget-view+json": {
       "model_id": "a38e006be128490b960d6cb47eea91f5",
       "version_major": 2,
       "version_minor": 0
      },
      "text/plain": [
       "  0%|          | 0/7 [00:00<?, ?it/s]"
      ]
     },
     "metadata": {},
     "output_type": "display_data"
    },
    {
     "data": {
      "application/vnd.jupyter.widget-view+json": {
       "model_id": "c75bbae1ec9349588881983d800822fb",
       "version_major": 2,
       "version_minor": 0
      },
      "text/plain": [
       "Running Evaluation:   0%|          | 0/385 [00:00<?, ?it/s]"
      ]
     },
     "metadata": {},
     "output_type": "display_data"
    },
    {
     "name": "stderr",
     "output_type": "stream",
     "text": [
      "/s/ls4/users/grartem/anaconda3/envs/simptr/lib/python3.8/site-packages/seqeval/metrics/sequence_labeling.py:171: UserWarning: [SEP] seems not to be NE tag.\n",
      "  warnings.warn('{} seems not to be NE tag.'.format(chunk))\n"
     ]
    },
    {
     "data": {
      "application/vnd.jupyter.widget-view+json": {
       "model_id": "be1249c071974502b6899ae010126955",
       "version_major": 2,
       "version_minor": 0
      },
      "text/plain": [
       "  0%|          | 0/7 [00:00<?, ?it/s]"
      ]
     },
     "metadata": {},
     "output_type": "display_data"
    },
    {
     "data": {
      "application/vnd.jupyter.widget-view+json": {
       "model_id": "ddf4a526fc9f43c098bef60aeb772296",
       "version_major": 2,
       "version_minor": 0
      },
      "text/plain": [
       "Running Evaluation:   0%|          | 0/385 [00:00<?, ?it/s]"
      ]
     },
     "metadata": {},
     "output_type": "display_data"
    },
    {
     "name": "stderr",
     "output_type": "stream",
     "text": [
      "/s/ls4/users/grartem/anaconda3/envs/simptr/lib/python3.8/site-packages/seqeval/metrics/sequence_labeling.py:171: UserWarning: [SEP] seems not to be NE tag.\n",
      "  warnings.warn('{} seems not to be NE tag.'.format(chunk))\n"
     ]
    },
    {
     "data": {
      "application/vnd.jupyter.widget-view+json": {
       "model_id": "9fac8b2d6bc3450994c7ff68b7b691a3",
       "version_major": 2,
       "version_minor": 0
      },
      "text/plain": [
       "  0%|          | 0/7 [00:00<?, ?it/s]"
      ]
     },
     "metadata": {},
     "output_type": "display_data"
    },
    {
     "data": {
      "application/vnd.jupyter.widget-view+json": {
       "model_id": "83cbe2b4ad03460c9e90eae6a4a68e8c",
       "version_major": 2,
       "version_minor": 0
      },
      "text/plain": [
       "Running Evaluation:   0%|          | 0/385 [00:00<?, ?it/s]"
      ]
     },
     "metadata": {},
     "output_type": "display_data"
    },
    {
     "name": "stderr",
     "output_type": "stream",
     "text": [
      "/s/ls4/users/grartem/anaconda3/envs/simptr/lib/python3.8/site-packages/seqeval/metrics/sequence_labeling.py:171: UserWarning: [SEP] seems not to be NE tag.\n",
      "  warnings.warn('{} seems not to be NE tag.'.format(chunk))\n"
     ]
    },
    {
     "data": {
      "application/vnd.jupyter.widget-view+json": {
       "model_id": "fa0f626043b54360a7b18b292a7d975d",
       "version_major": 2,
       "version_minor": 0
      },
      "text/plain": [
       "Running Epoch 7 of 10:   0%|          | 0/2296 [00:00<?, ?it/s]"
      ]
     },
     "metadata": {},
     "output_type": "display_data"
    },
    {
     "data": {
      "application/vnd.jupyter.widget-view+json": {
       "model_id": "76f1148f2eec4ed9b9e32fe5bc5fa0e3",
       "version_major": 2,
       "version_minor": 0
      },
      "text/plain": [
       "  0%|          | 0/7 [00:00<?, ?it/s]"
      ]
     },
     "metadata": {},
     "output_type": "display_data"
    },
    {
     "data": {
      "application/vnd.jupyter.widget-view+json": {
       "model_id": "865033f06be349c8ad5710ac6fdcff8e",
       "version_major": 2,
       "version_minor": 0
      },
      "text/plain": [
       "Running Evaluation:   0%|          | 0/385 [00:00<?, ?it/s]"
      ]
     },
     "metadata": {},
     "output_type": "display_data"
    },
    {
     "name": "stderr",
     "output_type": "stream",
     "text": [
      "/s/ls4/users/grartem/anaconda3/envs/simptr/lib/python3.8/site-packages/seqeval/metrics/sequence_labeling.py:171: UserWarning: [SEP] seems not to be NE tag.\n",
      "  warnings.warn('{} seems not to be NE tag.'.format(chunk))\n"
     ]
    },
    {
     "data": {
      "application/vnd.jupyter.widget-view+json": {
       "model_id": "e70da88eefef45f2b70c01f9c977989d",
       "version_major": 2,
       "version_minor": 0
      },
      "text/plain": [
       "  0%|          | 0/7 [00:00<?, ?it/s]"
      ]
     },
     "metadata": {},
     "output_type": "display_data"
    },
    {
     "data": {
      "application/vnd.jupyter.widget-view+json": {
       "model_id": "60a1e1338eb34a899d96275e433a7cad",
       "version_major": 2,
       "version_minor": 0
      },
      "text/plain": [
       "Running Evaluation:   0%|          | 0/385 [00:00<?, ?it/s]"
      ]
     },
     "metadata": {},
     "output_type": "display_data"
    },
    {
     "name": "stderr",
     "output_type": "stream",
     "text": [
      "/s/ls4/users/grartem/anaconda3/envs/simptr/lib/python3.8/site-packages/seqeval/metrics/sequence_labeling.py:171: UserWarning: [SEP] seems not to be NE tag.\n",
      "  warnings.warn('{} seems not to be NE tag.'.format(chunk))\n"
     ]
    },
    {
     "data": {
      "application/vnd.jupyter.widget-view+json": {
       "model_id": "7170094f7d4143a38d965965b3fa6e91",
       "version_major": 2,
       "version_minor": 0
      },
      "text/plain": [
       "Running Epoch 8 of 10:   0%|          | 0/2296 [00:00<?, ?it/s]"
      ]
     },
     "metadata": {},
     "output_type": "display_data"
    },
    {
     "data": {
      "application/vnd.jupyter.widget-view+json": {
       "model_id": "be4f434b8da94960859101bd0f6f6256",
       "version_major": 2,
       "version_minor": 0
      },
      "text/plain": [
       "  0%|          | 0/7 [00:00<?, ?it/s]"
      ]
     },
     "metadata": {},
     "output_type": "display_data"
    },
    {
     "data": {
      "application/vnd.jupyter.widget-view+json": {
       "model_id": "1b01807fbb1f4d04a3f794b585f61fea",
       "version_major": 2,
       "version_minor": 0
      },
      "text/plain": [
       "Running Evaluation:   0%|          | 0/385 [00:00<?, ?it/s]"
      ]
     },
     "metadata": {},
     "output_type": "display_data"
    },
    {
     "name": "stderr",
     "output_type": "stream",
     "text": [
      "/s/ls4/users/grartem/anaconda3/envs/simptr/lib/python3.8/site-packages/seqeval/metrics/sequence_labeling.py:171: UserWarning: [SEP] seems not to be NE tag.\n",
      "  warnings.warn('{} seems not to be NE tag.'.format(chunk))\n"
     ]
    },
    {
     "data": {
      "application/vnd.jupyter.widget-view+json": {
       "model_id": "d4fc00f69672493a9f9961258af4fafd",
       "version_major": 2,
       "version_minor": 0
      },
      "text/plain": [
       "  0%|          | 0/7 [00:00<?, ?it/s]"
      ]
     },
     "metadata": {},
     "output_type": "display_data"
    },
    {
     "data": {
      "application/vnd.jupyter.widget-view+json": {
       "model_id": "f5ac9d4244ef4e7b9514e6e1ed412a0c",
       "version_major": 2,
       "version_minor": 0
      },
      "text/plain": [
       "Running Evaluation:   0%|          | 0/385 [00:00<?, ?it/s]"
      ]
     },
     "metadata": {},
     "output_type": "display_data"
    },
    {
     "name": "stderr",
     "output_type": "stream",
     "text": [
      "/s/ls4/users/grartem/anaconda3/envs/simptr/lib/python3.8/site-packages/seqeval/metrics/sequence_labeling.py:171: UserWarning: [SEP] seems not to be NE tag.\n",
      "  warnings.warn('{} seems not to be NE tag.'.format(chunk))\n"
     ]
    },
    {
     "data": {
      "application/vnd.jupyter.widget-view+json": {
       "model_id": "b8d31f2f6a3544959a03dbd17e82943d",
       "version_major": 2,
       "version_minor": 0
      },
      "text/plain": [
       "Running Epoch 9 of 10:   0%|          | 0/2296 [00:00<?, ?it/s]"
      ]
     },
     "metadata": {},
     "output_type": "display_data"
    },
    {
     "data": {
      "application/vnd.jupyter.widget-view+json": {
       "model_id": "82ecf284f1b84017aa991c2dd7d55310",
       "version_major": 2,
       "version_minor": 0
      },
      "text/plain": [
       "  0%|          | 0/7 [00:00<?, ?it/s]"
      ]
     },
     "metadata": {},
     "output_type": "display_data"
    },
    {
     "data": {
      "application/vnd.jupyter.widget-view+json": {
       "model_id": "81ee2f887ab94489ab6dfb0d374d8d03",
       "version_major": 2,
       "version_minor": 0
      },
      "text/plain": [
       "Running Evaluation:   0%|          | 0/385 [00:00<?, ?it/s]"
      ]
     },
     "metadata": {},
     "output_type": "display_data"
    },
    {
     "name": "stderr",
     "output_type": "stream",
     "text": [
      "/s/ls4/users/grartem/anaconda3/envs/simptr/lib/python3.8/site-packages/seqeval/metrics/sequence_labeling.py:171: UserWarning: [SEP] seems not to be NE tag.\n",
      "  warnings.warn('{} seems not to be NE tag.'.format(chunk))\n"
     ]
    },
    {
     "data": {
      "application/vnd.jupyter.widget-view+json": {
       "model_id": "638fa07b758647a2b6a2f2348ae0040d",
       "version_major": 2,
       "version_minor": 0
      },
      "text/plain": [
       "  0%|          | 0/7 [00:00<?, ?it/s]"
      ]
     },
     "metadata": {},
     "output_type": "display_data"
    },
    {
     "data": {
      "application/vnd.jupyter.widget-view+json": {
       "model_id": "08fda0e5818a4eefb2bb528f49663115",
       "version_major": 2,
       "version_minor": 0
      },
      "text/plain": [
       "Running Evaluation:   0%|          | 0/385 [00:00<?, ?it/s]"
      ]
     },
     "metadata": {},
     "output_type": "display_data"
    },
    {
     "name": "stderr",
     "output_type": "stream",
     "text": [
      "/s/ls4/users/grartem/anaconda3/envs/simptr/lib/python3.8/site-packages/seqeval/metrics/sequence_labeling.py:171: UserWarning: [SEP] seems not to be NE tag.\n",
      "  warnings.warn('{} seems not to be NE tag.'.format(chunk))\n"
     ]
    },
    {
     "data": {
      "text/plain": [
       "(22960,\n",
       " defaultdict(list,\n",
       "             {'global_step': [2000,\n",
       "               2296,\n",
       "               4000,\n",
       "               4592,\n",
       "               6000,\n",
       "               6888,\n",
       "               8000,\n",
       "               9184,\n",
       "               10000,\n",
       "               11480,\n",
       "               12000,\n",
       "               13776,\n",
       "               14000,\n",
       "               16000,\n",
       "               16072,\n",
       "               18000,\n",
       "               18368,\n",
       "               20000,\n",
       "               20664,\n",
       "               22000,\n",
       "               22960],\n",
       "              'train_loss': [0.0008940696716308594,\n",
       "               0.00045271823182702065,\n",
       "               0.0003213851014152169,\n",
       "               8.192089444492012e-05,\n",
       "               4.287319825380109e-05,\n",
       "               0.00010234460205538198,\n",
       "               3.014238245668821e-05,\n",
       "               2.8947124519618228e-05,\n",
       "               2.541490175644867e-05,\n",
       "               1.9548968339222483e-05,\n",
       "               9.970437531592324e-06,\n",
       "               9.085940291697625e-06,\n",
       "               1.064881871570833e-05,\n",
       "               6.721570116496878e-06,\n",
       "               9.93625508272089e-06,\n",
       "               5.789363967778627e-06,\n",
       "               6.127357664809097e-06,\n",
       "               4.823845301871188e-06,\n",
       "               4.788519618159626e-06,\n",
       "               5.437930212792708e-06,\n",
       "               4.583680947689572e-06],\n",
       "              'eval_loss': [0.003516545717289986,\n",
       "               0.002911201071420491,\n",
       "               0.00110057597929255,\n",
       "               0.0013695668098505423,\n",
       "               0.0013370732525800123,\n",
       "               0.0010982053303309073,\n",
       "               0.0012612965382013262,\n",
       "               0.0013251871270130052,\n",
       "               0.0010940089758587892,\n",
       "               0.0011186356436533591,\n",
       "               0.0009828866786185907,\n",
       "               0.001172737488873104,\n",
       "               0.0009375464165537045,\n",
       "               0.0008109613670719475,\n",
       "               0.0007191572466049897,\n",
       "               0.0007657324805039662,\n",
       "               0.0006903377073545666,\n",
       "               0.0006677961766036469,\n",
       "               0.0007603301590778484,\n",
       "               0.0008698338278490356,\n",
       "               0.000825302246379307],\n",
       "              'precision': [0.9958950562198822,\n",
       "               0.9962546816479401,\n",
       "               0.9994638069705094,\n",
       "               0.9989279971413257,\n",
       "               0.9996423462088698,\n",
       "               0.9994638069705094,\n",
       "               0.999106983389891,\n",
       "               0.9992852037169406,\n",
       "               0.9992853314275505,\n",
       "               0.9994638069705094,\n",
       "               0.9996424740793708,\n",
       "               0.9991068238656663,\n",
       "               0.9994639985706628,\n",
       "               0.9994639985706628,\n",
       "               0.9996426018584703,\n",
       "               0.9992855867119128,\n",
       "               0.9992855867119128,\n",
       "               0.9996426018584703,\n",
       "               0.9996426018584703,\n",
       "               0.9992854590925331,\n",
       "               0.9994639985706628],\n",
       "              'recall': [0.996606536881586,\n",
       "               0.9976781568137167,\n",
       "               0.9987497767458474,\n",
       "               0.9985711734238257,\n",
       "               0.9983925701018039,\n",
       "               0.9987497767458474,\n",
       "               0.999106983389891,\n",
       "               0.9987497767458474,\n",
       "               0.9989283800678692,\n",
       "               0.9987497767458474,\n",
       "               0.9987497767458474,\n",
       "               0.9989283800678692,\n",
       "               0.999106983389891,\n",
       "               0.999106983389891,\n",
       "               0.999106983389891,\n",
       "               0.9992855867119128,\n",
       "               0.9992855867119128,\n",
       "               0.999106983389891,\n",
       "               0.999106983389891,\n",
       "               0.999106983389891,\n",
       "               0.999106983389891],\n",
       "              'f1_score': [0.9962506695232993,\n",
       "               0.9969659111190434,\n",
       "               0.9991066642844381,\n",
       "               0.9987495534119329,\n",
       "               0.9990170672862123,\n",
       "               0.9991066642844381,\n",
       "               0.999106983389891,\n",
       "               0.9990174184903975,\n",
       "               0.9991068238656663,\n",
       "               0.9991066642844381,\n",
       "               0.9991959260251942,\n",
       "               0.9990175939983923,\n",
       "               0.9992854590925331,\n",
       "               0.9992854590925331,\n",
       "               0.9993747208575255,\n",
       "               0.9992855867119128,\n",
       "               0.9992855867119128,\n",
       "               0.9993747208575255,\n",
       "               0.9993747208575255,\n",
       "               0.9991962132714121,\n",
       "               0.9992854590925331]}))"
      ]
     },
     "execution_count": 8,
     "metadata": {},
     "output_type": "execute_result"
    }
   ],
   "source": [
    "# Train the model\n",
    "model.train_model(train_df, eval_data=valid_df)"
   ]
  },
  {
   "cell_type": "code",
   "execution_count": 17,
   "metadata": {},
   "outputs": [
    {
     "data": {
      "application/vnd.jupyter.widget-view+json": {
       "model_id": "302db7b00f5346f7975c154b35565b62",
       "version_major": 2,
       "version_minor": 0
      },
      "text/plain": [
       "  0%|          | 0/7 [00:00<?, ?it/s]"
      ]
     },
     "metadata": {},
     "output_type": "display_data"
    },
    {
     "data": {
      "application/vnd.jupyter.widget-view+json": {
       "model_id": "863d1c758d274f10b4e0dbde6b900cf2",
       "version_major": 2,
       "version_minor": 0
      },
      "text/plain": [
       "Running Evaluation:   0%|          | 0/385 [00:00<?, ?it/s]"
      ]
     },
     "metadata": {},
     "output_type": "display_data"
    },
    {
     "name": "stderr",
     "output_type": "stream",
     "text": [
      "/s/ls4/users/grartem/anaconda3/envs/simptr/lib/python3.8/site-packages/seqeval/metrics/sequence_labeling.py:171: UserWarning: [SEP] seems not to be NE tag.\n",
      "  warnings.warn('{} seems not to be NE tag.'.format(chunk))\n"
     ]
    }
   ],
   "source": [
    "# Evaluate the model\n",
    "result, model_outputs, preds_list = model.eval_model(valid_df)"
   ]
  },
  {
   "cell_type": "code",
   "execution_count": 16,
   "metadata": {},
   "outputs": [
    {
     "data": {
      "application/vnd.jupyter.widget-view+json": {
       "model_id": "0a4fba7a10cb4f63ad1f060e4ae55e2b",
       "version_major": 2,
       "version_minor": 0
      },
      "text/plain": [
       "  0%|          | 0/7 [00:00<?, ?it/s]"
      ]
     },
     "metadata": {},
     "output_type": "display_data"
    },
    {
     "data": {
      "application/vnd.jupyter.widget-view+json": {
       "model_id": "3ee61e2e2251448ca42a7c325aa81678",
       "version_major": 2,
       "version_minor": 0
      },
      "text/plain": [
       "Running Prediction:   0%|          | 0/385 [00:00<?, ?it/s]"
      ]
     },
     "metadata": {},
     "output_type": "display_data"
    }
   ],
   "source": [
    "predictions, raw_outputs = model.predict(df[df[\"subset\"]==\"valid\"][\"full_text\"])"
   ]
  },
  {
   "cell_type": "markdown",
   "metadata": {},
   "source": [
    "# оценка"
   ]
  },
  {
   "cell_type": "code",
   "execution_count": 17,
   "metadata": {},
   "outputs": [
    {
     "name": "stdout",
     "output_type": "stream",
     "text": [
      "              precision    recall  f1-score   support\n",
      "\n",
      "           O       1.00      1.00      1.00     26655\n",
      "       [SEP]       1.00      1.00      1.00      5602\n",
      "\n",
      "    accuracy                           1.00     32257\n",
      "   macro avg       1.00      1.00      1.00     32257\n",
      "weighted avg       1.00      1.00      1.00     32257\n",
      "\n"
     ]
    }
   ],
   "source": [
    "from sklearn.metrics import classification_report\n",
    "flat_token_predictions = [list(x.values())[0] for sent in predictions for x in sent]\n",
    "flat_token_true = valid_df[\"labels\"].values\n",
    "print(classification_report(flat_token_true, flat_token_predictions))"
   ]
  },
  {
   "cell_type": "code",
   "execution_count": 24,
   "metadata": {},
   "outputs": [
    {
     "name": "stdout",
     "output_type": "stream",
     "text": [
      "full_text: убеги к мужчине слева  неподалеку от валуна располагается упавшее дерево которое нужно разглядывать\n",
      "text1: убеги к мужчине слева  predict: убеги к мужчине\n",
      "text2: неподалеку от валуна располагается упавшее дерево которое нужно разглядывать predict: слева\n",
      "text3: nan predict: неподалеку от валуна располагается упавшее дерево которое нужно разглядывать\n",
      "\n",
      "full_text: за лампой находится дубрава которую приказывается отыскать перед мужчиной дуб который приказывается рассматривать дальше пытайся шлёпать на 9m\n",
      "text1: за лампой находится дубрава которую приказывается отыскать predict: за лампой находится дубрава которую приказывается отыскать перед мужчиной дуб который приказывается рассматривать\n",
      "text2: перед мужчиной дуб который приказывается рассматривать predict: дальше пытайся шлёпать на 9m\n",
      "text3: пытайся шлёпать на 9m predict: \n",
      "\n",
      "full_text: выходи к разрыву слева от дуба что находится правее пригорка в дальнейшем отходи в сторону востока семени в сторону запада 1м\n",
      "text1: выходи к разрыву слева от дуба что находится правее пригорка predict: выходи к разрыву слева от дуба что находится правее пригорка\n",
      "text2: отходи в сторону востока predict: в дальнейшем отходи в сторону востока семени в сторону запада 1м\n",
      "text3: семени в сторону запада 1м predict: \n",
      "\n",
      "full_text: соверши поворот в сторону севера ползи затем поворачивай в северную сторону на 86 °\n",
      "text1: соверши поворот в сторону севера predict: соверши поворот в сторону севера ползи\n",
      "text2: ползи predict: затем поворачивай в северную сторону на 86 °\n",
      "text3: поворачивай в северную сторону на 86 ° predict: \n",
      "\n",
      "full_text: соверши поворот направо в дальнейшем левее ограждения холмик который приказывается обскакивать затем пытайся обскакивать лежащего человека за берёзой левее валуна\n",
      "text1: соверши поворот направо predict: соверши поворот направо\n",
      "text2: левее ограждения холмик который приказывается обскакивать predict: в дальнейшем левее ограждения холмик который приказывается обскакивать\n",
      "text3: пытайся обскакивать лежащего человека за берёзой левее валуна predict: затем пытайся обскакивать лежащего человека\n",
      "\n",
      "full_text: обходи автомобиль что располагается справа от женщины которая находится справа от растения спустя некоторое время пытайся обследовать тот останец куда пошел\n",
      "text1: обходи автомобиль что располагается справа от женщины которая находится справа от растения predict: обходи автомобиль что располагается справа от женщины которая находится справа от растения\n",
      "text2: пытайся обследовать тот останец predict: спустя некоторое время пытайся обследовать тот останец куда пошел\n",
      "text3: куда пошел predict: \n",
      "\n",
      "Errors 6\n"
     ]
    }
   ],
   "source": [
    "i, errors = 0, 0\n",
    "for ir, row in df[df[\"subset\"]==\"valid\"].iterrows():\n",
    "    text1, text2, text3 = [], [], []\n",
    "    cmd_i = 0\n",
    "    for token in predictions[i]:\n",
    "        token, cls = list(token.items())[0]\n",
    "        if cmd_i==0:\n",
    "            text1.append(token)\n",
    "        elif cmd_i==1:\n",
    "            text2.append(token)\n",
    "        elif cmd_i==2:\n",
    "            text3.append(token)\n",
    "        if cls==\"[SEP]\":\n",
    "            cmd_i += 1\n",
    "    text1 = \" \".join(text1)\n",
    "    text2 = \" \".join(text2)\n",
    "    text3 = \" \".join(text3)\n",
    "    \n",
    "    try:\n",
    "        assert row[\"text1\"].strip() in text1\n",
    "        assert (text2==\"\" and type(row[\"text2\"]) is float) or row[\"text2\"].strip() in text2\n",
    "        assert (text3==\"\" and type(row[\"text3\"]) is float) or row[\"text3\"].strip() in text3\n",
    "        #assert (text3==\"\" and np.isnan(row[\"text3\"])) or text3 == row[\"text3\"].strip()\n",
    "    except AssertionError:\n",
    "        print(\"full_text:\", row[\"full_text\"])\n",
    "        print(\"text1:\", row[\"text1\"], \"predict:\", text1)\n",
    "        print(\"text2:\", row[\"text2\"], \"predict:\", text2)\n",
    "        print(\"text3:\", row[\"text3\"], \"predict:\", text3)\n",
    "        print()\n",
    "        errors += 1\n",
    "    i+=1\n",
    "print(\"Errors\", errors)"
   ]
  },
  {
   "cell_type": "markdown",
   "metadata": {},
   "source": [
    "# проверим, как она хорошо предсказывает фразы из 1 команды, если не видела их"
   ]
  },
  {
   "cell_type": "code",
   "execution_count": 19,
   "metadata": {},
   "outputs": [
    {
     "data": {
      "application/vnd.jupyter.widget-view+json": {
       "model_id": "4e8c353194d948c89a2c4dda9277f6d7",
       "version_major": 2,
       "version_minor": 0
      },
      "text/plain": [
       "  0%|          | 0/28 [00:00<?, ?it/s]"
      ]
     },
     "metadata": {},
     "output_type": "display_data"
    },
    {
     "data": {
      "application/vnd.jupyter.widget-view+json": {
       "model_id": "0558c12006c04573b6484fca2148f9e1",
       "version_major": 2,
       "version_minor": 0
      },
      "text/plain": [
       "Running Prediction:   0%|          | 0/2688 [00:00<?, ?it/s]"
      ]
     },
     "metadata": {},
     "output_type": "display_data"
    }
   ],
   "source": [
    "df = pd.read_csv(\"../Data/Interim/24052022_onecmd_split.csv\", sep=\",\")\n",
    "predictions, raw_outputs = model.predict(df[\"x\"])"
   ]
  },
  {
   "cell_type": "code",
   "execution_count": 9,
   "metadata": {},
   "outputs": [
    {
     "data": {
      "text/plain": [
       "(270, 21504)"
      ]
     },
     "execution_count": 9,
     "metadata": {},
     "output_type": "execute_result"
    }
   ],
   "source": [
    "errors_count = 0\n",
    "for phrase in predictions:\n",
    "    classes = [list(x.values())[0] for x in phrase]\n",
    "    if classes[-1]==\"[SEP]\" and len([x for x in classes if x==\"[SEP]\"])==1:\n",
    "        continue\n",
    "    else:\n",
    "        errors_count+=1\n",
    "errors_count, len(predictions)"
   ]
  },
  {
   "cell_type": "code",
   "execution_count": 20,
   "metadata": {},
   "outputs": [
    {
     "data": {
      "text/plain": [
       "(246, 21504)"
      ]
     },
     "execution_count": 20,
     "metadata": {},
     "output_type": "execute_result"
    }
   ],
   "source": [
    "errors_count = 0\n",
    "for phrase in predictions:\n",
    "    classes = [list(x.values())[0] for x in phrase]\n",
    "    if classes[-1]==\"[SEP]\" and len([x for x in classes if x==\"[SEP]\"])==1:\n",
    "        continue\n",
    "    else:\n",
    "        errors_count+=1\n",
    "errors_count, len(predictions)"
   ]
  }
 ],
 "metadata": {
  "kernelspec": {
   "display_name": "simptr",
   "language": "python",
   "name": "simptr"
  },
  "language_info": {
   "codemirror_mode": {
    "name": "ipython",
    "version": 3
   },
   "file_extension": ".py",
   "mimetype": "text/x-python",
   "name": "python",
   "nbconvert_exporter": "python",
   "pygments_lexer": "ipython3",
   "version": "3.8.0"
  }
 },
 "nbformat": 4,
 "nbformat_minor": 4
}
