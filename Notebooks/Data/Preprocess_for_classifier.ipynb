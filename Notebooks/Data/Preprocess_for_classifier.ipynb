{
 "cells": [
  {
   "cell_type": "code",
   "execution_count": 1,
   "metadata": {},
   "outputs": [],
   "source": [
    "import json\n",
    "from collections import defaultdict\n",
    "import pandas as pd\n",
    "from sklearn.model_selection import train_test_split"
   ]
  },
  {
   "cell_type": "markdown",
   "metadata": {},
   "source": [
    "# Сформировать множество из разных файлов"
   ]
  },
  {
   "cell_type": "code",
   "execution_count": 2,
   "metadata": {},
   "outputs": [
    {
     "name": "stdout",
     "output_type": "stream",
     "text": [
      "0 nan texts\n"
     ]
    }
   ],
   "source": [
    "df = pd.read_csv(\"../../Data/Raw/merged_with_labels_11_patterns.csv\", sep=\";\")\n",
    "print(len(df[df['x'].isna()]), \"nan texts\")\n",
    "df = df[~df['x'].isna()]\n",
    "\n",
    "df_3 = pd.read_csv(\"../../Data/Raw/12052022_one_cmd.csv\", sep=\";\")\n",
    "\n",
    "df_3.drop(\"delayed\", axis=1, inplace=True)"
   ]
  },
  {
   "cell_type": "code",
   "execution_count": 3,
   "metadata": {},
   "outputs": [],
   "source": [
    "df = pd.concat([df_3, df[df[\"type\"].isin([\"students\", \"crowdsource\"])]])"
   ]
  },
  {
   "cell_type": "code",
   "execution_count": 4,
   "metadata": {},
   "outputs": [],
   "source": [
    "df.drop_duplicates(inplace=True)"
   ]
  },
  {
   "cell_type": "markdown",
   "metadata": {},
   "source": [
    "# предобработка"
   ]
  },
  {
   "cell_type": "code",
   "execution_count": 5,
   "metadata": {},
   "outputs": [],
   "source": [
    "# в случае изменения функции, изменить её и в обработке длинных команд в Analyze_complex_commands.ipynb\n",
    "#punct_characters = re.escape(\".,!?:;-#$*()[]'\\\"/|^%~`_+-\")\n",
    "import re\n",
    "def removePunctETC(value):\n",
    "    if type(value) is float:\n",
    "        return value\n",
    "    value = value.lower()\n",
    "    value = re.sub(\"[^\\w\\s°]\", \"\", value)\n",
    "    return value\n",
    "df[\"x\"] = df[\"x\"].map(removePunctETC)\n",
    "df.drop_duplicates(inplace=True)"
   ]
  },
  {
   "cell_type": "markdown",
   "metadata": {},
   "source": [
    "# сплит"
   ]
  },
  {
   "cell_type": "code",
   "execution_count": 6,
   "metadata": {},
   "outputs": [
    {
     "name": "stdout",
     "output_type": "stream",
     "text": [
      "['generator' 'students' 'crowdsource']\n",
      "valid percent 0.22322980782784382\n"
     ]
    }
   ],
   "source": [
    "# сплит сгенерированной части на трейн и валид \n",
    "print(df[\"type\"].unique())\n",
    "traindf = df[~df[\"type\"].isin(['students', 'crowdsource'])]\n",
    "\n",
    "validIndex = set()\n",
    "for c in traindf.columns:\n",
    "    if c in [\"x\", \"y_name\", \"type\"]:\n",
    "        continue\n",
    "    train_x, valid_x = train_test_split(traindf.index, test_size=0.03, random_state=69, shuffle=True, stratify=traindf[c])\n",
    "    validIndex |= set(valid_x)\n",
    "print(\"valid percent\", len(validIndex) / df.shape[0])\n",
    "subsets = [\"valid\" if i in validIndex else \"train\" for i in range(df.shape[0])]\n",
    "df[\"subset\"] = subsets\n",
    "df.loc[df[\"type\"].isin(['students', 'crowdsource']),\"subset\"] = \"test\""
   ]
  },
  {
   "cell_type": "code",
   "execution_count": 7,
   "metadata": {},
   "outputs": [
    {
     "name": "stdout",
     "output_type": "stream",
     "text": [
      "y\n",
      "9 1725 254 0.1472463768115942\n",
      "3 1647 340 0.20643594414086217\n",
      "2 1543 456 0.29552819183408946\n",
      "11 1458 457 0.31344307270233196\n",
      "7 1431 569 130 0.3976240391334731 0.09084556254367575\n",
      "4 1385 409 0.29530685920577615\n",
      "6 1366 484 0.35431918008784774\n",
      "8 1331 669 995 0.5026296018031555 0.7475582268970699\n",
      "10 1309 501 0.3827349121466769\n",
      "5 1080 404 53 0.37407407407407406 0.049074074074074076\n",
      "1 924 192 85 0.2077922077922078 0.09199134199134198\n",
      "0 28 10 48 0.35714285714285715 1.7142857142857142\n",
      "\n",
      "action\n",
      "5 3032 749 0.2470316622691293\n",
      "6 2783 1044 1178 0.37513474667624863 0.4232842256557672\n",
      "8 1799 686 0.38132295719844356\n",
      "9 1788 693 0.3875838926174497\n",
      "0 1738 256 30 0.1472957422324511 0.01726121979286536\n",
      "7 1605 661 0.4118380062305296\n",
      "4 1543 456 0.29552819183408946\n",
      "2 734 160 52 0.21798365122615804 0.07084468664850137\n",
      "3 190 32 33 0.16842105263157894 0.1736842105263158\n",
      "1 15 8 18 0.5333333333333333 1.2\n",
      "\n",
      "direction\n",
      "0 9728 3348 1226 0.3441611842105263 0.1260279605263158\n",
      "3 1398 348 9 0.24892703862660945 0.006437768240343348\n",
      "1 794 212 32 0.26700251889168763 0.04030226700251889\n",
      "8 639 157 0.24569640062597808\n",
      "4 632 162 24 0.2563291139240506 0.0379746835443038\n",
      "5 618 158 0.255663430420712\n",
      "7 614 145 0.23615635179153094\n",
      "6 608 159 0.26151315789473684\n",
      "2 196 56 20 0.2857142857142857 0.10204081632653061\n",
      "\n",
      "meters\n",
      "0 11959 4035 1311 0.3374027928756585 0.10962455054770466\n",
      "8 288 67 0.2326388888888889\n",
      "12 286 54 0.1888111888111888\n",
      "4 285 54 0.18947368421052632\n",
      "11 283 69 0.24381625441696114\n",
      "7 279 47 0.16845878136200718\n",
      "9 275 52 0.1890909090909091\n",
      "3 272 55 0.20220588235294118\n",
      "10 270 60 0.2222222222222222\n",
      "5 270 71 0.26296296296296295\n",
      "2 261 64 0.24521072796934865\n",
      "1 258 63 0.2441860465116279\n",
      "6 241 54 0.22406639004149378\n",
      "\n",
      "degshours\n",
      "0 12195 3996 1311 0.32767527675276753 0.10750307503075031\n",
      "11 157 31 0.19745222929936307\n",
      "8 139 35 0.2517985611510791\n",
      "1 138 22 0.15942028985507245\n",
      "13 137 31 0.22627737226277372\n",
      "14 136 27 0.19852941176470587\n",
      "24 133 35 0.2631578947368421\n",
      "2 133 33 0.24812030075187969\n",
      "21 133 37 0.2781954887218045\n",
      "19 133 23 0.17293233082706766\n",
      "9 128 24 0.1875\n",
      "23 128 40 0.3125\n",
      "22 128 27 0.2109375\n",
      "7 127 34 0.2677165354330709\n",
      "6 126 34 0.2698412698412698\n",
      "18 124 26 0.20967741935483872\n",
      "10 123 30 0.24390243902439024\n",
      "17 120 44 0.36666666666666664\n",
      "5 120 38 0.31666666666666665\n",
      "15 119 30 0.25210084033613445\n",
      "3 119 33 0.2773109243697479\n",
      "16 115 22 0.19130434782608696\n",
      "20 111 27 0.24324324324324326\n",
      "12 104 31 0.2980769230769231\n",
      "4 101 35 0.3465346534653465\n",
      "\n",
      "object1\n",
      "0 7730 1785 133 0.23091849935316947 0.017205692108667528\n",
      "10 563 210 0.37300177619893427\n",
      "3 562 212 204 0.37722419928825623 0.36298932384341637\n",
      "5 558 193 249 0.34587813620071683 0.44623655913978494\n",
      "13 555 219 0.3945945945945946\n",
      "4 554 179 124 0.3231046931407942 0.22382671480144403\n",
      "6 551 211 198 0.38294010889292196 0.35934664246823955\n",
      "2 550 208 219 0.3781818181818182 0.3981818181818182\n",
      "14 533 210 0.39399624765478425\n",
      "9 526 192 0.3650190114068441\n",
      "1 524 223 184 0.4255725190839695 0.3511450381679389\n",
      "8 522 226 0.4329501915708812\n",
      "12 511 221 0.4324853228962818\n",
      "7 502 223 0.4442231075697211\n",
      "11 486 233 0.4794238683127572\n",
      "\n",
      "nearest\n",
      "0 13861 4261 1311 0.3074092778298824 0.09458192049635668\n",
      "1 1366 484 0.35431918008784774\n",
      "\n",
      "relation1\n",
      "0 12465 3507 186 0.28134777376654635 0.014921780986762936\n",
      "2 578 263 575 0.45501730103806226 0.9948096885813149\n",
      "4 565 250 0.4424778761061947\n",
      "1 546 245 550 0.44871794871794873 1.0073260073260073\n",
      "3 538 244 0.45353159851301117\n",
      "5 535 236 0.4411214953271028\n",
      "\n",
      "object2\n",
      "0 12465 3507 186 0.28134777376654635 0.014921780986762936\n",
      "11 227 91 0.4008810572687225\n",
      "10 218 91 0.41743119266055045\n",
      "4 212 108 225 0.5094339622641509 1.0613207547169812\n",
      "12 211 89 0.4218009478672986\n",
      "9 204 90 0.4411764705882353\n",
      "6 201 87 155 0.43283582089552236 0.7711442786069652\n",
      "5 199 87 190 0.4371859296482412 0.9547738693467337\n",
      "14 198 97 0.4898989898989899\n",
      "7 194 76 0.3917525773195876\n",
      "1 191 87 195 0.45549738219895286 1.0209424083769634\n",
      "13 187 65 0.34759358288770054\n",
      "2 179 88 155 0.49162011173184356 0.8659217877094972\n",
      "3 171 94 205 0.5497076023391813 1.1988304093567252\n",
      "8 170 88 0.5176470588235295\n",
      "\n",
      "relation2\n",
      "0 13896 4076 316 0.293321819228555 0.02274035693724813\n",
      "2 291 143 400 0.49140893470790376 1.3745704467353952\n",
      "1 262 147 595 0.5610687022900763 2.2709923664122136\n",
      "4 262 118 0.45038167938931295\n",
      "5 262 133 0.5076335877862596\n",
      "3 254 128 0.5039370078740157\n",
      "\n",
      "object3\n",
      "0 13896 4076 316 0.293321819228555 0.02274035693724813\n",
      "6 105 43 135 0.4095238095238095 1.2857142857142858\n",
      "12 104 51 0.49038461538461536\n",
      "4 103 50 125 0.4854368932038835 1.2135922330097086\n",
      "13 102 42 0.4117647058823529\n",
      "7 99 47 0.47474747474747475\n",
      "14 99 50 0.5050505050505051\n",
      "10 98 50 0.5102040816326531\n",
      "3 96 56 145 0.5833333333333334 1.5104166666666667\n",
      "2 95 45 165 0.47368421052631576 1.736842105263158\n",
      "9 92 51 0.5543478260869565\n",
      "11 89 46 0.5168539325842697\n",
      "1 85 47 250 0.5529411764705883 2.9411764705882355\n",
      "5 84 44 175 0.5238095238095238 2.0833333333333335\n",
      "8 80 47 0.5875\n",
      "\n",
      "self\n",
      "0 13918 4244 1311 0.3049288690903865 0.09419456818508407\n",
      "3 357 132 0.3697478991596639\n",
      "4 349 130 0.37249283667621774\n",
      "1 331 114 0.34441087613293053\n",
      "2 272 125 0.45955882352941174\n",
      "\n",
      "gaze\n",
      "0 13769 4288 1311 0.31142421381363933 0.09521388626625027\n",
      "1 1458 457 0.31344307270233196\n",
      "\n"
     ]
    }
   ],
   "source": [
    "for c in df.columns:\n",
    "    if c in [\"x\", \"y_name\", \"subset\", \"type\"]:\n",
    "        continue\n",
    "    trains_counts = df.loc[df[\"subset\"]==\"train\", c].value_counts().to_dict()\n",
    "    valid_counts = df.loc[df[\"subset\"]==\"valid\", c].value_counts().to_dict()\n",
    "    test_counts = df.loc[df[\"subset\"]==\"test\", c].value_counts().to_dict()\n",
    "    print(c)\n",
    "    for k in trains_counts:\n",
    "        if k in test_counts:\n",
    "            print(k, trains_counts[k], valid_counts[k], test_counts[k], valid_counts[k] / trains_counts[k], test_counts[k] / trains_counts[k])\n",
    "        else:\n",
    "            print(k, trains_counts[k], valid_counts[k], valid_counts[k] / trains_counts[k])\n",
    "    print()"
   ]
  },
  {
   "cell_type": "code",
   "execution_count": 8,
   "metadata": {},
   "outputs": [],
   "source": [
    "df.to_csv(\"../../Data/Interim/12052022_one_cmd_split.csv\", index=False)\n",
    "#df = pd.read_csv(\"../../Data/Interim/merged_with_labels_11_patterns_split.csv\")\n",
    "#df.sample(2000).to_csv(\"../../Data/Interim/short_split.csv\", index=False)"
   ]
  },
  {
   "cell_type": "markdown",
   "metadata": {},
   "source": [
    "# folds"
   ]
  },
  {
   "cell_type": "code",
   "execution_count": 9,
   "metadata": {},
   "outputs": [
    {
     "data": {
      "text/plain": [
       "8    995\n",
       "7    130\n",
       "1     85\n",
       "5     53\n",
       "0     48\n",
       "Name: y, dtype: int64"
      ]
     },
     "execution_count": 9,
     "metadata": {},
     "output_type": "execute_result"
    }
   ],
   "source": [
    "from sklearn.model_selection import StratifiedKFold\n",
    "df = pd.read_csv(\"../../Data/Interim/12052022_one_cmd_split.csv\")\n",
    "df_old_folds = pd.read_csv(\"../../Data/Interim/merged_with_labels_11_patterns_split.csv\")\n",
    "df[\"fold\"]=-1\n",
    "df[df[\"subset\"]==\"test\"][\"y\"].value_counts()"
   ]
  },
  {
   "cell_type": "code",
   "execution_count": 10,
   "metadata": {},
   "outputs": [
    {
     "name": "stdout",
     "output_type": "stream",
     "text": [
      "1048 263\n",
      "1049 262\n",
      "1049 262\n",
      "1049 262\n",
      "1049 262\n",
      "fold# 0\n",
      "8    199\n",
      "7     26\n",
      "1     17\n",
      "5     11\n",
      "0     10\n",
      "Name: y, dtype: int64\n",
      "fold# 1\n",
      "8    199\n",
      "7     26\n",
      "1     17\n",
      "0     10\n",
      "5     10\n",
      "Name: y, dtype: int64\n",
      "fold# 2\n",
      "8    199\n",
      "7     26\n",
      "1     17\n",
      "0     10\n",
      "5     10\n",
      "Name: y, dtype: int64\n",
      "fold# 3\n",
      "8    199\n",
      "7     26\n",
      "1     17\n",
      "5     11\n",
      "0      9\n",
      "Name: y, dtype: int64\n",
      "fold# 4\n",
      "8    199\n",
      "7     26\n",
      "1     17\n",
      "5     11\n",
      "0      9\n",
      "Name: y, dtype: int64\n"
     ]
    }
   ],
   "source": [
    "skf = StratifiedKFold(n_splits=5)\n",
    "\n",
    "for fold_i, (train_index, test_index) in enumerate(skf.split(df[df[\"subset\"]==\"test\"].index, df[df[\"subset\"]==\"test\"][\"y\"])):\n",
    "    df.loc[df[df[\"subset\"]==\"test\"].index[test_index], \"fold\"] = fold_i\n",
    "    print(len(train_index), len(test_index))\n",
    "for i in range(5):\n",
    "    print(\"fold#\", i)\n",
    "    print(df[df[\"fold\"]==i][\"y\"].value_counts())"
   ]
  },
  {
   "cell_type": "code",
   "execution_count": 11,
   "metadata": {},
   "outputs": [],
   "source": [
    "df.to_csv(\"../../Data/Interim/12052022_one_cmd_split.csv\", index=False)"
   ]
  }
 ],
 "metadata": {
  "kernelspec": {
   "display_name": "rl_robots",
   "language": "python",
   "name": "rl_robots"
  },
  "language_info": {
   "codemirror_mode": {
    "name": "ipython",
    "version": 3
   },
   "file_extension": ".py",
   "mimetype": "text/x-python",
   "name": "python",
   "nbconvert_exporter": "python",
   "pygments_lexer": "ipython3",
   "version": "3.8.0"
  }
 },
 "nbformat": 4,
 "nbformat_minor": 4
}
