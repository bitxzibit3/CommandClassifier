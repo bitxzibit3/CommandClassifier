{
 "cells": [
  {
   "cell_type": "code",
   "execution_count": 1,
   "metadata": {},
   "outputs": [],
   "source": [
    "import json\n",
    "from collections import defaultdict\n",
    "import pandas as pd\n",
    "from sklearn.model_selection import train_test_split"
   ]
  },
  {
   "cell_type": "markdown",
   "metadata": {},
   "source": [
    "# Сформировать множество из разных файлов"
   ]
  },
  {
   "cell_type": "code",
   "execution_count": 2,
   "metadata": {},
   "outputs": [
    {
     "name": "stdout",
     "output_type": "stream",
     "text": [
      "0 nan texts\n"
     ]
    }
   ],
   "source": [
    "df = pd.read_csv(\"../../Data/Raw/merged_with_labels_11_patterns.csv\", sep=\";\")\n",
    "print(len(df[df['x'].isna()]), \"nan texts\")\n",
    "df = df[~df['x'].isna()]\n",
    "\n",
    "df_3 = pd.read_csv(\"../../Data/Raw/12052022_one_cmd.csv\", sep=\";\")\n",
    "\n",
    "df_3.drop(\"delayed\", axis=1, inplace=True)"
   ]
  },
  {
   "cell_type": "code",
   "execution_count": 3,
   "metadata": {},
   "outputs": [],
   "source": [
    "df = df"
   ]
  },
  {
   "cell_type": "markdown",
   "metadata": {},
   "source": [
    "# предобработка"
   ]
  },
  {
   "cell_type": "code",
   "execution_count": null,
   "metadata": {},
   "outputs": [],
   "source": [
    "# в случае изменения функции, изменить её и в обработке длинных команд в Analyze_complex_commands.ipynb\n",
    "#punct_characters = re.escape(\".,!?:;-#$*()[]'\\\"/|^%~`_+-\")\n",
    "#import re\n",
    "#def removePunctETC(value):\n",
    "#    if type(value) is float:\n",
    "#        return value\n",
    "#    value = value.lower()\n",
    "#    value = re.sub(\"[^\\w\\s°]\", \"\", value)\n",
    "#    return value\n",
    "#df[\"x\"] = df[\"x\"].map(removePunctETC)"
   ]
  },
  {
   "cell_type": "markdown",
   "metadata": {},
   "source": [
    "# сплит"
   ]
  },
  {
   "cell_type": "code",
   "execution_count": 4,
   "metadata": {},
   "outputs": [
    {
     "name": "stdout",
     "output_type": "stream",
     "text": [
      "['new_generator' 'students' 'crowdsource' 'generator']\n"
     ]
    }
   ],
   "source": [
    "# сплит сгенерированной части на трейн и валид \n",
    "print(df[\"type\"].unique())\n",
    "traindf = df[~df[\"type\"].isin(['students', 'crowdsource'])]\n",
    "\n",
    "validIndex = set()\n",
    "for c in traindf.columns:\n",
    "    if c in [\"x\", \"y_name\", \"type\"]:\n",
    "        continue\n",
    "    train_x, valid_x = train_test_split(traindf.index, test_size=0.03, random_state=69, shuffle=True, stratify=traindf[c])\n",
    "    validIndex |= set(valid_x)\n",
    "len(validIndex) / df.shape[0]\n",
    "subsets = [\"valid\" if i in validIndex else \"train\" for i in range(df.shape[0])]\n",
    "df[\"subset\"] = subsets\n",
    "df.loc[df[\"type\"].isin(['students', 'crowdsource']),\"subset\"] = \"test\""
   ]
  },
  {
   "cell_type": "code",
   "execution_count": 5,
   "metadata": {},
   "outputs": [
    {
     "name": "stdout",
     "output_type": "stream",
     "text": [
      "y\n",
      "8 12225 5551 995 0.45406952965235176 0.08139059304703476\n",
      "7 8391 2905 130 0.3462042664759862 0.015492789893933977\n",
      "2 4238 762 0.1798017932987258\n",
      "3 4140 860 0.20772946859903382\n",
      "4 4095 905 0.221001221001221\n",
      "11 3664 1336 0.3646288209606987\n",
      "9 3651 1349 0.36948781155847715\n",
      "10 3618 1382 0.3819789939192924\n",
      "6 3097 855 0.27607361963190186\n",
      "5 2250 518 53 0.23022222222222222 0.023555555555555555\n",
      "1 555 84 89 0.15135135135135136 0.16036036036036036\n",
      "0 41 3 51 0.07317073170731707 1.2439024390243902\n",
      "\n",
      "action\n",
      "6 29668 11339 1178 0.3821963057840097 0.03970608062558986\n",
      "5 8235 1765 0.2143290831815422\n",
      "4 4238 762 0.1798017932987258\n",
      "0 3668 1350 33 0.3680479825517993 0.008996728462377318\n",
      "8 1617 578 0.35745207173778604\n",
      "9 1323 414 0.3129251700680272\n",
      "7 637 216 0.3390894819466248\n",
      "2 399 60 56 0.15037593984962405 0.14035087719298245\n",
      "3 156 24 33 0.15384615384615385 0.21153846153846154\n",
      "1 24 2 18 0.08333333333333333 0.75\n",
      "\n",
      "direction\n",
      "0 36937 13899 1229 0.3762893575547554 0.03327287002192923\n",
      "3 2354 470 9 0.19966015293118097 0.0038232795242141037\n",
      "5 1920 380 0.19791666666666666\n",
      "4 1897 342 24 0.18028465998945703 0.012651555086979441\n",
      "7 1864 396 0.21244635193133046\n",
      "8 1860 391 0.21021505376344085\n",
      "6 1836 408 0.2222222222222222\n",
      "1 788 129 33 0.16370558375634517 0.04187817258883249\n",
      "2 509 95 23 0.18664047151277013 0.04518664047151277\n",
      "\n",
      "meters\n",
      "0 42076 14399 1318 0.3422140887917102 0.03132427036790569\n",
      "12 1897 532 0.28044280442804426\n",
      "10 1572 447 0.28435114503816794\n",
      "11 1445 350 0.2422145328719723\n",
      "9 1080 274 0.2537037037037037\n",
      "8 372 103 0.2768817204301075\n",
      "5 366 84 0.22950819672131148\n",
      "7 344 90 0.2616279069767442\n",
      "6 265 74 0.2792452830188679\n",
      "4 159 33 0.20754716981132076\n",
      "2 143 50 0.34965034965034963\n",
      "3 132 46 0.3484848484848485\n",
      "1 114 28 0.24561403508771928\n",
      "\n",
      "degshours\n",
      "0 41730 14745 1318 0.3533429187634795 0.03158399233165588\n",
      "1 556 115 0.2068345323741007\n",
      "2 520 111 0.21346153846153845\n",
      "3 435 87 0.2\n",
      "4 396 72 0.18181818181818182\n",
      "8 381 91 0.2388451443569554\n",
      "17 374 74 0.19786096256684493\n",
      "11 372 70 0.1881720430107527\n",
      "21 367 76 0.20708446866485014\n",
      "15 359 91 0.25348189415041783\n",
      "7 359 95 0.2646239554317549\n",
      "24 347 69 0.1988472622478386\n",
      "6 343 79 0.2303206997084548\n",
      "13 341 85 0.24926686217008798\n",
      "5 322 80 0.2484472049689441\n",
      "14 318 60 0.18867924528301888\n",
      "9 300 67 0.22333333333333333\n",
      "18 295 70 0.23728813559322035\n",
      "22 293 49 0.16723549488054607\n",
      "23 290 67 0.23103448275862068\n",
      "19 278 64 0.2302158273381295\n",
      "10 276 56 0.2028985507246377\n",
      "12 246 47 0.1910569105691057\n",
      "16 235 43 0.1829787234042553\n",
      "20 232 47 0.2025862068965517\n",
      "\n",
      "object1\n",
      "0 16750 3973 140 0.23719402985074628 0.00835820895522388\n",
      "1 3483 1312 184 0.3766867642836635 0.05282802182026988\n",
      "5 3222 1219 249 0.3783364369956549 0.07728119180633147\n",
      "2 3182 1274 219 0.40037712130735387 0.06882463859208045\n",
      "3 3099 1159 204 0.3739916101968377 0.06582768635043562\n",
      "6 3034 1176 198 0.38760711931443637 0.06526038233355307\n",
      "4 2944 1118 124 0.3797554347826087 0.042119565217391304\n",
      "7 2353 791 0.3361665958351041\n",
      "13 1874 689 0.36766275346851657\n",
      "12 1817 684 0.37644468904788114\n",
      "14 1784 701 0.3929372197309417\n",
      "9 1740 624 0.3586206896551724\n",
      "10 1677 616 0.3673225998807394\n",
      "8 1658 634 0.3823884197828709\n",
      "11 1348 540 0.40059347181008903\n",
      "\n",
      "nearest\n",
      "0 46868 15655 1318 0.3340232141333106 0.028121532815567125\n",
      "1 3097 855 0.27607361963190186\n",
      "\n",
      "relation1\n",
      "0 29349 8054 193 0.2744216157279635 0.006576033254966098\n",
      "1 6058 2573 550 0.4247276328821393 0.09078903928689336\n",
      "2 6026 2465 575 0.4090607368071689 0.09541984732824428\n",
      "5 2902 1148 0.3955892487939352\n",
      "4 2856 1133 0.39670868347338933\n",
      "3 2774 1137 0.40987743330930065\n",
      "\n",
      "object2\n",
      "0 29349 8054 193 0.2744216157279635 0.006576033254966098\n",
      "5 2149 825 190 0.3838994881340158 0.08841321544904607\n",
      "3 2134 806 205 0.3776944704779756 0.09606373008434864\n",
      "1 2080 891 195 0.4283653846153846 0.09375\n",
      "2 2040 952 155 0.4666666666666667 0.07598039215686274\n",
      "6 2005 918 155 0.45785536159601 0.0773067331670823\n",
      "4 1990 832 225 0.41809045226130653 0.11306532663316583\n",
      "14 1066 369 0.34615384615384615\n",
      "8 1061 379 0.35721017907634306\n",
      "9 1045 408 0.39043062200956935\n",
      "11 1043 399 0.3825503355704698\n",
      "10 1038 444 0.4277456647398844\n",
      "12 1026 433 0.4220272904483431\n",
      "7 1004 410 0.40836653386454186\n",
      "13 935 390 0.41711229946524064\n",
      "\n",
      "relation2\n",
      "0 37740 10959 323 0.29038155802861687 0.008558558558558558\n",
      "1 4037 1818 595 0.4503344067376765 0.14738667327223184\n",
      "2 3990 1855 400 0.4649122807017544 0.10025062656641603\n",
      "4 1401 632 0.4511063526052819\n",
      "3 1401 643 0.45895788722341185\n",
      "5 1396 603 0.43194842406876793\n",
      "\n",
      "object3\n",
      "0 37740 10959 323 0.29038155802861687 0.008558558558558558\n",
      "3 1400 627 145 0.44785714285714284 0.10357142857142858\n",
      "2 1388 629 165 0.4531700288184438 0.11887608069164265\n",
      "5 1386 617 175 0.44516594516594515 0.12626262626262627\n",
      "1 1378 617 250 0.4477503628447025 0.18142235123367198\n",
      "6 1367 621 135 0.4542794440380395 0.09875640087783467\n",
      "4 1346 670 125 0.49777117384843983 0.09286775631500743\n",
      "13 512 218 0.42578125\n",
      "10 511 225 0.44031311154598823\n",
      "11 507 237 0.46745562130177515\n",
      "7 505 224 0.44356435643564357\n",
      "14 498 247 0.4959839357429719\n",
      "8 482 220 0.45643153526970953\n",
      "12 479 204 0.42588726513569936\n",
      "9 466 195 0.4184549356223176\n",
      "\n",
      "self\n",
      "0 46347 15128 1318 0.32640731870455475 0.028437655080156214\n",
      "2 1091 452 0.4142988084326306\n",
      "1 1020 365 0.35784313725490197\n",
      "3 770 315 0.4090909090909091\n",
      "4 737 250 0.33921302578018997\n",
      "\n",
      "gaze\n",
      "0 46301 15174 1318 0.327725103129522 0.02846590786376104\n",
      "1 3664 1336 0.3646288209606987\n",
      "\n"
     ]
    }
   ],
   "source": [
    "for c in df.columns:\n",
    "    if c in [\"x\", \"y_name\", \"subset\", \"type\"]:\n",
    "        continue\n",
    "    trains_counts = df.loc[df[\"subset\"]==\"train\", c].value_counts().to_dict()\n",
    "    valid_counts = df.loc[df[\"subset\"]==\"valid\", c].value_counts().to_dict()\n",
    "    test_counts = df.loc[df[\"subset\"]==\"test\", c].value_counts().to_dict()\n",
    "    print(c)\n",
    "    for k in trains_counts:\n",
    "        if k in test_counts:\n",
    "            print(k, trains_counts[k], valid_counts[k], test_counts[k], valid_counts[k] / trains_counts[k], test_counts[k] / trains_counts[k])\n",
    "        else:\n",
    "            print(k, trains_counts[k], valid_counts[k], valid_counts[k] / trains_counts[k])\n",
    "    print()"
   ]
  },
  {
   "cell_type": "code",
   "execution_count": 7,
   "metadata": {},
   "outputs": [],
   "source": [
    "df.to_csv(\"../../Data/Interim/merged_with_labels_11_patterns_split_diff.csv\", index=False)\n",
    "df = pd.read_csv(\"../../Data/Interim/merged_with_labels_11_patterns_split.csv\")\n",
    "df.sample(2000).to_csv(\"../../Data/Interim/short_split.csv\", index=False)"
   ]
  },
  {
   "cell_type": "markdown",
   "metadata": {},
   "source": [
    "# folds"
   ]
  },
  {
   "cell_type": "code",
   "execution_count": 16,
   "metadata": {},
   "outputs": [
    {
     "data": {
      "text/plain": [
       "8    995\n",
       "7    130\n",
       "1     89\n",
       "5     53\n",
       "0     51\n",
       "Name: y, dtype: int64"
      ]
     },
     "execution_count": 16,
     "metadata": {},
     "output_type": "execute_result"
    }
   ],
   "source": [
    "from sklearn.model_selection import StratifiedKFold\n",
    "df = pd.read_csv(\"../../Data/Interim/merged_with_labels_11_patterns_split.csv\")\n",
    "df[\"fold\"]=-1\n",
    "df[df[\"subset\"]==\"test\"][\"y\"].value_counts()"
   ]
  },
  {
   "cell_type": "code",
   "execution_count": null,
   "metadata": {},
   "outputs": [],
   "source": [
    "skf = StratifiedKFold(n_splits=5, random_state=42)\n",
    "\n",
    "for fold_i, (train_index, test_index) in enumerate(skf.split(df[df[\"subset\"]==\"test\"].index, df[df[\"subset\"]==\"test\"][\"y\"])):\n",
    "    df.loc[df[df[\"subset\"]==\"test\"].index[test_index], \"fold\"] = fold_i\n",
    "    print(len(train_index), len(test_index))\n",
    "for i in range(5):\n",
    "    print(\"fold#\", i)\n",
    "    print(df[df[\"fold\"]==i][\"y\"].value_counts())"
   ]
  },
  {
   "cell_type": "code",
   "execution_count": null,
   "metadata": {},
   "outputs": [],
   "source": [
    "df.to_csv(\"../Data/Interim/merged_with_labels_11_patterns_split.csv\", index=False)"
   ]
  }
 ],
 "metadata": {
  "kernelspec": {
   "display_name": "rl_robots",
   "language": "python",
   "name": "rl_robots"
  },
  "language_info": {
   "codemirror_mode": {
    "name": "ipython",
    "version": 3
   },
   "file_extension": ".py",
   "mimetype": "text/x-python",
   "name": "python",
   "nbconvert_exporter": "python",
   "pygments_lexer": "ipython3",
   "version": "3.8.0"
  }
 },
 "nbformat": 4,
 "nbformat_minor": 4
}
