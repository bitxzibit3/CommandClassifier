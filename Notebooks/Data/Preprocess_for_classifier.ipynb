{
 "cells": [
  {
   "cell_type": "code",
   "execution_count": 1,
   "metadata": {},
   "outputs": [],
   "source": [
    "import json\n",
    "from collections import defaultdict\n",
    "import pandas as pd\n",
    "from sklearn.model_selection import train_test_split"
   ]
  },
  {
   "cell_type": "markdown",
   "metadata": {},
   "source": [
    "# Сформировать множество из разных файлов"
   ]
  },
  {
   "cell_type": "code",
   "execution_count": 2,
   "metadata": {
    "scrolled": true
   },
   "outputs": [
    {
     "name": "stdout",
     "output_type": "stream",
     "text": [
      "0 nan texts\n"
     ]
    }
   ],
   "source": [
    "df = pd.read_csv(\"../../Data/Raw/merged_with_labels_11_patterns.csv\", sep=\";\")\n",
    "print(len(df[df['x'].isna()]), \"nan texts\")\n",
    "df = df[~df['x'].isna()]\n",
    "\n",
    "df_3 = pd.read_csv(\"../../Data/Raw/12052022_one_cmd.csv\", sep=\";\")\n",
    "\n",
    "df_3.drop(\"delayed\", axis=1, inplace=True)\n",
    "\n",
    "df_4 = pd.read_csv(\"/s/ls4/users/grartem/RL_robots/CommandClassifier/Data/Raw/hour_yandex.csv\", sep=\";\")\n",
    "df_4.drop(\"delayed\", axis=1, inplace=True)\n",
    "df_5 = pd.read_csv(\"/s/ls4/users/grartem/RL_robots/CommandClassifier/Data/Raw/turn_around.csv\", sep=\";\")\n",
    "df_5.drop(\"delayed\", axis=1, inplace=True)"
   ]
  },
  {
   "cell_type": "code",
   "execution_count": 3,
   "metadata": {},
   "outputs": [],
   "source": [
    "df = pd.concat([df_3, df[df[\"type\"].isin([\"students\", \"crowdsource\"])], df_4, df_5])"
   ]
  },
  {
   "cell_type": "code",
   "execution_count": 4,
   "metadata": {},
   "outputs": [
    {
     "data": {
      "text/plain": [
       "(21535, 16)"
      ]
     },
     "execution_count": 4,
     "metadata": {},
     "output_type": "execute_result"
    }
   ],
   "source": [
    "df.drop_duplicates(inplace=True)\n",
    "df.shape"
   ]
  },
  {
   "cell_type": "markdown",
   "metadata": {},
   "source": [
    "# предобработка"
   ]
  },
  {
   "cell_type": "code",
   "execution_count": 5,
   "metadata": {},
   "outputs": [],
   "source": [
    "# в случае изменения функции, изменить её и в обработке длинных команд в Analyze_complex_commands.ipynb\n",
    "#punct_characters = re.escape(\".,!?:;-#$*()[]'\\\"/|^%~`_+-\")\n",
    "import re\n",
    "def removePunctETC(value):\n",
    "    if type(value) is float:\n",
    "        return value\n",
    "    value = value.lower()\n",
    "    value = re.sub(\"[^\\w\\s°]\", \" \", value)\n",
    "    return value\n",
    "df[\"x\"] = df[\"x\"].map(removePunctETC)\n",
    "df.drop_duplicates(inplace=True)"
   ]
  },
  {
   "cell_type": "markdown",
   "metadata": {},
   "source": [
    "# сплит"
   ]
  },
  {
   "cell_type": "code",
   "execution_count": 6,
   "metadata": {},
   "outputs": [
    {
     "name": "stdout",
     "output_type": "stream",
     "text": [
      "['generator' 'students' 'crowdsource']\n",
      "valid percent 0.22293526785714285\n"
     ]
    }
   ],
   "source": [
    "# сплит сгенерированной части на трейн и валид \n",
    "print(df[\"type\"].unique())\n",
    "traindf = df[~df[\"type\"].isin(['students', 'crowdsource'])]\n",
    "\n",
    "validIndex = set()\n",
    "for c in traindf.columns:\n",
    "    if c in [\"x\", \"y_name\", \"type\"]:\n",
    "        continue\n",
    "    train_x, valid_x = train_test_split(traindf.index, test_size=0.03, random_state=69, shuffle=True, stratify=traindf[c])\n",
    "    validIndex |= set(valid_x)\n",
    "print(\"valid percent\", len(validIndex) / df.shape[0])\n",
    "subsets = [\"valid\" if i in validIndex else \"train\" for i in range(df.shape[0])]\n",
    "df[\"subset\"] = subsets\n",
    "df.loc[df[\"type\"].isin(['students', 'crowdsource']),\"subset\"] = \"test\""
   ]
  },
  {
   "cell_type": "code",
   "execution_count": 7,
   "metadata": {},
   "outputs": [
    {
     "name": "stdout",
     "output_type": "stream",
     "text": [
      "y\n",
      "9 1676 303 0.1807875894988067\n",
      "3 1675 351 0.20955223880597015\n",
      "4 1573 403 0.256198347107438\n",
      "2 1542 457 0.29636835278858625\n",
      "11 1497 418 0.2792251169004676\n",
      "7 1459 541 130 0.3708019191226868 0.08910212474297464\n",
      "6 1365 485 0.3553113553113553\n",
      "8 1317 683 995 0.5186028853454822 0.7555049354593774\n",
      "10 1298 512 0.39445300462249616\n",
      "5 1060 424 53 0.4 0.05\n",
      "1 925 191 85 0.2064864864864865 0.0918918918918919\n",
      "0 26 12 48 0.46153846153846156 1.8461538461538463\n",
      "\n",
      "action\n",
      "5 3248 754 0.23214285714285715\n",
      "6 2809 1018 1178 0.3624065503737985 0.41936632253470985\n",
      "8 1799 686 0.38132295719844356\n",
      "9 1766 715 0.40486976217440546\n",
      "0 1687 307 30 0.1819798458802608 0.01778304682868998\n",
      "7 1622 644 0.3970406905055487\n",
      "4 1542 457 0.29636835278858625\n",
      "2 736 158 52 0.21467391304347827 0.07065217391304347\n",
      "3 189 33 33 0.1746031746031746 0.1746031746031746\n",
      "1 15 8 18 0.5333333333333333 1.2\n",
      "\n",
      "direction\n",
      "0 9698 3378 1226 0.34831924108063517 0.12641781810682615\n",
      "3 1459 342 9 0.23440712816997944 0.00616860863605209\n",
      "1 804 202 32 0.2512437810945274 0.03980099502487562\n",
      "4 682 177 24 0.2595307917888563 0.03519061583577713\n",
      "8 663 166 0.25037707390648567\n",
      "5 644 156 0.2422360248447205\n",
      "7 636 143 0.2248427672955975\n",
      "6 631 160 0.25356576862123614\n",
      "2 196 56 20 0.2857142857142857 0.10204081632653061\n",
      "\n",
      "meters\n",
      "0 12195 4020 1311 0.3296432964329643 0.10750307503075031\n",
      "12 282 58 0.20567375886524822\n",
      "11 282 70 0.24822695035460993\n",
      "7 279 47 0.16845878136200718\n",
      "4 279 60 0.21505376344086022\n",
      "8 277 78 0.2815884476534296\n",
      "10 274 56 0.20437956204379562\n",
      "3 270 57 0.2111111111111111\n",
      "5 266 75 0.2819548872180451\n",
      "9 265 62 0.2339622641509434\n",
      "1 251 70 0.2788844621513944\n",
      "2 250 75 0.3\n",
      "6 243 52 0.2139917695473251\n",
      "\n",
      "degshours\n",
      "0 12165 4026 1311 0.3309494451294698 0.10776818742293465\n",
      "12 154 26 0.16883116883116883\n",
      "11 154 39 0.2532467532467532\n",
      "13 152 29 0.19078947368421054\n",
      "8 143 38 0.26573426573426573\n",
      "14 142 26 0.18309859154929578\n",
      "19 141 24 0.1702127659574468\n",
      "5 140 33 0.2357142857142857\n",
      "23 140 37 0.2642857142857143\n",
      "1 138 29 0.21014492753623187\n",
      "6 138 29 0.21014492753623187\n",
      "24 138 38 0.2753623188405797\n",
      "2 137 34 0.24817518248175183\n",
      "21 136 41 0.3014705882352941\n",
      "17 135 38 0.2814814814814815\n",
      "10 134 29 0.21641791044776118\n",
      "7 133 33 0.24812030075187969\n",
      "22 132 28 0.21212121212121213\n",
      "9 130 27 0.2076923076923077\n",
      "18 129 27 0.20930232558139536\n",
      "20 127 25 0.1968503937007874\n",
      "3 124 38 0.3064516129032258\n",
      "15 123 28 0.22764227642276422\n",
      "16 118 27 0.2288135593220339\n",
      "4 110 31 0.2818181818181818\n",
      "\n",
      "object1\n",
      "0 7903 1833 133 0.23193723902315577 0.01682905225863596\n",
      "10 566 207 0.3657243816254417\n",
      "3 564 210 204 0.3723404255319149 0.3617021276595745\n",
      "13 559 215 0.38461538461538464\n",
      "6 551 211 198 0.38294010889292196 0.35934664246823955\n",
      "8 543 205 0.3775322283609576\n",
      "2 539 219 219 0.40630797773654914 0.40630797773654914\n",
      "5 538 213 249 0.395910780669145 0.4628252788104089\n",
      "14 534 209 0.3913857677902622\n",
      "4 533 200 124 0.37523452157598497 0.2326454033771107\n",
      "12 529 203 0.3837429111531191\n",
      "1 520 227 184 0.43653846153846154 0.35384615384615387\n",
      "7 513 212 0.41325536062378165\n",
      "11 512 207 0.404296875\n",
      "9 509 209 0.4106090373280943\n",
      "\n",
      "nearest\n",
      "0 14048 4295 1311 0.3057374715261959 0.09332289293849658\n",
      "1 1365 485 0.3553113553113553\n",
      "\n",
      "relation1\n",
      "0 12637 3556 186 0.28139590092585265 0.014718683231779694\n",
      "2 591 250 575 0.4230118443316413 0.9729272419627749\n",
      "4 569 246 0.43233743409490333\n",
      "5 542 229 0.4225092250922509\n",
      "1 539 252 550 0.4675324675324675 1.0204081632653061\n",
      "3 535 247 0.4616822429906542\n",
      "\n",
      "object2\n",
      "0 12637 3556 186 0.28139590092585265 0.014718683231779694\n",
      "11 217 101 0.46543778801843316\n",
      "4 216 104 225 0.48148148148148145 1.0416666666666667\n",
      "12 213 87 0.4084507042253521\n",
      "10 212 97 0.45754716981132076\n",
      "14 212 83 0.3915094339622642\n",
      "5 208 78 190 0.375 0.9134615384615384\n",
      "9 200 94 0.47\n",
      "6 199 89 155 0.4472361809045226 0.7788944723618091\n",
      "7 198 72 0.36363636363636365\n",
      "1 195 83 195 0.4256410256410256 1.0\n",
      "2 184 83 155 0.45108695652173914 0.842391304347826\n",
      "8 184 74 0.40217391304347827\n",
      "13 170 82 0.4823529411764706\n",
      "3 168 97 205 0.5773809523809523 1.2202380952380953\n",
      "\n",
      "relation2\n",
      "0 14096 4097 316 0.29064982973893305 0.022417707150964812\n",
      "2 287 147 400 0.5121951219512195 1.3937282229965158\n",
      "1 265 144 595 0.5433962264150943 2.2452830188679247\n",
      "5 263 132 0.5019011406844106\n",
      "4 255 125 0.49019607843137253\n",
      "3 247 135 0.5465587044534413\n",
      "\n",
      "object3\n",
      "0 14096 4097 316 0.29064982973893305 0.022417707150964812\n",
      "6 108 40 135 0.37037037037037035 1.25\n",
      "4 107 46 125 0.42990654205607476 1.1682242990654206\n",
      "2 102 38 165 0.37254901960784315 1.6176470588235294\n",
      "7 97 49 0.5051546391752577\n",
      "14 97 52 0.5360824742268041\n",
      "10 96 52 0.5416666666666666\n",
      "13 96 48 0.5\n",
      "12 95 60 0.631578947368421\n",
      "3 94 58 145 0.6170212765957447 1.5425531914893618\n",
      "11 89 46 0.5168539325842697\n",
      "8 86 41 0.47674418604651164\n",
      "5 86 42 175 0.4883720930232558 2.0348837209302326\n",
      "1 83 49 250 0.5903614457831325 3.0120481927710845\n",
      "9 81 62 0.7654320987654321\n",
      "\n",
      "self\n",
      "0 14115 4268 1311 0.30237336167198015 0.09287991498405951\n",
      "3 362 127 0.35082872928176795\n",
      "4 331 148 0.4471299093655589\n",
      "1 320 125 0.390625\n",
      "2 285 112 0.3929824561403509\n",
      "\n",
      "gaze\n",
      "0 13916 4362 1311 0.31345214141994826 0.09420810577752228\n",
      "1 1497 418 0.2792251169004676\n",
      "\n"
     ]
    }
   ],
   "source": [
    "for c in df.columns:\n",
    "    if c in [\"x\", \"y_name\", \"subset\", \"type\"]:\n",
    "        continue\n",
    "    trains_counts = df.loc[df[\"subset\"]==\"train\", c].value_counts().to_dict()\n",
    "    valid_counts = df.loc[df[\"subset\"]==\"valid\", c].value_counts().to_dict()\n",
    "    test_counts = df.loc[df[\"subset\"]==\"test\", c].value_counts().to_dict()\n",
    "    print(c)\n",
    "    for k in trains_counts:\n",
    "        if k in test_counts:\n",
    "            print(k, trains_counts[k], valid_counts[k], test_counts[k], valid_counts[k] / trains_counts[k], test_counts[k] / trains_counts[k])\n",
    "        else:\n",
    "            print(k, trains_counts[k], valid_counts[k], valid_counts[k] / trains_counts[k])\n",
    "    print()"
   ]
  },
  {
   "cell_type": "code",
   "execution_count": 8,
   "metadata": {},
   "outputs": [],
   "source": [
    "df.to_csv(\"../../Data/Interim/24052022_onecmd_split.csv\", index=False)\n",
    "#df = pd.read_csv(\"../../Data/Interim/merged_with_labels_11_patterns_split.csv\")\n",
    "#df.sample(2000).to_csv(\"../../Data/Interim/short_split.csv\", index=False)"
   ]
  },
  {
   "cell_type": "markdown",
   "metadata": {},
   "source": [
    "# folds"
   ]
  },
  {
   "cell_type": "code",
   "execution_count": 9,
   "metadata": {},
   "outputs": [
    {
     "data": {
      "text/plain": [
       "8    995\n",
       "7    130\n",
       "1     85\n",
       "5     53\n",
       "0     48\n",
       "Name: y, dtype: int64"
      ]
     },
     "execution_count": 9,
     "metadata": {},
     "output_type": "execute_result"
    }
   ],
   "source": [
    "from sklearn.model_selection import StratifiedKFold\n",
    "df = pd.read_csv(\"../../Data/Interim/24052022_onecmd_split.csv\")\n",
    "df_old_folds = pd.read_csv(\"../../Data/Interim/merged_with_labels_11_patterns_split.csv\")\n",
    "df[\"fold\"]=-1\n",
    "df[df[\"subset\"]==\"test\"][\"y\"].value_counts()"
   ]
  },
  {
   "cell_type": "code",
   "execution_count": 10,
   "metadata": {},
   "outputs": [
    {
     "name": "stdout",
     "output_type": "stream",
     "text": [
      "1048 263\n",
      "1049 262\n",
      "1049 262\n",
      "1049 262\n",
      "1049 262\n",
      "fold# 0\n",
      "8    199\n",
      "7     26\n",
      "1     17\n",
      "5     11\n",
      "0     10\n",
      "Name: y, dtype: int64\n",
      "fold# 1\n",
      "8    199\n",
      "7     26\n",
      "1     17\n",
      "0     10\n",
      "5     10\n",
      "Name: y, dtype: int64\n",
      "fold# 2\n",
      "8    199\n",
      "7     26\n",
      "1     17\n",
      "0     10\n",
      "5     10\n",
      "Name: y, dtype: int64\n",
      "fold# 3\n",
      "8    199\n",
      "7     26\n",
      "1     17\n",
      "5     11\n",
      "0      9\n",
      "Name: y, dtype: int64\n",
      "fold# 4\n",
      "8    199\n",
      "7     26\n",
      "1     17\n",
      "5     11\n",
      "0      9\n",
      "Name: y, dtype: int64\n"
     ]
    }
   ],
   "source": [
    "skf = StratifiedKFold(n_splits=5)\n",
    "\n",
    "for fold_i, (train_index, test_index) in enumerate(skf.split(df[df[\"subset\"]==\"test\"].index, df[df[\"subset\"]==\"test\"][\"y\"])):\n",
    "    df.loc[df[df[\"subset\"]==\"test\"].index[test_index], \"fold\"] = fold_i\n",
    "    print(len(train_index), len(test_index))\n",
    "for i in range(5):\n",
    "    print(\"fold#\", i)\n",
    "    print(df[df[\"fold\"]==i][\"y\"].value_counts())"
   ]
  },
  {
   "cell_type": "code",
   "execution_count": 11,
   "metadata": {},
   "outputs": [],
   "source": [
    "df.to_csv(\"../../Data/Interim/24052022_onecmd_split.csv\", index=False)"
   ]
  }
 ],
 "metadata": {
  "kernelspec": {
   "display_name": "rl_robots",
   "language": "python",
   "name": "rl_robots"
  },
  "language_info": {
   "codemirror_mode": {
    "name": "ipython",
    "version": 3
   },
   "file_extension": ".py",
   "mimetype": "text/x-python",
   "name": "python",
   "nbconvert_exporter": "python",
   "pygments_lexer": "ipython3",
   "version": "3.8.0"
  }
 },
 "nbformat": 4,
 "nbformat_minor": 4
}
