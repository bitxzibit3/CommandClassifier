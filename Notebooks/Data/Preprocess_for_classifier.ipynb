{
 "cells": [
  {
   "cell_type": "code",
   "execution_count": 1,
   "metadata": {},
   "outputs": [],
   "source": [
    "import json\n",
    "from collections import defaultdict\n",
    "import numpy as np\n",
    "import pandas as pd\n",
    "from sklearn.model_selection import train_test_split"
   ]
  },
  {
   "cell_type": "markdown",
   "metadata": {},
   "source": [
    "# Сформировать множество из разных файлов"
   ]
  },
  {
   "cell_type": "code",
   "execution_count": 2,
   "metadata": {
    "scrolled": true
   },
   "outputs": [
    {
     "name": "stdout",
     "output_type": "stream",
     "text": [
      "(55871, 17)\n",
      "0 nan texts\n"
     ]
    },
    {
     "data": {
      "text/plain": [
       "(55871, 16)"
      ]
     },
     "execution_count": 2,
     "metadata": {},
     "output_type": "execute_result"
    }
   ],
   "source": [
    "# df = pd.read_csv(\"../../Data/Raw/one_cmd_v3_03062022.csv\", sep=\";\")\n",
    "df = pd.read_csv(\"../../Data/Raw/one_cmd_v4_05072022.csv\", sep=\";\")\n",
    "print(df.shape)\n",
    "print(len(df[df['x'].isna()]), \"nan texts\")\n",
    "df = df[~df['x'].isna()]\n",
    "df.drop(\"delayed\", axis=1, inplace=True)\n",
    "df.drop_duplicates(inplace=True)\n",
    "df.shape"
   ]
  },
  {
   "cell_type": "markdown",
   "metadata": {},
   "source": [
    "# предобработка"
   ]
  },
  {
   "cell_type": "code",
   "execution_count": 3,
   "metadata": {},
   "outputs": [
    {
     "data": {
      "text/plain": [
       "(55828, 16)"
      ]
     },
     "execution_count": 3,
     "metadata": {},
     "output_type": "execute_result"
    }
   ],
   "source": [
    "# в случае изменения функции, изменить её и в обработке длинных команд в Analyze_complex_commands.ipynb\n",
    "#punct_characters = re.escape(\".,!?:;-#$*()[]'\\\"/|^%~`_+-\")\n",
    "import re\n",
    "def removePunctETC(value):\n",
    "    if type(value) is float:\n",
    "        return value\n",
    "    value = value.lower()\n",
    "    value = re.sub(\"[^\\w\\s°]\", \" \", value)\n",
    "    value = re.sub(\" {2,}\", \" \", value)\n",
    "    return value\n",
    "df[\"x\"] = df[\"x\"].map(removePunctETC)\n",
    "df.drop_duplicates(inplace=True)  # не делаю, чтоб сплит совпал с обычными\n",
    "df.shape"
   ]
  },
  {
   "cell_type": "markdown",
   "metadata": {},
   "source": [
    "# сплит"
   ]
  },
  {
   "cell_type": "code",
   "execution_count": 4,
   "metadata": {},
   "outputs": [
    {
     "name": "stdout",
     "output_type": "stream",
     "text": [
      "['generator']\n",
      "valid percent 0.23837500895607938\n"
     ]
    }
   ],
   "source": [
    "# сплит сгенерированной части на трейн и валид \n",
    "print(df[\"type\"].unique())\n",
    "traindf = df[~df[\"type\"].isin(['students', 'crowdsource'])]\n",
    "\n",
    "validIndex = set()\n",
    "for c in traindf.columns:\n",
    "    if c in [\"x\", \"y_name\", \"type\"]:\n",
    "        continue\n",
    "    train_x, valid_x = train_test_split(traindf.index, test_size=0.03, random_state=69, shuffle=True, stratify=traindf[c])\n",
    "    validIndex |= set(valid_x)\n",
    "print(\"valid percent\", len(validIndex) / df.shape[0])\n",
    "subsets = [\"valid\" if i in validIndex else \"train\" for i in range(df.shape[0])]\n",
    "df[\"subset\"] = subsets\n",
    "df.loc[df[\"type\"].isin(['students', 'crowdsource']),\"subset\"] = \"test\""
   ]
  },
  {
   "cell_type": "code",
   "execution_count": 5,
   "metadata": {},
   "outputs": [
    {
     "name": "stdout",
     "output_type": "stream",
     "text": [
      "y\n",
      "9 5086 684 0.0 3\n",
      "2 4655 1331 0.0 3\n",
      "7 4312 1688 0.0 3\n",
      "11 4222 1103 0.0 3\n",
      "3 4071 885 0.0 3\n",
      "8 4028 1972 0.0 3\n",
      "6 3902 1284 0.0 3\n",
      "10 3808 1562 0.0 3\n",
      "4 3799 989 0.0 3\n",
      "5 2700 1005 0.0 3\n",
      "1 2177 457 0.0 3\n",
      "0 36 11 0.0 3\n",
      "\n",
      "action\n",
      "5 7870 1874 0.0 3\n",
      "6 7363 2451 0.0 3\n",
      "0 5098 687 0.0 3\n",
      "4 4655 1331 0.0 3\n",
      "9 4189 1540 0.0 3\n",
      "10 4146 1623 0.0 3\n",
      "8 4106 1620 0.0 3\n",
      "7 3168 1380 0.0 3\n",
      "2 1921 403 0.0 3\n",
      "3 256 54 0.0 3\n",
      "1 16 7 0.0 3\n",
      "11 5 1 0.0 3\n",
      "12 3\n",
      "\n",
      "direction\n",
      "0 28094 9309 0.0 3\n",
      "3 3524 851 0.0 3\n",
      "1 2185 602 0.0 3\n",
      "4 1742 407 0.0 3\n",
      "7 1677 410 0.0 3\n",
      "5 1668 420 0.0 3\n",
      "6 1646 414 0.0 3\n",
      "8 1593 402 0.0 3\n",
      "2 667 156 0.0 3\n",
      "\n",
      "meters\n",
      "0 33055 10956 0.0 3\n",
      "6 850 165 0.0 3\n",
      "1 847 163 0.0 3\n",
      "10 833 170 0.0 3\n",
      "3 825 155 0.0 3\n",
      "5 817 163 0.0 3\n",
      "4 813 180 0.0 3\n",
      "11 807 185 0.0 3\n",
      "2 807 175 0.0 3\n",
      "8 795 156 0.0 3\n",
      "9 791 162 0.0 3\n",
      "12 789 159 0.0 3\n",
      "7 767 182 0.0 3\n",
      "\n",
      "degshours\n",
      "0 34926 11097 0.0 3\n",
      "7 363 71 0.0 3\n",
      "12 354 94 0.0 3\n",
      "6 350 73 0.0 3\n",
      "3 348 78 0.0 3\n",
      "11 341 68 0.0 3\n",
      "10 341 72 0.0 3\n",
      "2 338 79 0.0 3\n",
      "5 337 88 0.0 3\n",
      "18 333 79 0.0 3\n",
      "4 331 86 0.0 3\n",
      "8 330 76 0.0 3\n",
      "1 328 77 0.0 3\n",
      "24 327 78 0.0 3\n",
      "22 323 86 0.0 3\n",
      "19 319 73 0.0 3\n",
      "21 317 73 0.0 3\n",
      "13 317 71 0.0 3\n",
      "20 316 79 0.0 3\n",
      "15 315 80 0.0 3\n",
      "16 315 82 0.0 3\n",
      "23 310 79 0.0 3\n",
      "14 308 80 0.0 3\n",
      "9 306 74 0.0 3\n",
      "17 303 78 0.0 3\n",
      "\n",
      "object1\n",
      "0 21001 4631 0.0 3\n",
      "1 1600 633 0.0 3\n",
      "10 1584 600 0.0 3\n",
      "12 1583 604 0.0 3\n",
      "13 1575 575 0.0 3\n",
      "6 1567 641 0.0 3\n",
      "7 1566 590 0.0 3\n",
      "9 1565 567 0.0 3\n",
      "3 1561 576 0.0 3\n",
      "4 1560 588 0.0 3\n",
      "2 1555 584 0.0 3\n",
      "14 1553 607 0.0 3\n",
      "5 1549 635 0.0 3\n",
      "8 1514 626 0.0 3\n",
      "11 1463 514 0.0 3\n",
      "\n",
      "nearest\n",
      "0 38894 11687 0.0 3\n",
      "1 3902 1284 0.0 3\n",
      "\n",
      "relation1\n",
      "0 34456 9311 0.0 3\n",
      "3 1727 745 0.0 3\n",
      "1 1674 705 0.0 3\n",
      "2 1662 728 0.0 3\n",
      "4 1642 753 0.0 3\n",
      "5 1635 729 0.0 3\n",
      "\n",
      "object2\n",
      "0 34456 9311 0.0 3\n",
      "11 680 280 0.0 3\n",
      "1 627 250 0.0 3\n",
      "10 624 253 0.0 3\n",
      "5 600 271 0.0 3\n",
      "12 599 263 0.0 3\n",
      "4 596 252 0.0 3\n",
      "8 594 250 0.0 3\n",
      "14 594 282 0.0 3\n",
      "9 581 234 0.0 3\n",
      "13 580 285 0.0 3\n",
      "7 571 249 0.0 3\n",
      "6 571 271 0.0 3\n",
      "3 567 249 0.0 3\n",
      "2 556 271 0.0 3\n",
      "\n",
      "relation2\n",
      "0 38768 10999 0.0 3\n",
      "4 831 411 0.0 3\n",
      "5 822 407 0.0 3\n",
      "1 805 404 1.0 3\n",
      "2 797 376 0.0 3\n",
      "3 773 374 0.0 3\n",
      "\n",
      "object3\n",
      "0 38768 10999 0.0 3\n",
      "13 303 142 0.0 3\n",
      "7 301 147 0.0 3\n",
      "5 298 121 0.0 3\n",
      "6 298 153 1.0 3\n",
      "8 294 131 0.0 3\n",
      "1 292 127 0.0 3\n",
      "10 291 142 0.0 3\n",
      "12 291 150 1.0 3\n",
      "2 289 123 0.0 3\n",
      "14 284 132 0.0 3\n",
      "9 279 165 1.0 3\n",
      "3 278 135 0.0 3\n",
      "4 268 147 1.0 3\n",
      "11 262 157 1.0 3\n",
      "\n",
      "self\n",
      "0 38988 11409 0.0 3\n",
      "3 1084 430 0.0 3\n",
      "4 1016 440 0.0 3\n",
      "1 871 345 0.0 3\n",
      "2 837 347 0.0 3\n",
      "\n",
      "gaze\n",
      "0 38574 11868 0.0 3\n",
      "1 4222 1103 0.0 3\n",
      "\n"
     ]
    }
   ],
   "source": [
    "for c in df.columns:\n",
    "    if c in [\"x\", \"y_name\", \"subset\", \"type\"]:\n",
    "        continue\n",
    "    trains_counts = df.loc[df[\"subset\"]==\"train\", c].value_counts().to_dict()\n",
    "    valid_counts = df.loc[df[\"subset\"]==\"valid\", c].value_counts().to_dict()\n",
    "    test_counts = df.loc[df[\"subset\"]==\"test\", c].value_counts().to_dict()\n",
    "    print(c)\n",
    "    for k in trains_counts:\n",
    "        if k in test_counts:\n",
    "            print(k, trains_counts[k], valid_counts[k], test_counts[k], np.round(valid_counts[k] / trains_counts[k], 3), np.round(test_counts[k] / trains_counts[k],2))\n",
    "        elif k in valid_counts:\n",
    "            print(k, trains_counts[k], valid_counts[k], np.round(valid_counts[k] / trains_counts[k]), 3)\n",
    "        else:\n",
    "            print(k, trains_counts[k])\n",
    "    print()"
   ]
  },
  {
   "cell_type": "code",
   "execution_count": 5,
   "metadata": {},
   "outputs": [],
   "source": [
    "df.to_csv(\"../../Data/Interim/one_cmd_v4_05072022_low_split.csv\", index=False)\n",
    "#df = pd.read_csv(\"../../Data/Interim/merged_with_labels_11_patterns_split.csv\")\n",
    "#df.sample(2000).to_csv(\"../../Data/Interim/short_split.csv\", index=False)"
   ]
  },
  {
   "cell_type": "markdown",
   "metadata": {},
   "source": [
    "# folds"
   ]
  },
  {
   "cell_type": "code",
   "execution_count": 6,
   "metadata": {},
   "outputs": [
    {
     "data": {
      "text/plain": [
       "Series([], Name: y, dtype: int64)"
      ]
     },
     "execution_count": 6,
     "metadata": {},
     "output_type": "execute_result"
    }
   ],
   "source": [
    "from sklearn.model_selection import StratifiedKFold\n",
    "df = pd.read_csv(\"../../Data/Interim/one_cmd_v4_05072022_low_split.csv\")\n",
    "df_old_folds = pd.read_csv(\"../../Data/Interim/merged_with_labels_11_patterns_split.csv\")\n",
    "df[\"fold\"]=-1\n",
    "df[df[\"subset\"]==\"test\"][\"y\"].value_counts()"
   ]
  },
  {
   "cell_type": "code",
   "execution_count": 7,
   "metadata": {},
   "outputs": [
    {
     "data": {
      "text/plain": [
       "Series([], Name: action, dtype: int64)"
      ]
     },
     "execution_count": 7,
     "metadata": {},
     "output_type": "execute_result"
    }
   ],
   "source": [
    "df[df[\"subset\"]==\"test\"][\"action\"].value_counts()"
   ]
  },
  {
   "cell_type": "code",
   "execution_count": 8,
   "metadata": {},
   "outputs": [],
   "source": [
    "df = pd.concat([df, df_old_folds[df_old_folds[\"subset\"]==\"test\"]])"
   ]
  },
  {
   "cell_type": "code",
   "execution_count": 9,
   "metadata": {},
   "outputs": [
    {
     "data": {
      "text/plain": [
       "x            False\n",
       "y_name       False\n",
       "y            False\n",
       "action       False\n",
       "direction    False\n",
       "meters       False\n",
       "degshours    False\n",
       "object1      False\n",
       "nearest      False\n",
       "relation1    False\n",
       "object2      False\n",
       "relation2    False\n",
       "object3      False\n",
       "self         False\n",
       "gaze         False\n",
       "type         False\n",
       "subset       False\n",
       "fold         False\n",
       "dtype: bool"
      ]
     },
     "execution_count": 9,
     "metadata": {},
     "output_type": "execute_result"
    }
   ],
   "source": [
    "(df.isna()).any()"
   ]
  },
  {
   "cell_type": "code",
   "execution_count": 10,
   "metadata": {},
   "outputs": [],
   "source": [
    "df[\"x\"] = df[\"x\"].map(removePunctETC)"
   ]
  },
  {
   "cell_type": "raw",
   "metadata": {},
   "source": [
    "skf = StratifiedKFold(n_splits=5)\n",
    "\n",
    "for fold_i, (train_index, test_index) in enumerate(skf.split(df[df[\"subset\"]==\"test\"].index, df[df[\"subset\"]==\"test\"][\"y\"])):\n",
    "    df.loc[df[df[\"subset\"]==\"test\"].index[test_index], \"fold\"] = fold_i\n",
    "    print(len(train_index), len(test_index))\n",
    "for i in range(5):\n",
    "    print(\"fold#\", i)\n",
    "    print(df[df[\"fold\"]==i][\"y\"].value_counts())"
   ]
  },
  {
   "cell_type": "code",
   "execution_count": 11,
   "metadata": {},
   "outputs": [],
   "source": [
    "df.to_csv(\"../../Data/Interim/one_cmd_v4_05072022_low_split.csv\", index=False)"
   ]
  },
  {
   "cell_type": "code",
   "execution_count": null,
   "metadata": {},
   "outputs": [],
   "source": []
  }
 ],
 "metadata": {
  "kernelspec": {
   "display_name": "Main",
   "language": "python",
   "name": "main"
  },
  "language_info": {
   "codemirror_mode": {
    "name": "ipython",
    "version": 3
   },
   "file_extension": ".py",
   "mimetype": "text/x-python",
   "name": "python",
   "nbconvert_exporter": "python",
   "pygments_lexer": "ipython3",
   "version": "3.6.13"
  }
 },
 "nbformat": 4,
 "nbformat_minor": 4
}
