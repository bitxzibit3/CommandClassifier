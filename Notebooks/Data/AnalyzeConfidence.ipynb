{
 "cells": [
  {
   "cell_type": "code",
   "execution_count": 1,
   "metadata": {},
   "outputs": [
    {
     "name": "stdout",
     "output_type": "stream",
     "text": [
      "CUDA True\n"
     ]
    }
   ],
   "source": [
    "import sys\n",
    "sys.path.append(\"/s/ls4/users/grartem/RL_robots/CommandClassifier\")\n",
    "import os\n",
    "os.environ[\"CUDA_VISIBLE_DEVICES\"]=\"0\"\n",
    "from collections import defaultdict\n",
    "from copy import deepcopy\n",
    "import torch\n",
    "\n",
    "print(\"CUDA\", torch.cuda.is_available())\n",
    "import yaml\n",
    "import pyhocon\n",
    "import json\n",
    "import pandas as pd\n",
    "import numpy as np\n",
    "from sklearn.preprocessing import OneHotEncoder\n",
    "import simpletransformers\n",
    "from sklearn.metrics import classification_report\n",
    "from RobotCommandClassifier import utils\n",
    "from RobotCommandClassifier import *\n",
    "from MultilabelML import PrepareData, PrepareInput_for_simpletransformers, PrepareModel"
   ]
  },
  {
   "cell_type": "code",
   "execution_count": 2,
   "metadata": {},
   "outputs": [],
   "source": [
    "#configFileContent = pyhocon.ConfigFactory.parse_file(\"../Configs/CustomML.conf\")\n",
    "#CONFIG = configFileContent['MyMultiTiny2_data2_fold0'].as_plain_ordered_dict()\n",
    "\n",
    "with open(\"/s/ls4/users/grartem/RL_robots/CommandClassifier/models/MyMultiTiny2_data2/fold_0/config.json\", \"r\") as f:\n",
    "    CONFIG = json.load(f)\n",
    "# если хотим протестировать на всем тесте, включая фолды, на которых он обучался\n",
    "#CONFIG[\"Data\"].pop(\"test_only_on_fold\")"
   ]
  },
  {
   "cell_type": "code",
   "execution_count": 3,
   "metadata": {},
   "outputs": [],
   "source": [
    "train_x_df, train_y_df, valid_x_df, valid_y_df, test_x_df, test_y_df = PrepareData(CONFIG)"
   ]
  },
  {
   "cell_type": "code",
   "execution_count": 4,
   "metadata": {},
   "outputs": [],
   "source": [
    "CONFIG[\"Model\"]['model_name'] = CONFIG[\"output_dir\"] + '/models/checkpoint-63780-epoch-10'\n",
    "model = PrepareModel(CONFIG)"
   ]
  },
  {
   "cell_type": "code",
   "execution_count": 5,
   "metadata": {},
   "outputs": [
    {
     "data": {
      "application/vnd.jupyter.widget-view+json": {
       "model_id": "b39b6ab715c8411586b2809aa60b3023",
       "version_major": 2,
       "version_minor": 0
      },
      "text/plain": [
       "  0%|          | 0/264 [00:00<?, ?it/s]"
      ]
     },
     "metadata": {},
     "output_type": "display_data"
    },
    {
     "data": {
      "application/vnd.jupyter.widget-view+json": {
       "model_id": "6b3cf2117441451e8179afa7bb0f8999",
       "version_major": 2,
       "version_minor": 0
      },
      "text/plain": [
       "  0%|          | 0/33 [00:00<?, ?it/s]"
      ]
     },
     "metadata": {},
     "output_type": "display_data"
    }
   ],
   "source": [
    "predictions, raw_outputs = model.predict(test_x_df.values.tolist())"
   ]
  },
  {
   "cell_type": "code",
   "execution_count": 6,
   "metadata": {},
   "outputs": [],
   "source": [
    "def softmax(x):\n",
    "    e_x = x - np.expand_dims(np.max(x, axis=1), axis=1)\n",
    "    return e_x / np.expand_dims(e_x.sum(axis=1), axis=1)\n",
    "softmax_outputs = np.zeros_like(raw_outputs)\n",
    "shift = 0\n",
    "for num_sublabels in CONFIG['Model']['num_sublabels_per_biglabel']:\n",
    "    softmax_outputs[:, shift:shift + num_sublabels] = softmax(raw_outputs[:, shift:shift + num_sublabels])\n",
    "    shift += num_sublabels"
   ]
  },
  {
   "cell_type": "code",
   "execution_count": 7,
   "metadata": {},
   "outputs": [
    {
     "name": "stdout",
     "output_type": "stream",
     "text": [
      "2640 528\n"
     ]
    }
   ],
   "source": [
    "# analyze confidence\n",
    "number_of_low_confidence = 0\n",
    "number_of_high_confidence = 0\n",
    "for i in range(len(softmax_outputs)):\n",
    "    shift = 0\n",
    "    predicted_tuples = []\n",
    "    for cat_i in range(len(CONFIG[\"Model\"]['num_sublabels_per_biglabel'])):\n",
    "        probs = softmax_outputs[i, shift:shift+CONFIG[\"Model\"]['num_sublabels_per_biglabel'][cat_i]]\n",
    "        assert probs.sum()>=0.9999\n",
    "        chosen_probs = np.where(probs > 0.7)[0]\n",
    "        if len(chosen_probs)==0:\n",
    "            #chosen_probs = [np.argmax(probs)]\n",
    "            #print(i, \"Low confidence\", CONFIG[\"Data\"][\"target_columns\"][cat_i], np.round(probs, 3))\n",
    "            number_of_low_confidence += 1\n",
    "        else:\n",
    "            #print(i, \"High confidence\", CONFIG[\"Data\"][\"target_columns\"][cat_i], np.round(probs, 3))\n",
    "            number_of_high_confidence += 1\n",
    "        shift += CONFIG[\"Model\"]['num_sublabels_per_biglabel'][cat_i]\n",
    "print(number_of_low_confidence, number_of_high_confidence)"
   ]
  }
 ],
 "metadata": {
  "kernelspec": {
   "display_name": "simptr",
   "language": "python",
   "name": "simptr"
  },
  "language_info": {
   "codemirror_mode": {
    "name": "ipython",
    "version": 3
   },
   "file_extension": ".py",
   "mimetype": "text/x-python",
   "name": "python",
   "nbconvert_exporter": "python",
   "pygments_lexer": "ipython3",
   "version": "3.8.0"
  }
 },
 "nbformat": 4,
 "nbformat_minor": 4
}
