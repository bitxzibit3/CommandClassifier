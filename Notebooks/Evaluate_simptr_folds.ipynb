{
 "cells": [
  {
   "cell_type": "code",
   "execution_count": 1,
   "metadata": {},
   "outputs": [],
   "source": [
    "import sys\n",
    "sys.path.append(\"/s/ls4/users/grartem/RL_robots/CommandClassifier\")\n",
    "import os\n",
    "os.environ[\"CUDA_VISIBLE_DEVICES\"]=\"0\"\n",
    "import torch\n",
    "torch.cuda.is_available()\n",
    "import yaml\n",
    "import pyhocon\n",
    "import json\n",
    "import pandas as pd\n",
    "import numpy as np\n",
    "from sklearn.preprocessing import OneHotEncoder\n",
    "import simpletransformers\n",
    "from sklearn.metrics import classification_report\n",
    "from simpletransformers.classification import (\n",
    "    MultiLabelClassificationModel, MultiLabelClassificationArgs\n",
    ")\n",
    "from RobotCommandClassifier import utils"
   ]
  },
  {
   "cell_type": "code",
   "execution_count": 2,
   "metadata": {},
   "outputs": [],
   "source": [
    "configFileContent = pyhocon.ConfigFactory.parse_file(\"../Configs/SimpleLM.conf\")\n",
    "CONFIG = configFileContent['rubert_tiny2_fold4'].as_plain_ordered_dict()"
   ]
  },
  {
   "cell_type": "raw",
   "metadata": {},
   "source": [
    "# если хотим протестировать на всем тесте, включая фолды, на которых он обучался\n",
    "CONFIG[\"Data\"].pop(\"test_only_on_fold\")"
   ]
  },
  {
   "cell_type": "code",
   "execution_count": 3,
   "metadata": {},
   "outputs": [],
   "source": [
    "train_x_df, train_y_df, valid_x_df, valid_y_df, test_x_df, test_y_df = utils.load_data(**CONFIG[\"Data\"])\n",
    "\n",
    "enc = OneHotEncoder()\n",
    "enc.fit(train_y_df.values)\n",
    "\n",
    "labels = []\n",
    "encoded_labels = enc.transform(train_y_df.values).toarray().astype(int)\n",
    "for i in range(train_y_df.shape[0]):\n",
    "    labels.append(encoded_labels[i].tolist())\n",
    "train_df = pd.DataFrame(list(zip(train_x_df, labels)))\n",
    "train_df.columns = [\"text\", \"labels\"]"
   ]
  },
  {
   "cell_type": "code",
   "execution_count": 4,
   "metadata": {},
   "outputs": [],
   "source": [
    "model_args = MultiLabelClassificationArgs(**CONFIG[\"Model\"][\"Args\"])\n",
    "\n",
    "# Create a MultiLabelClassificationModel\n",
    "model = MultiLabelClassificationModel(\n",
    "    CONFIG[\"Model\"][\"model_type\"],\n",
    "    #CONFIG[\"Model\"][\"model_name\"],    \n",
    "    CONFIG[\"output_dir\"] + '/models/checkpoint-63780-epoch-10',\n",
    "    num_labels=len(labels[0]),\n",
    "    use_cuda=True,\n",
    "    args=model_args,\n",
    "    \n",
    ")"
   ]
  },
  {
   "cell_type": "code",
   "execution_count": 5,
   "metadata": {},
   "outputs": [
    {
     "data": {
      "application/vnd.jupyter.widget-view+json": {
       "model_id": "c2ac0904954f462ea699cce6df03403d",
       "version_major": 2,
       "version_minor": 0
      },
      "text/plain": [
       "  0%|          | 0/263 [00:00<?, ?it/s]"
      ]
     },
     "metadata": {},
     "output_type": "display_data"
    },
    {
     "data": {
      "application/vnd.jupyter.widget-view+json": {
       "model_id": "8fb40108440e428d8a11b436576d3ba5",
       "version_major": 2,
       "version_minor": 0
      },
      "text/plain": [
       "  0%|          | 0/33 [00:00<?, ?it/s]"
      ]
     },
     "metadata": {},
     "output_type": "display_data"
    }
   ],
   "source": [
    "predictions, raw_outputs = model.predict(test_x_df.values.tolist())\n",
    "\n",
    "predictions_2 = np.zeros((len(predictions), len(enc.categories_)))\n",
    "for i in range(len(predictions)):\n",
    "    shift = 0\n",
    "    for j in range(len(enc.categories_)):\n",
    "        predictions_2[i,j] = np.argmax(raw_outputs[i, shift:shift+len(enc.categories_[j])])\n",
    "        shift += len(enc.categories_[j])\n"
   ]
  },
  {
   "cell_type": "code",
   "execution_count": 6,
   "metadata": {},
   "outputs": [
    {
     "name": "stdout",
     "output_type": "stream",
     "text": [
      "y\n",
      "              precision    recall  f1-score   support\n",
      "\n",
      "         0.0       0.75      0.60      0.67        10\n",
      "         1.0       0.89      0.89      0.89        18\n",
      "         5.0       0.78      0.70      0.74        10\n",
      "         6.0       0.00      0.00      0.00         0\n",
      "         7.0       0.80      0.92      0.86        26\n",
      "         8.0       0.99      0.97      0.98       199\n",
      "        11.0       0.00      0.00      0.00         0\n",
      "\n",
      "    accuracy                           0.94       263\n",
      "   macro avg       0.60      0.58      0.59       263\n",
      "weighted avg       0.95      0.94      0.94       263\n",
      "\n",
      "94.0 \t correct_samples_perc\n",
      "94.0 \t [y]_acc\n",
      "59.0 \t [y]_macrof1\n",
      "59.0 \t avg_macro_f1\n",
      "94.0 \t avg_acc\n"
     ]
    },
    {
     "name": "stderr",
     "output_type": "stream",
     "text": [
      "/s/ls4/users/grartem/anaconda3/envs/simptr/lib/python3.8/site-packages/sklearn/metrics/_classification.py:1318: UndefinedMetricWarning: Recall and F-score are ill-defined and being set to 0.0 in labels with no true samples. Use `zero_division` parameter to control this behavior.\n",
      "  _warn_prf(average, modifier, msg_start, len(result))\n",
      "/s/ls4/users/grartem/anaconda3/envs/simptr/lib/python3.8/site-packages/sklearn/metrics/_classification.py:1318: UndefinedMetricWarning: Recall and F-score are ill-defined and being set to 0.0 in labels with no true samples. Use `zero_division` parameter to control this behavior.\n",
      "  _warn_prf(average, modifier, msg_start, len(result))\n",
      "/s/ls4/users/grartem/anaconda3/envs/simptr/lib/python3.8/site-packages/sklearn/metrics/_classification.py:1318: UndefinedMetricWarning: Recall and F-score are ill-defined and being set to 0.0 in labels with no true samples. Use `zero_division` parameter to control this behavior.\n",
      "  _warn_prf(average, modifier, msg_start, len(result))\n",
      "/s/ls4/users/grartem/anaconda3/envs/simptr/lib/python3.8/site-packages/sklearn/metrics/_classification.py:1318: UndefinedMetricWarning: Recall and F-score are ill-defined and being set to 0.0 in labels with no true samples. Use `zero_division` parameter to control this behavior.\n",
      "  _warn_prf(average, modifier, msg_start, len(result))\n",
      "/s/ls4/users/grartem/anaconda3/envs/simptr/lib/python3.8/site-packages/sklearn/metrics/_classification.py:1318: UndefinedMetricWarning: Recall and F-score are ill-defined and being set to 0.0 in labels with no true samples. Use `zero_division` parameter to control this behavior.\n",
      "  _warn_prf(average, modifier, msg_start, len(result))\n",
      "/s/ls4/users/grartem/anaconda3/envs/simptr/lib/python3.8/site-packages/sklearn/metrics/_classification.py:1318: UndefinedMetricWarning: Recall and F-score are ill-defined and being set to 0.0 in labels with no true samples. Use `zero_division` parameter to control this behavior.\n",
      "  _warn_prf(average, modifier, msg_start, len(result))\n",
      "/s/ls4/users/grartem/anaconda3/envs/simptr/lib/python3.8/site-packages/sklearn/metrics/_classification.py:1318: UndefinedMetricWarning: Recall and F-score are ill-defined and being set to 0.0 in labels with no true samples. Use `zero_division` parameter to control this behavior.\n",
      "  _warn_prf(average, modifier, msg_start, len(result))\n",
      "/s/ls4/users/grartem/anaconda3/envs/simptr/lib/python3.8/site-packages/sklearn/metrics/_classification.py:1318: UndefinedMetricWarning: Recall and F-score are ill-defined and being set to 0.0 in labels with no true samples. Use `zero_division` parameter to control this behavior.\n",
      "  _warn_prf(average, modifier, msg_start, len(result))\n",
      "/s/ls4/users/grartem/anaconda3/envs/simptr/lib/python3.8/site-packages/sklearn/metrics/_classification.py:1318: UndefinedMetricWarning: Recall and F-score are ill-defined and being set to 0.0 in labels with no true samples. Use `zero_division` parameter to control this behavior.\n",
      "  _warn_prf(average, modifier, msg_start, len(result))\n"
     ]
    }
   ],
   "source": [
    "if not os.path.exists(os.path.join(CONFIG[\"output_dir\"], \"reports\")):\n",
    "    os.mkdir(os.path.join(CONFIG[\"output_dir\"], \"reports\"))\n",
    "result = utils.calculate_metrics_2(test_y_df, predictions_2, display=True)\n",
    "with open(os.path.join(CONFIG[\"output_dir\"], \"reports/epoch-10_classes_report.json\"), \"w\") as f:\n",
    "    json.dump(result, f)\n",
    "\n",
    "result_avg = utils.calculate_metrics(test_y_df, predictions_2, config={\n",
    "    \"report_metrics\": CONFIG[\"Report\"][\"report_metrics\"]\n",
    "})\n",
    "with open(os.path.join(CONFIG[\"output_dir\"], \"reports/epoch-10_avg_report.json\"), \"w\") as f:\n",
    "    json.dump(result_avg, f)\n",
    "for k, v in result_avg.items():\n",
    "    print(np.round(v*100), \"\\t\", k)"
   ]
  },
  {
   "cell_type": "raw",
   "metadata": {},
   "source": [
    "# Сохранить ошибки\n",
    "with open(\"../Data/Interim/y_names.json\", \"r\") as f:\n",
    "    y_names = json.load(f)\n",
    "predict_df = pd.DataFrame(predictions_2.astype(np.int))\n",
    "predict_df.columns = [c+\"_pred\" for c in test_y_df.columns]\n",
    "predict_df.index = test_y_df.index\n",
    "errors = pd.concat([test_x_df, test_y_df, predict_df], axis=1)\n",
    "errors[\"y\"] = errors[\"y\"].map(lambda x: y_names[x])\n",
    "errors[\"y_pred\"] = errors[\"y_pred\"].map(lambda x: y_names[x])\n",
    "errors = errors.loc[:, [\"x\"] + [x for c in test_y_df.columns if c!= \"x\" for x in [c,c+\"_pred\"]]]\n",
    "\n",
    "fullDF = pd.read_csv(CONFIG[\"Data\"][\"path_to_df\"])\n",
    "fullDF = fullDF[fullDF[\"subset\"]==\"test\"]\n",
    "errors = pd.concat([errors, fullDF.loc[fullDF.index.isin(errors.index),[\"type\", \"fold\"]]], axis=1)\n",
    "\n",
    "errors.to_csv(\"../Docs/rubert_tiny_errors_fold0_wholetest.csv\", sep=\";\", encoding=\"cp1251\", index=False)"
   ]
  }
 ],
 "metadata": {
  "kernelspec": {
   "display_name": "simptr",
   "language": "python",
   "name": "simptr"
  },
  "language_info": {
   "codemirror_mode": {
    "name": "ipython",
    "version": 3
   },
   "file_extension": ".py",
   "mimetype": "text/x-python",
   "name": "python",
   "nbconvert_exporter": "python",
   "pygments_lexer": "ipython3",
   "version": "3.8.0"
  }
 },
 "nbformat": 4,
 "nbformat_minor": 4
}
