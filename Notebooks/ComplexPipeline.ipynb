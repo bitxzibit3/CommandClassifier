{
 "cells": [
  {
   "cell_type": "code",
   "execution_count": 2,
   "metadata": {},
   "outputs": [],
   "source": [
    "import sys\n",
    "sys.path.append(\"/s/ls4/users/grartem/RL_robots/CommandClassifier\")"
   ]
  },
  {
   "cell_type": "code",
   "execution_count": 3,
   "metadata": {},
   "outputs": [],
   "source": [
    "import re\n",
    "import pandas as pd\n",
    "import numpy as np\n",
    "from sklearn.pipeline import Pipeline\n",
    "from sklearn.feature_extraction.text import TfidfVectorizer\n",
    "from sklearn.ensemble import ExtraTreesClassifier, RandomForestClassifier\n",
    "from sklearn.tree import ExtraTreeClassifier, DecisionTreeClassifier\n",
    "from sklearn.preprocessing import FunctionTransformer\n",
    "from sklearn.neighbors import KNeighborsClassifier, RadiusNeighborsClassifier\n",
    "from sklearn.linear_model import RidgeClassifier, RidgeClassifierCV\n",
    "from sklearn.metrics import classification_report, precision_recall_fscore_support, multilabel_confusion_matrix\n",
    "import time"
   ]
  },
  {
   "cell_type": "code",
   "execution_count": 4,
   "metadata": {},
   "outputs": [],
   "source": [
    "from RobotCommandClassifier import utils\n",
    "from RobotCommandClassifier.ComplexPipeline import Classifier_v1"
   ]
  },
  {
   "cell_type": "code",
   "execution_count": 12,
   "metadata": {},
   "outputs": [
    {
     "name": "stderr",
     "output_type": "stream",
     "text": [
      "Warning : `load_model` does not return WordVectorModel or SupervisedModel any more, but a `FastText` object which is very similar.\n"
     ]
    }
   ],
   "source": [
    "import fasttext\n",
    "model = fasttext.load_model(\"/s/ls4/users/grartem/Datasets/W2V/Russian/cc.ru.300.bin\")"
   ]
  },
  {
   "cell_type": "code",
   "execution_count": 15,
   "metadata": {},
   "outputs": [
    {
     "ename": "AttributeError",
     "evalue": "'list' object has no attribute 'find'",
     "output_type": "error",
     "traceback": [
      "\u001b[0;31m---------------------------------------------------------------------------\u001b[0m",
      "\u001b[0;31mAttributeError\u001b[0m                            Traceback (most recent call last)",
      "Input \u001b[0;32mIn [15]\u001b[0m, in \u001b[0;36m<module>\u001b[0;34m\u001b[0m\n\u001b[0;32m----> 1\u001b[0m \u001b[43mmodel\u001b[49m\u001b[38;5;241;43m.\u001b[39;49m\u001b[43mget_sentence_vector\u001b[49m\u001b[43m(\u001b[49m\u001b[43m[\u001b[49m\u001b[38;5;124;43m\"\u001b[39;49m\u001b[38;5;124;43mа ну иди и принеси мне это\u001b[39;49m\u001b[38;5;124;43m\"\u001b[39;49m\u001b[43m]\u001b[49m\u001b[43m)\u001b[49m\n",
      "File \u001b[0;32m~/anaconda3/envs/rl_robots/lib/python3.8/site-packages/fasttext/FastText.py:134\u001b[0m, in \u001b[0;36m_FastText.get_sentence_vector\u001b[0;34m(self, text)\u001b[0m\n\u001b[1;32m    127\u001b[0m \u001b[38;5;28;01mdef\u001b[39;00m \u001b[38;5;21mget_sentence_vector\u001b[39m(\u001b[38;5;28mself\u001b[39m, text):\n\u001b[1;32m    128\u001b[0m     \u001b[38;5;124;03m\"\"\"\u001b[39;00m\n\u001b[1;32m    129\u001b[0m \u001b[38;5;124;03m    Given a string, get a single vector represenation. This function\u001b[39;00m\n\u001b[1;32m    130\u001b[0m \u001b[38;5;124;03m    assumes to be given a single line of text. We split words on\u001b[39;00m\n\u001b[1;32m    131\u001b[0m \u001b[38;5;124;03m    whitespace (space, newline, tab, vertical tab) and the control\u001b[39;00m\n\u001b[1;32m    132\u001b[0m \u001b[38;5;124;03m    characters carriage return, formfeed and the null character.\u001b[39;00m\n\u001b[1;32m    133\u001b[0m \u001b[38;5;124;03m    \"\"\"\u001b[39;00m\n\u001b[0;32m--> 134\u001b[0m     \u001b[38;5;28;01mif\u001b[39;00m \u001b[43mtext\u001b[49m\u001b[38;5;241;43m.\u001b[39;49m\u001b[43mfind\u001b[49m(\u001b[38;5;124m'\u001b[39m\u001b[38;5;130;01m\\n\u001b[39;00m\u001b[38;5;124m'\u001b[39m) \u001b[38;5;241m!=\u001b[39m \u001b[38;5;241m-\u001b[39m\u001b[38;5;241m1\u001b[39m:\n\u001b[1;32m    135\u001b[0m         \u001b[38;5;28;01mraise\u001b[39;00m \u001b[38;5;167;01mValueError\u001b[39;00m(\n\u001b[1;32m    136\u001b[0m             \u001b[38;5;124m\"\u001b[39m\u001b[38;5;124mpredict processes one line at a time (remove \u001b[39m\u001b[38;5;130;01m\\'\u001b[39;00m\u001b[38;5;130;01m\\\\\u001b[39;00m\u001b[38;5;124mn\u001b[39m\u001b[38;5;130;01m\\'\u001b[39;00m\u001b[38;5;124m)\u001b[39m\u001b[38;5;124m\"\u001b[39m\n\u001b[1;32m    137\u001b[0m         )\n\u001b[1;32m    138\u001b[0m     text \u001b[38;5;241m+\u001b[39m\u001b[38;5;241m=\u001b[39m \u001b[38;5;124m\"\u001b[39m\u001b[38;5;130;01m\\n\u001b[39;00m\u001b[38;5;124m\"\u001b[39m\n",
      "\u001b[0;31mAttributeError\u001b[0m: 'list' object has no attribute 'find'"
     ]
    }
   ],
   "source": [
    "model.get_sentence_vector([\"а ну иди и принеси мне это\"])"
   ]
  },
  {
   "cell_type": "raw",
   "metadata": {},
   "source": [
    "def extract_units_from_line(x):\n",
    "    match = re.findall(\"(\\d+ ?.*)|(один|два|три|четыре|пять|шесть|семь|восемь|девять|десять|одиннадцать|двенадцать|час|полчаса) ? .*\", x)\n",
    "    if match is None:\n",
    "        return \"\"\n",
    "    return '+'.join([\"\".join(x) for x in match])\n",
    "\n",
    "class Classifier_v1():\n",
    "    \"\"\"\n",
    "    Классификатор, который отдельно классифицирует классы из списка\n",
    "    \"\"\"\n",
    "    def __init__(self, columns, main_labels, branch_labels, branch_y_classes, fit_branch_on_gold=True):\n",
    "        self.columns = columns\n",
    "        self.main_labels = main_labels\n",
    "        self.branch_labels = branch_labels\n",
    "        self.branch_y_classes = branch_y_classes\n",
    "        self.fit_branch_on_gold = fit_branch_on_gold\n",
    "        self.main_pipeline = Pipeline([\n",
    "            (\"vectorizer\", TfidfVectorizer(max_features=5000)),\n",
    "            (\"classifier\", RandomForestClassifier(bootstrap=False)),\n",
    "        ])\n",
    "        self.branch_classifier = Pipeline([\n",
    "            (\"extracter\", FunctionTransformer(lambda series: series.map(extract_units_from_line))),\n",
    "            (\"vectorizer\", TfidfVectorizer(max_features=1000, analyzer=\"char\", ngram_range=(2,3))),\n",
    "            (\"classifier\", RandomForestClassifier()),\n",
    "        ])\n",
    "\n",
    "    def fit(self, X, Y):\n",
    "        self.main_pipeline.fit(X, Y.drop(self.branch_labels, axis=1))\n",
    "        if self.fit_branch_on_gold:\n",
    "            X_branch = X[Y[\"y\"].isin(self.branch_y_classes)]\n",
    "            Y_branch = Y.loc[Y[\"y\"].isin(self.branch_y_classes), self.branch_labels]\n",
    "            self.branch_classifier.fit(X_branch, Y_branch)\n",
    "        else:\n",
    "            raise NotImplementedError\n",
    "    \n",
    "    def predict(self, X):\n",
    "        final_pred = np.zeros((X.shape[0], len(self.columns)))\n",
    "        main_pred = self.main_pipeline.predict(X)\n",
    "        for i, c in enumerate(self.main_labels):\n",
    "            final_pred[:,self.columns.index(c)] = main_pred[:,i]\n",
    "        X_branch = X[np.isin(main_pred[:,0], self.branch_y_classes)]\n",
    "        if len(X_branch) > 0:\n",
    "            branch_pred = self.branch_classifier.predict(X_branch)\n",
    "            for i, c in enumerate(self.branch_labels):\n",
    "                final_pred[np.isin(main_pred[:,0], self.branch_y_classes),self.columns.index(c)] = branch_pred[:,i]\n",
    "        return final_pred"
   ]
  },
  {
   "cell_type": "code",
   "execution_count": 5,
   "metadata": {},
   "outputs": [],
   "source": [
    "train_x_df, train_y_df, valid_x_df, valid_y_df, test_x_df, test_y_df = utils.load_data({\n",
    "    \"path_to_df\": \"/s/ls4/users/grartem/RL_robots/CommandClassifier/Data/Interim/merged_with_labels_11_patterns_split.csv\",\n",
    "    \"target_columns\": ['y', 'action', 'direction', 'meters', 'degshours',\n",
    "                       'object1', 'nearest', 'relation1', 'object2', \n",
    "                       'relation2', 'object3', \"self\", \"gaze\"],\n",
    "    \"input_column\": \"x\"\n",
    "})"
   ]
  },
  {
   "cell_type": "code",
   "execution_count": 6,
   "metadata": {},
   "outputs": [],
   "source": [
    "cls = Classifier_v1(columns=['y', 'action', 'direction', 'meters', 'degshours', 'object1', 'nearest',\n",
    "                             'relation1', 'object2', 'relation2', 'object3', \"self\", \"gaze\"],\n",
    "                    main_labels=['y', 'action', 'direction', 'object1', 'nearest',\n",
    "                             'relation1', 'object2', 'relation2', 'object3', \"self\", \"gaze\"],\n",
    "                    branch_labels=[\"meters\", \"degshours\"], branch_y_classes=[2,3,4,9])"
   ]
  },
  {
   "cell_type": "code",
   "execution_count": 7,
   "metadata": {},
   "outputs": [],
   "source": [
    "cls.fit(train_x_df, train_y_df)"
   ]
  },
  {
   "cell_type": "code",
   "execution_count": 8,
   "metadata": {
    "scrolled": true
   },
   "outputs": [],
   "source": []
  },
  {
   "cell_type": "code",
   "execution_count": 11,
   "metadata": {},
   "outputs": [
    {
     "name": "stdout",
     "output_type": "stream",
     "text": [
      "48.0 \t correct_samples_perc\n",
      "98.0 \t [y]_acc\n",
      "92.0 \t [y]_macrof1\n",
      "99.0 \t [action]_acc\n",
      "83.0 \t [action]_macrof1\n",
      "100.0 \t [direction]_acc\n",
      "99.0 \t [direction]_macrof1\n",
      "100.0 \t [meters]_acc\n",
      "99.0 \t [meters]_macrof1\n",
      "99.0 \t [degshours]_acc\n",
      "96.0 \t [degshours]_macrof1\n",
      "68.0 \t [object1]_acc\n",
      "60.0 \t [object1]_macrof1\n",
      "100.0 \t [nearest]_acc\n",
      "100.0 \t [nearest]_macrof1\n",
      "93.0 \t [relation1]_acc\n",
      "86.0 \t [relation1]_macrof1\n",
      "74.0 \t [object2]_acc\n",
      "48.0 \t [object2]_macrof1\n",
      "92.0 \t [relation2]_acc\n",
      "75.0 \t [relation2]_macrof1\n",
      "79.0 \t [object3]_acc\n",
      "36.0 \t [object3]_macrof1\n",
      "100.0 \t [self]_acc\n",
      "99.0 \t [self]_macrof1\n",
      "100.0 \t [gaze]_acc\n",
      "100.0 \t [gaze]_macrof1\n",
      "83.0 \t avg_macro_f1\n",
      "92.0 \t avg_acc\n"
     ]
    }
   ],
   "source": [
    "valid_pred = cls.predict(valid_x_df)\n",
    "result_avg = utils.calculate_metrics(valid_y_df, valid_pred, config={\n",
    "    \"report_metrics\": [\"correct_samples_perc\", \"avg_macro_f1\", \"avg_acc\", \"class_acc\", \"class_macro_f1\"]\n",
    "})\n",
    "for k, v in result_avg.items():\n",
    "    print(np.round(v*100), \"\\t\", k)"
   ]
  },
  {
   "cell_type": "code",
   "execution_count": 12,
   "metadata": {},
   "outputs": [
    {
     "name": "stdout",
     "output_type": "stream",
     "text": [
      "7.0 \t correct_samples_perc\n",
      "58.0 \t [y]_acc\n",
      "24.0 \t [y]_macrof1\n",
      "89.0 \t [action]_acc\n",
      "20.0 \t [action]_macrof1\n",
      "95.0 \t [direction]_acc\n",
      "39.0 \t [direction]_macrof1\n",
      "100.0 \t [meters]_acc\n",
      "100.0 \t [meters]_macrof1\n",
      "99.0 \t [degshours]_acc\n",
      "50.0 \t [degshours]_macrof1\n",
      "45.0 \t [object1]_acc\n",
      "22.0 \t [object1]_macrof1\n",
      "100.0 \t [nearest]_acc\n",
      "100.0 \t [nearest]_macrof1\n",
      "75.0 \t [relation1]_acc\n",
      "38.0 \t [relation1]_macrof1\n",
      "43.0 \t [object2]_acc\n",
      "19.0 \t [object2]_macrof1\n",
      "54.0 \t [relation2]_acc\n",
      "33.0 \t [relation2]_macrof1\n",
      "33.0 \t [object3]_acc\n",
      "12.0 \t [object3]_macrof1\n",
      "97.0 \t [self]_acc\n",
      "20.0 \t [self]_macrof1\n",
      "99.0 \t [gaze]_acc\n",
      "50.0 \t [gaze]_macrof1\n",
      "40.0 \t avg_macro_f1\n",
      "76.0 \t avg_acc\n"
     ]
    },
    {
     "name": "stderr",
     "output_type": "stream",
     "text": [
      "/s/ls4/users/grartem/anaconda3/envs/rl_robots/lib/python3.8/site-packages/sklearn/metrics/_classification.py:1318: UndefinedMetricWarning: Recall and F-score are ill-defined and being set to 0.0 in labels with no true samples. Use `zero_division` parameter to control this behavior.\n",
      "  _warn_prf(average, modifier, msg_start, len(result))\n",
      "/s/ls4/users/grartem/anaconda3/envs/rl_robots/lib/python3.8/site-packages/sklearn/metrics/_classification.py:1318: UndefinedMetricWarning: Recall and F-score are ill-defined and being set to 0.0 in labels with no true samples. Use `zero_division` parameter to control this behavior.\n",
      "  _warn_prf(average, modifier, msg_start, len(result))\n",
      "/s/ls4/users/grartem/anaconda3/envs/rl_robots/lib/python3.8/site-packages/sklearn/metrics/_classification.py:1318: UndefinedMetricWarning: Recall and F-score are ill-defined and being set to 0.0 in labels with no true samples. Use `zero_division` parameter to control this behavior.\n",
      "  _warn_prf(average, modifier, msg_start, len(result))\n",
      "/s/ls4/users/grartem/anaconda3/envs/rl_robots/lib/python3.8/site-packages/sklearn/metrics/_classification.py:1318: UndefinedMetricWarning: Recall and F-score are ill-defined and being set to 0.0 in labels with no true samples. Use `zero_division` parameter to control this behavior.\n",
      "  _warn_prf(average, modifier, msg_start, len(result))\n",
      "/s/ls4/users/grartem/anaconda3/envs/rl_robots/lib/python3.8/site-packages/sklearn/metrics/_classification.py:1318: UndefinedMetricWarning: Recall and F-score are ill-defined and being set to 0.0 in labels with no true samples. Use `zero_division` parameter to control this behavior.\n",
      "  _warn_prf(average, modifier, msg_start, len(result))\n",
      "/s/ls4/users/grartem/anaconda3/envs/rl_robots/lib/python3.8/site-packages/sklearn/metrics/_classification.py:1318: UndefinedMetricWarning: Recall and F-score are ill-defined and being set to 0.0 in labels with no true samples. Use `zero_division` parameter to control this behavior.\n",
      "  _warn_prf(average, modifier, msg_start, len(result))\n",
      "/s/ls4/users/grartem/anaconda3/envs/rl_robots/lib/python3.8/site-packages/sklearn/metrics/_classification.py:1318: UndefinedMetricWarning: Recall and F-score are ill-defined and being set to 0.0 in labels with no true samples. Use `zero_division` parameter to control this behavior.\n",
      "  _warn_prf(average, modifier, msg_start, len(result))\n",
      "/s/ls4/users/grartem/anaconda3/envs/rl_robots/lib/python3.8/site-packages/sklearn/metrics/_classification.py:1318: UndefinedMetricWarning: Recall and F-score are ill-defined and being set to 0.0 in labels with no true samples. Use `zero_division` parameter to control this behavior.\n",
      "  _warn_prf(average, modifier, msg_start, len(result))\n",
      "/s/ls4/users/grartem/anaconda3/envs/rl_robots/lib/python3.8/site-packages/sklearn/metrics/_classification.py:1318: UndefinedMetricWarning: Recall and F-score are ill-defined and being set to 0.0 in labels with no true samples. Use `zero_division` parameter to control this behavior.\n",
      "  _warn_prf(average, modifier, msg_start, len(result))\n",
      "/s/ls4/users/grartem/anaconda3/envs/rl_robots/lib/python3.8/site-packages/sklearn/metrics/_classification.py:1318: UndefinedMetricWarning: Recall and F-score are ill-defined and being set to 0.0 in labels with no true samples. Use `zero_division` parameter to control this behavior.\n",
      "  _warn_prf(average, modifier, msg_start, len(result))\n",
      "/s/ls4/users/grartem/anaconda3/envs/rl_robots/lib/python3.8/site-packages/sklearn/metrics/_classification.py:1318: UndefinedMetricWarning: Recall and F-score are ill-defined and being set to 0.0 in labels with no true samples. Use `zero_division` parameter to control this behavior.\n",
      "  _warn_prf(average, modifier, msg_start, len(result))\n",
      "/s/ls4/users/grartem/anaconda3/envs/rl_robots/lib/python3.8/site-packages/sklearn/metrics/_classification.py:1318: UndefinedMetricWarning: Recall and F-score are ill-defined and being set to 0.0 in labels with no true samples. Use `zero_division` parameter to control this behavior.\n",
      "  _warn_prf(average, modifier, msg_start, len(result))\n",
      "/s/ls4/users/grartem/anaconda3/envs/rl_robots/lib/python3.8/site-packages/sklearn/metrics/_classification.py:1318: UndefinedMetricWarning: Recall and F-score are ill-defined and being set to 0.0 in labels with no true samples. Use `zero_division` parameter to control this behavior.\n",
      "  _warn_prf(average, modifier, msg_start, len(result))\n",
      "/s/ls4/users/grartem/anaconda3/envs/rl_robots/lib/python3.8/site-packages/sklearn/metrics/_classification.py:1318: UndefinedMetricWarning: Recall and F-score are ill-defined and being set to 0.0 in labels with no true samples. Use `zero_division` parameter to control this behavior.\n",
      "  _warn_prf(average, modifier, msg_start, len(result))\n",
      "/s/ls4/users/grartem/anaconda3/envs/rl_robots/lib/python3.8/site-packages/sklearn/metrics/_classification.py:1318: UndefinedMetricWarning: Recall and F-score are ill-defined and being set to 0.0 in labels with no true samples. Use `zero_division` parameter to control this behavior.\n",
      "  _warn_prf(average, modifier, msg_start, len(result))\n",
      "/s/ls4/users/grartem/anaconda3/envs/rl_robots/lib/python3.8/site-packages/sklearn/metrics/_classification.py:1318: UndefinedMetricWarning: Recall and F-score are ill-defined and being set to 0.0 in labels with no true samples. Use `zero_division` parameter to control this behavior.\n",
      "  _warn_prf(average, modifier, msg_start, len(result))\n",
      "/s/ls4/users/grartem/anaconda3/envs/rl_robots/lib/python3.8/site-packages/sklearn/metrics/_classification.py:1318: UndefinedMetricWarning: Recall and F-score are ill-defined and being set to 0.0 in labels with no true samples. Use `zero_division` parameter to control this behavior.\n",
      "  _warn_prf(average, modifier, msg_start, len(result))\n",
      "/s/ls4/users/grartem/anaconda3/envs/rl_robots/lib/python3.8/site-packages/sklearn/metrics/_classification.py:1318: UndefinedMetricWarning: Recall and F-score are ill-defined and being set to 0.0 in labels with no true samples. Use `zero_division` parameter to control this behavior.\n",
      "  _warn_prf(average, modifier, msg_start, len(result))\n",
      "/s/ls4/users/grartem/anaconda3/envs/rl_robots/lib/python3.8/site-packages/sklearn/metrics/_classification.py:1318: UndefinedMetricWarning: Recall and F-score are ill-defined and being set to 0.0 in labels with no true samples. Use `zero_division` parameter to control this behavior.\n",
      "  _warn_prf(average, modifier, msg_start, len(result))\n",
      "/s/ls4/users/grartem/anaconda3/envs/rl_robots/lib/python3.8/site-packages/sklearn/metrics/_classification.py:1318: UndefinedMetricWarning: Recall and F-score are ill-defined and being set to 0.0 in labels with no true samples. Use `zero_division` parameter to control this behavior.\n",
      "  _warn_prf(average, modifier, msg_start, len(result))\n",
      "/s/ls4/users/grartem/anaconda3/envs/rl_robots/lib/python3.8/site-packages/sklearn/metrics/_classification.py:1318: UndefinedMetricWarning: Recall and F-score are ill-defined and being set to 0.0 in labels with no true samples. Use `zero_division` parameter to control this behavior.\n",
      "  _warn_prf(average, modifier, msg_start, len(result))\n",
      "/s/ls4/users/grartem/anaconda3/envs/rl_robots/lib/python3.8/site-packages/sklearn/metrics/_classification.py:1318: UndefinedMetricWarning: Recall and F-score are ill-defined and being set to 0.0 in labels with no true samples. Use `zero_division` parameter to control this behavior.\n",
      "  _warn_prf(average, modifier, msg_start, len(result))\n",
      "/s/ls4/users/grartem/anaconda3/envs/rl_robots/lib/python3.8/site-packages/sklearn/metrics/_classification.py:1318: UndefinedMetricWarning: Recall and F-score are ill-defined and being set to 0.0 in labels with no true samples. Use `zero_division` parameter to control this behavior.\n",
      "  _warn_prf(average, modifier, msg_start, len(result))\n",
      "/s/ls4/users/grartem/anaconda3/envs/rl_robots/lib/python3.8/site-packages/sklearn/metrics/_classification.py:1318: UndefinedMetricWarning: Recall and F-score are ill-defined and being set to 0.0 in labels with no true samples. Use `zero_division` parameter to control this behavior.\n",
      "  _warn_prf(average, modifier, msg_start, len(result))\n",
      "/s/ls4/users/grartem/anaconda3/envs/rl_robots/lib/python3.8/site-packages/sklearn/metrics/_classification.py:1318: UndefinedMetricWarning: Recall and F-score are ill-defined and being set to 0.0 in labels with no true samples. Use `zero_division` parameter to control this behavior.\n",
      "  _warn_prf(average, modifier, msg_start, len(result))\n",
      "/s/ls4/users/grartem/anaconda3/envs/rl_robots/lib/python3.8/site-packages/sklearn/metrics/_classification.py:1318: UndefinedMetricWarning: Recall and F-score are ill-defined and being set to 0.0 in labels with no true samples. Use `zero_division` parameter to control this behavior.\n",
      "  _warn_prf(average, modifier, msg_start, len(result))\n",
      "/s/ls4/users/grartem/anaconda3/envs/rl_robots/lib/python3.8/site-packages/sklearn/metrics/_classification.py:1318: UndefinedMetricWarning: Recall and F-score are ill-defined and being set to 0.0 in labels with no true samples. Use `zero_division` parameter to control this behavior.\n",
      "  _warn_prf(average, modifier, msg_start, len(result))\n",
      "/s/ls4/users/grartem/anaconda3/envs/rl_robots/lib/python3.8/site-packages/sklearn/metrics/_classification.py:1318: UndefinedMetricWarning: Recall and F-score are ill-defined and being set to 0.0 in labels with no true samples. Use `zero_division` parameter to control this behavior.\n",
      "  _warn_prf(average, modifier, msg_start, len(result))\n",
      "/s/ls4/users/grartem/anaconda3/envs/rl_robots/lib/python3.8/site-packages/sklearn/metrics/_classification.py:1318: UndefinedMetricWarning: Recall and F-score are ill-defined and being set to 0.0 in labels with no true samples. Use `zero_division` parameter to control this behavior.\n",
      "  _warn_prf(average, modifier, msg_start, len(result))\n",
      "/s/ls4/users/grartem/anaconda3/envs/rl_robots/lib/python3.8/site-packages/sklearn/metrics/_classification.py:1318: UndefinedMetricWarning: Recall and F-score are ill-defined and being set to 0.0 in labels with no true samples. Use `zero_division` parameter to control this behavior.\n",
      "  _warn_prf(average, modifier, msg_start, len(result))\n",
      "/s/ls4/users/grartem/anaconda3/envs/rl_robots/lib/python3.8/site-packages/sklearn/metrics/_classification.py:1318: UndefinedMetricWarning: Recall and F-score are ill-defined and being set to 0.0 in labels with no true samples. Use `zero_division` parameter to control this behavior.\n",
      "  _warn_prf(average, modifier, msg_start, len(result))\n",
      "/s/ls4/users/grartem/anaconda3/envs/rl_robots/lib/python3.8/site-packages/sklearn/metrics/_classification.py:1318: UndefinedMetricWarning: Recall and F-score are ill-defined and being set to 0.0 in labels with no true samples. Use `zero_division` parameter to control this behavior.\n",
      "  _warn_prf(average, modifier, msg_start, len(result))\n",
      "/s/ls4/users/grartem/anaconda3/envs/rl_robots/lib/python3.8/site-packages/sklearn/metrics/_classification.py:1318: UndefinedMetricWarning: Recall and F-score are ill-defined and being set to 0.0 in labels with no true samples. Use `zero_division` parameter to control this behavior.\n",
      "  _warn_prf(average, modifier, msg_start, len(result))\n"
     ]
    }
   ],
   "source": [
    "test_pred = cls.predict(test_x_df)\n",
    "result_avg = utils.calculate_metrics(test_y_df, test_pred, config={\n",
    "    \"report_metrics\": [\"correct_samples_perc\", \"avg_macro_f1\", \"avg_acc\", \"class_acc\", \"class_macro_f1\"]\n",
    "})\n",
    "for k, v in result_avg.items():\n",
    "    print(np.round(v*100), \"\\t\", k)"
   ]
  }
 ],
 "metadata": {
  "kernelspec": {
   "display_name": "rl_robots",
   "language": "python",
   "name": "rl_robots"
  },
  "language_info": {
   "codemirror_mode": {
    "name": "ipython",
    "version": 3
   },
   "file_extension": ".py",
   "mimetype": "text/x-python",
   "name": "python",
   "nbconvert_exporter": "python",
   "pygments_lexer": "ipython3",
   "version": "3.8.0"
  }
 },
 "nbformat": 4,
 "nbformat_minor": 4
}
