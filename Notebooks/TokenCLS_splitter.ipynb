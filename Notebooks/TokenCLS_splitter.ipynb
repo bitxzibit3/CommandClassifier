{
 "cells": [
  {
   "cell_type": "code",
   "execution_count": 1,
   "metadata": {},
   "outputs": [],
   "source": [
    "import json\n",
    "from collections import defaultdict\n",
    "import pandas as pd\n",
    "import numpy as np\n",
    "from sklearn.model_selection import train_test_split"
   ]
  },
  {
   "cell_type": "code",
   "execution_count": 2,
   "metadata": {},
   "outputs": [
    {
     "name": "stdout",
     "output_type": "stream",
     "text": [
      "(16722, 5)\n"
     ]
    },
    {
     "name": "stderr",
     "output_type": "stream",
     "text": [
      "/tmp/ipykernel_22266/1976607233.py:1: DtypeWarning: Columns (3,34) have mixed types. Specify dtype option on import or set low_memory=False.\n",
      "  df = pd.read_csv(\"../Data/Interim/some_cmd_split.csv\", sep=\",\")\n"
     ]
    }
   ],
   "source": [
    "df = pd.read_csv(\"../Data/Interim/some_cmd_split.csv\", sep=\",\")\n",
    "df = df.loc[:,[\"full_text\", \"text1\", \"text2\", \"text3\", \"subset\"]]\n",
    "print(df.shape)\n",
    "# добавляем кома\n",
    "df_onecmd = pd.read_csv(\"../Data/Interim/12052022_one_cmd_split.csv\", sep=\",\")\n",
    "df_onecmd = df_onecmd.sample(5000, random_state=42)\n",
    "df_onecmd = df_onecmd.loc[df_onecmd[\"subset\"].isin([\"train\", \"valid\"]), [\"x\", \"subset\"]]\n",
    "df_onecmd[\"full_text\"] = df_onecmd[\"x\"]\n",
    "df_onecmd[\"text1\"] = df_onecmd[\"x\"]\n",
    "df_onecmd[\"text2\"] = np.empty_like(df_onecmd[\"x\"], dtype=np.float32)\n",
    "df_onecmd[\"text3\"] = np.empty_like(df_onecmd[\"x\"], dtype=np.float32)\n",
    "\n",
    "df = pd.concat([df, df_onecmd])"
   ]
  },
  {
   "cell_type": "code",
   "execution_count": 3,
   "metadata": {},
   "outputs": [],
   "source": [
    "nerInput_train = {\n",
    "    \"sentence_id\": [],\n",
    "    \"words\": [],\n",
    "    \"labels\": []\n",
    "}\n",
    "nerInput_valid = {\n",
    "    \"sentence_id\": [],\n",
    "    \"words\": [],\n",
    "    \"labels\": []\n",
    "}\n",
    "nerInput = None\n",
    "for ir, row in df.iterrows():\n",
    "    if row[\"subset\"]==\"train\":\n",
    "        nerInput = nerInput_train\n",
    "    if row[\"subset\"]==\"valid\":\n",
    "        nerInput = nerInput_valid\n",
    "\n",
    "    start_1 = row[\"full_text\"].find(row[\"text1\"])\n",
    "    assert start_1 >= 0\n",
    "    start_2 = None\n",
    "    if type(row['text2']) != float:\n",
    "        start_2 = row[\"full_text\"].find(row[\"text2\"], start_1 + len(row[\"text1\"]))    \n",
    "        assert start_2 >= start_1\n",
    "    start_3 = None\n",
    "    if type(row['text3']) != float:\n",
    "        start_3 = row[\"full_text\"].find(row[\"text3\"], start_2 + len(row[\"text2\"]))\n",
    "        assert start_3 >= start_2\n",
    "    lastWordPos = 0\n",
    "    for word in row[\"full_text\"].split():\n",
    "        nerInput[\"sentence_id\"].append(ir)\n",
    "        nerInput[\"words\"].append(word)\n",
    "        wordPos = row[\"full_text\"].find(word, lastWordPos)\n",
    "        assert wordPos!=-1\n",
    "        lastWordPos = wordPos + len(word)\n",
    "        if wordPos >= start_1 and wordPos < (start_1+len(row[\"text1\"])):\n",
    "            nerInput[\"labels\"].append(\"CMD1\")\n",
    "        elif (start_2 is not None) and (wordPos >= start_2) and (wordPos < (start_2+len(row[\"text2\"]))):\n",
    "            nerInput[\"labels\"].append(\"CMD2\")\n",
    "        elif (start_3 is not None) and (wordPos >= start_3) and (wordPos < (start_3+len(row[\"text3\"]))):\n",
    "            nerInput[\"labels\"].append(\"CMD3\")\n",
    "        else:\n",
    "            nerInput[\"labels\"].append(\"O\")\n",
    "train_df = pd.DataFrame(nerInput_train)\n",
    "valid_df = pd.DataFrame(nerInput_valid)"
   ]
  },
  {
   "cell_type": "code",
   "execution_count": 5,
   "metadata": {},
   "outputs": [
    {
     "name": "stdout",
     "output_type": "stream",
     "text": [
      "обойди окрестности по кругу размером 17 метров после всего тяни на южный край на 4 м а там за лесом располагается камушек который нужно обскакивать\n",
      "обойди окрестности по кругу размером 17 метров | обойди окрестности по кругу размером 17 метров\n",
      "тяни на южный край на 4 м | тяни на южный край на 4 м\n",
      "за лесом располагается камушек который нужно обскакивать | за лесом располагается камушек который нужно обскакивать\n"
     ]
    }
   ],
   "source": [
    "ir = 5000\n",
    "print(df.loc[ir, \"full_text\"])\n",
    "ner_commands= [[],[],[]]\n",
    "for ir_2, row in train_df[train_df[\"sentence_id\"]==ir].iterrows():\n",
    "    if row[\"labels\"]==\"CMD1\":\n",
    "        ner_commands[0].append(row[\"words\"])\n",
    "    if row[\"labels\"]==\"CMD2\":\n",
    "        ner_commands[1].append(row[\"words\"])\n",
    "    if row[\"labels\"]==\"CMD3\":\n",
    "        ner_commands[2].append(row[\"words\"])\n",
    "print(df.loc[ir, \"text1\"], \"|\", \" \".join(ner_commands[0]))\n",
    "print(df.loc[ir, \"text2\"], \"|\", \" \".join(ner_commands[1]))\n",
    "print(df.loc[ir, \"text3\"], \"|\", \" \".join(ner_commands[2]))"
   ]
  },
  {
   "cell_type": "code",
   "execution_count": 6,
   "metadata": {},
   "outputs": [
    {
     "name": "stderr",
     "output_type": "stream",
     "text": [
      "Some weights of the model checkpoint at /s/ls4/users/grartem/HuggingFace/models/rubert-tiny2 were not used when initializing BertForTokenClassification: ['cls.seq_relationship.bias', 'cls.predictions.decoder.bias', 'cls.predictions.bias', 'cls.seq_relationship.weight', 'cls.predictions.decoder.weight', 'cls.predictions.transform.dense.bias', 'cls.predictions.transform.dense.weight', 'cls.predictions.transform.LayerNorm.bias', 'cls.predictions.transform.LayerNorm.weight']\n",
      "- This IS expected if you are initializing BertForTokenClassification from the checkpoint of a model trained on another task or with another architecture (e.g. initializing a BertForSequenceClassification model from a BertForPreTraining model).\n",
      "- This IS NOT expected if you are initializing BertForTokenClassification from the checkpoint of a model that you expect to be exactly identical (initializing a BertForSequenceClassification model from a BertForSequenceClassification model).\n",
      "Some weights of BertForTokenClassification were not initialized from the model checkpoint at /s/ls4/users/grartem/HuggingFace/models/rubert-tiny2 and are newly initialized: ['classifier.weight', 'classifier.bias']\n",
      "You should probably TRAIN this model on a down-stream task to be able to use it for predictions and inference.\n"
     ]
    }
   ],
   "source": [
    "from simpletransformers.ner import NERModel, NERArgs\n",
    "model_args = NERArgs()\n",
    "model_args.evaluate_during_training = True\n",
    "model_args.num_train_epochs = 10\n",
    "model_args.output_dir = \"/s/ls4/users/grartem/RL_robots/CommandClassifier/models/Preprocess_for_splitter_ntbk\"\n",
    "\n",
    "model = NERModel(\n",
    "    \"bert\", \n",
    "    \"/s/ls4/users/grartem/HuggingFace/models/rubert-tiny2\",\n",
    "    #\"/s/ls4/users/grartem/RL_robots/CommandClassifier/models/Preprocess_for_splitter_ntbk/checkpoint-18500-epoch-10/\",\n",
    "    args=model_args,\n",
    "    labels=[\"O\", \"CMD1\", \"CMD2\", \"CMD3\"] # добавить тэг O, но по границам\n",
    ")"
   ]
  },
  {
   "cell_type": "code",
   "execution_count": 7,
   "metadata": {},
   "outputs": [
    {
     "data": {
      "text/plain": [
       "'/s/ls4/users/grartem/RL_robots/CommandClassifier/models/Preprocess_for_splitter_ntbk'"
      ]
     },
     "execution_count": 7,
     "metadata": {},
     "output_type": "execute_result"
    }
   ],
   "source": [
    "model_args.output_dir"
   ]
  },
  {
   "cell_type": "code",
   "execution_count": 8,
   "metadata": {},
   "outputs": [
    {
     "data": {
      "application/vnd.jupyter.widget-view+json": {
       "model_id": "84bf97f5cad94b8b9567b5b48c1b9392",
       "version_major": 2,
       "version_minor": 0
      },
      "text/plain": [
       "  0%|          | 0/29 [00:00<?, ?it/s]"
      ]
     },
     "metadata": {},
     "output_type": "display_data"
    },
    {
     "name": "stderr",
     "output_type": "stream",
     "text": [
      "/s/ls4/users/grartem/anaconda3/envs/simptr/lib/python3.8/site-packages/transformers/optimization.py:306: FutureWarning: This implementation of AdamW is deprecated and will be removed in a future version. Use the PyTorch implementation torch.optim.AdamW instead, or set `no_deprecation_warning=True` to disable this warning\n",
      "  warnings.warn(\n"
     ]
    },
    {
     "data": {
      "application/vnd.jupyter.widget-view+json": {
       "model_id": "9ed0bc800de8450ea439e48cecb5d19c",
       "version_major": 2,
       "version_minor": 0
      },
      "text/plain": [
       "Epoch:   0%|          | 0/10 [00:00<?, ?it/s]"
      ]
     },
     "metadata": {},
     "output_type": "display_data"
    },
    {
     "data": {
      "application/vnd.jupyter.widget-view+json": {
       "model_id": "850edf15c78d48b7a6781ccf4fd0c316",
       "version_major": 2,
       "version_minor": 0
      },
      "text/plain": [
       "Running Epoch 0 of 10:   0%|          | 0/1960 [00:00<?, ?it/s]"
      ]
     },
     "metadata": {},
     "output_type": "display_data"
    },
    {
     "data": {
      "application/vnd.jupyter.widget-view+json": {
       "model_id": "71977026a65b4122bc6be194c7b62fc0",
       "version_major": 2,
       "version_minor": 0
      },
      "text/plain": [
       "  0%|          | 0/6 [00:00<?, ?it/s]"
      ]
     },
     "metadata": {},
     "output_type": "display_data"
    },
    {
     "data": {
      "application/vnd.jupyter.widget-view+json": {
       "model_id": "36c50569e3aa41dda8d6ca650bbaa4fd",
       "version_major": 2,
       "version_minor": 0
      },
      "text/plain": [
       "Running Evaluation:   0%|          | 0/373 [00:00<?, ?it/s]"
      ]
     },
     "metadata": {},
     "output_type": "display_data"
    },
    {
     "name": "stderr",
     "output_type": "stream",
     "text": [
      "/s/ls4/users/grartem/anaconda3/envs/simptr/lib/python3.8/site-packages/seqeval/metrics/sequence_labeling.py:171: UserWarning: CMD1 seems not to be NE tag.\n",
      "  warnings.warn('{} seems not to be NE tag.'.format(chunk))\n",
      "/s/ls4/users/grartem/anaconda3/envs/simptr/lib/python3.8/site-packages/seqeval/metrics/sequence_labeling.py:171: UserWarning: CMD2 seems not to be NE tag.\n",
      "  warnings.warn('{} seems not to be NE tag.'.format(chunk))\n",
      "/s/ls4/users/grartem/anaconda3/envs/simptr/lib/python3.8/site-packages/seqeval/metrics/sequence_labeling.py:171: UserWarning: CMD3 seems not to be NE tag.\n",
      "  warnings.warn('{} seems not to be NE tag.'.format(chunk))\n"
     ]
    },
    {
     "data": {
      "application/vnd.jupyter.widget-view+json": {
       "model_id": "b3ae05c908174e3889cf3ec3a342a9c9",
       "version_major": 2,
       "version_minor": 0
      },
      "text/plain": [
       "Running Epoch 1 of 10:   0%|          | 0/1960 [00:00<?, ?it/s]"
      ]
     },
     "metadata": {},
     "output_type": "display_data"
    },
    {
     "data": {
      "application/vnd.jupyter.widget-view+json": {
       "model_id": "067f03801a4d4f2bbdfe58b2b84fd9c2",
       "version_major": 2,
       "version_minor": 0
      },
      "text/plain": [
       "  0%|          | 0/6 [00:00<?, ?it/s]"
      ]
     },
     "metadata": {},
     "output_type": "display_data"
    },
    {
     "data": {
      "application/vnd.jupyter.widget-view+json": {
       "model_id": "890ac33baa2644739b6ee2c0ab355de1",
       "version_major": 2,
       "version_minor": 0
      },
      "text/plain": [
       "Running Evaluation:   0%|          | 0/373 [00:00<?, ?it/s]"
      ]
     },
     "metadata": {},
     "output_type": "display_data"
    },
    {
     "name": "stderr",
     "output_type": "stream",
     "text": [
      "/s/ls4/users/grartem/anaconda3/envs/simptr/lib/python3.8/site-packages/seqeval/metrics/sequence_labeling.py:171: UserWarning: CMD1 seems not to be NE tag.\n",
      "  warnings.warn('{} seems not to be NE tag.'.format(chunk))\n",
      "/s/ls4/users/grartem/anaconda3/envs/simptr/lib/python3.8/site-packages/seqeval/metrics/sequence_labeling.py:171: UserWarning: CMD2 seems not to be NE tag.\n",
      "  warnings.warn('{} seems not to be NE tag.'.format(chunk))\n",
      "/s/ls4/users/grartem/anaconda3/envs/simptr/lib/python3.8/site-packages/seqeval/metrics/sequence_labeling.py:171: UserWarning: CMD3 seems not to be NE tag.\n",
      "  warnings.warn('{} seems not to be NE tag.'.format(chunk))\n"
     ]
    },
    {
     "data": {
      "application/vnd.jupyter.widget-view+json": {
       "model_id": "ec4d217b5877463d88d6eab9c3fcd3ba",
       "version_major": 2,
       "version_minor": 0
      },
      "text/plain": [
       "  0%|          | 0/6 [00:00<?, ?it/s]"
      ]
     },
     "metadata": {},
     "output_type": "display_data"
    },
    {
     "data": {
      "application/vnd.jupyter.widget-view+json": {
       "model_id": "cc088fa09c8348a996f0f48cac5307ab",
       "version_major": 2,
       "version_minor": 0
      },
      "text/plain": [
       "Running Evaluation:   0%|          | 0/373 [00:00<?, ?it/s]"
      ]
     },
     "metadata": {},
     "output_type": "display_data"
    },
    {
     "name": "stderr",
     "output_type": "stream",
     "text": [
      "/s/ls4/users/grartem/anaconda3/envs/simptr/lib/python3.8/site-packages/seqeval/metrics/sequence_labeling.py:171: UserWarning: CMD1 seems not to be NE tag.\n",
      "  warnings.warn('{} seems not to be NE tag.'.format(chunk))\n",
      "/s/ls4/users/grartem/anaconda3/envs/simptr/lib/python3.8/site-packages/seqeval/metrics/sequence_labeling.py:171: UserWarning: CMD2 seems not to be NE tag.\n",
      "  warnings.warn('{} seems not to be NE tag.'.format(chunk))\n",
      "/s/ls4/users/grartem/anaconda3/envs/simptr/lib/python3.8/site-packages/seqeval/metrics/sequence_labeling.py:171: UserWarning: CMD3 seems not to be NE tag.\n",
      "  warnings.warn('{} seems not to be NE tag.'.format(chunk))\n"
     ]
    },
    {
     "data": {
      "application/vnd.jupyter.widget-view+json": {
       "model_id": "8f400104a8834e5399c16b9f7effe224",
       "version_major": 2,
       "version_minor": 0
      },
      "text/plain": [
       "Running Epoch 2 of 10:   0%|          | 0/1960 [00:00<?, ?it/s]"
      ]
     },
     "metadata": {},
     "output_type": "display_data"
    },
    {
     "data": {
      "application/vnd.jupyter.widget-view+json": {
       "model_id": "e4d8ae0df6324efa985eb47fafd464ee",
       "version_major": 2,
       "version_minor": 0
      },
      "text/plain": [
       "  0%|          | 0/6 [00:00<?, ?it/s]"
      ]
     },
     "metadata": {},
     "output_type": "display_data"
    },
    {
     "data": {
      "application/vnd.jupyter.widget-view+json": {
       "model_id": "035a13c258094f3aa59b18782a1983c4",
       "version_major": 2,
       "version_minor": 0
      },
      "text/plain": [
       "Running Evaluation:   0%|          | 0/373 [00:00<?, ?it/s]"
      ]
     },
     "metadata": {},
     "output_type": "display_data"
    },
    {
     "name": "stderr",
     "output_type": "stream",
     "text": [
      "/s/ls4/users/grartem/anaconda3/envs/simptr/lib/python3.8/site-packages/seqeval/metrics/sequence_labeling.py:171: UserWarning: CMD1 seems not to be NE tag.\n",
      "  warnings.warn('{} seems not to be NE tag.'.format(chunk))\n",
      "/s/ls4/users/grartem/anaconda3/envs/simptr/lib/python3.8/site-packages/seqeval/metrics/sequence_labeling.py:171: UserWarning: CMD2 seems not to be NE tag.\n",
      "  warnings.warn('{} seems not to be NE tag.'.format(chunk))\n",
      "/s/ls4/users/grartem/anaconda3/envs/simptr/lib/python3.8/site-packages/seqeval/metrics/sequence_labeling.py:171: UserWarning: CMD3 seems not to be NE tag.\n",
      "  warnings.warn('{} seems not to be NE tag.'.format(chunk))\n"
     ]
    },
    {
     "data": {
      "application/vnd.jupyter.widget-view+json": {
       "model_id": "ca9b914d4af346008dc9c913277aca91",
       "version_major": 2,
       "version_minor": 0
      },
      "text/plain": [
       "  0%|          | 0/6 [00:00<?, ?it/s]"
      ]
     },
     "metadata": {},
     "output_type": "display_data"
    },
    {
     "data": {
      "application/vnd.jupyter.widget-view+json": {
       "model_id": "8a650374527d4c06adacad36d2984cf2",
       "version_major": 2,
       "version_minor": 0
      },
      "text/plain": [
       "Running Evaluation:   0%|          | 0/373 [00:00<?, ?it/s]"
      ]
     },
     "metadata": {},
     "output_type": "display_data"
    },
    {
     "name": "stderr",
     "output_type": "stream",
     "text": [
      "/s/ls4/users/grartem/anaconda3/envs/simptr/lib/python3.8/site-packages/seqeval/metrics/sequence_labeling.py:171: UserWarning: CMD1 seems not to be NE tag.\n",
      "  warnings.warn('{} seems not to be NE tag.'.format(chunk))\n",
      "/s/ls4/users/grartem/anaconda3/envs/simptr/lib/python3.8/site-packages/seqeval/metrics/sequence_labeling.py:171: UserWarning: CMD2 seems not to be NE tag.\n",
      "  warnings.warn('{} seems not to be NE tag.'.format(chunk))\n",
      "/s/ls4/users/grartem/anaconda3/envs/simptr/lib/python3.8/site-packages/seqeval/metrics/sequence_labeling.py:171: UserWarning: CMD3 seems not to be NE tag.\n",
      "  warnings.warn('{} seems not to be NE tag.'.format(chunk))\n"
     ]
    },
    {
     "data": {
      "application/vnd.jupyter.widget-view+json": {
       "model_id": "99496fa13ca04345a617671037ef4f89",
       "version_major": 2,
       "version_minor": 0
      },
      "text/plain": [
       "Running Epoch 3 of 10:   0%|          | 0/1960 [00:00<?, ?it/s]"
      ]
     },
     "metadata": {},
     "output_type": "display_data"
    },
    {
     "data": {
      "application/vnd.jupyter.widget-view+json": {
       "model_id": "bed5c59b49c54f9fb6ee7b435f77711c",
       "version_major": 2,
       "version_minor": 0
      },
      "text/plain": [
       "  0%|          | 0/6 [00:00<?, ?it/s]"
      ]
     },
     "metadata": {},
     "output_type": "display_data"
    },
    {
     "data": {
      "application/vnd.jupyter.widget-view+json": {
       "model_id": "e4cbff5aa809485d9763f80d1429911c",
       "version_major": 2,
       "version_minor": 0
      },
      "text/plain": [
       "Running Evaluation:   0%|          | 0/373 [00:00<?, ?it/s]"
      ]
     },
     "metadata": {},
     "output_type": "display_data"
    },
    {
     "name": "stderr",
     "output_type": "stream",
     "text": [
      "/s/ls4/users/grartem/anaconda3/envs/simptr/lib/python3.8/site-packages/seqeval/metrics/sequence_labeling.py:171: UserWarning: CMD1 seems not to be NE tag.\n",
      "  warnings.warn('{} seems not to be NE tag.'.format(chunk))\n",
      "/s/ls4/users/grartem/anaconda3/envs/simptr/lib/python3.8/site-packages/seqeval/metrics/sequence_labeling.py:171: UserWarning: CMD2 seems not to be NE tag.\n",
      "  warnings.warn('{} seems not to be NE tag.'.format(chunk))\n",
      "/s/ls4/users/grartem/anaconda3/envs/simptr/lib/python3.8/site-packages/seqeval/metrics/sequence_labeling.py:171: UserWarning: CMD3 seems not to be NE tag.\n",
      "  warnings.warn('{} seems not to be NE tag.'.format(chunk))\n"
     ]
    },
    {
     "data": {
      "application/vnd.jupyter.widget-view+json": {
       "model_id": "73b7517198524ece9962330aef5a1f74",
       "version_major": 2,
       "version_minor": 0
      },
      "text/plain": [
       "  0%|          | 0/6 [00:00<?, ?it/s]"
      ]
     },
     "metadata": {},
     "output_type": "display_data"
    },
    {
     "data": {
      "application/vnd.jupyter.widget-view+json": {
       "model_id": "4ec1568450a240668088f4f84594715c",
       "version_major": 2,
       "version_minor": 0
      },
      "text/plain": [
       "Running Evaluation:   0%|          | 0/373 [00:00<?, ?it/s]"
      ]
     },
     "metadata": {},
     "output_type": "display_data"
    },
    {
     "name": "stderr",
     "output_type": "stream",
     "text": [
      "/s/ls4/users/grartem/anaconda3/envs/simptr/lib/python3.8/site-packages/seqeval/metrics/sequence_labeling.py:171: UserWarning: CMD1 seems not to be NE tag.\n",
      "  warnings.warn('{} seems not to be NE tag.'.format(chunk))\n",
      "/s/ls4/users/grartem/anaconda3/envs/simptr/lib/python3.8/site-packages/seqeval/metrics/sequence_labeling.py:171: UserWarning: CMD2 seems not to be NE tag.\n",
      "  warnings.warn('{} seems not to be NE tag.'.format(chunk))\n",
      "/s/ls4/users/grartem/anaconda3/envs/simptr/lib/python3.8/site-packages/seqeval/metrics/sequence_labeling.py:171: UserWarning: CMD3 seems not to be NE tag.\n",
      "  warnings.warn('{} seems not to be NE tag.'.format(chunk))\n"
     ]
    },
    {
     "data": {
      "application/vnd.jupyter.widget-view+json": {
       "model_id": "370483dc77b84b31b40225402fd0c44b",
       "version_major": 2,
       "version_minor": 0
      },
      "text/plain": [
       "Running Epoch 4 of 10:   0%|          | 0/1960 [00:00<?, ?it/s]"
      ]
     },
     "metadata": {},
     "output_type": "display_data"
    },
    {
     "data": {
      "application/vnd.jupyter.widget-view+json": {
       "model_id": "bdcf31c1eb6b46f7827d98f272661ed0",
       "version_major": 2,
       "version_minor": 0
      },
      "text/plain": [
       "  0%|          | 0/6 [00:00<?, ?it/s]"
      ]
     },
     "metadata": {},
     "output_type": "display_data"
    },
    {
     "data": {
      "application/vnd.jupyter.widget-view+json": {
       "model_id": "5a98ef3453614cb5add21d402b7384d5",
       "version_major": 2,
       "version_minor": 0
      },
      "text/plain": [
       "Running Evaluation:   0%|          | 0/373 [00:00<?, ?it/s]"
      ]
     },
     "metadata": {},
     "output_type": "display_data"
    },
    {
     "name": "stderr",
     "output_type": "stream",
     "text": [
      "/s/ls4/users/grartem/anaconda3/envs/simptr/lib/python3.8/site-packages/seqeval/metrics/sequence_labeling.py:171: UserWarning: CMD1 seems not to be NE tag.\n",
      "  warnings.warn('{} seems not to be NE tag.'.format(chunk))\n",
      "/s/ls4/users/grartem/anaconda3/envs/simptr/lib/python3.8/site-packages/seqeval/metrics/sequence_labeling.py:171: UserWarning: CMD2 seems not to be NE tag.\n",
      "  warnings.warn('{} seems not to be NE tag.'.format(chunk))\n",
      "/s/ls4/users/grartem/anaconda3/envs/simptr/lib/python3.8/site-packages/seqeval/metrics/sequence_labeling.py:171: UserWarning: CMD3 seems not to be NE tag.\n",
      "  warnings.warn('{} seems not to be NE tag.'.format(chunk))\n"
     ]
    },
    {
     "data": {
      "application/vnd.jupyter.widget-view+json": {
       "model_id": "2e6a25ad1a8e42e89ff041c779271057",
       "version_major": 2,
       "version_minor": 0
      },
      "text/plain": [
       "  0%|          | 0/6 [00:00<?, ?it/s]"
      ]
     },
     "metadata": {},
     "output_type": "display_data"
    },
    {
     "data": {
      "application/vnd.jupyter.widget-view+json": {
       "model_id": "e603f92f024b4ff1a6e5ec6da5986057",
       "version_major": 2,
       "version_minor": 0
      },
      "text/plain": [
       "Running Evaluation:   0%|          | 0/373 [00:00<?, ?it/s]"
      ]
     },
     "metadata": {},
     "output_type": "display_data"
    },
    {
     "name": "stderr",
     "output_type": "stream",
     "text": [
      "/s/ls4/users/grartem/anaconda3/envs/simptr/lib/python3.8/site-packages/seqeval/metrics/sequence_labeling.py:171: UserWarning: CMD1 seems not to be NE tag.\n",
      "  warnings.warn('{} seems not to be NE tag.'.format(chunk))\n",
      "/s/ls4/users/grartem/anaconda3/envs/simptr/lib/python3.8/site-packages/seqeval/metrics/sequence_labeling.py:171: UserWarning: CMD2 seems not to be NE tag.\n",
      "  warnings.warn('{} seems not to be NE tag.'.format(chunk))\n",
      "/s/ls4/users/grartem/anaconda3/envs/simptr/lib/python3.8/site-packages/seqeval/metrics/sequence_labeling.py:171: UserWarning: CMD3 seems not to be NE tag.\n",
      "  warnings.warn('{} seems not to be NE tag.'.format(chunk))\n"
     ]
    },
    {
     "data": {
      "application/vnd.jupyter.widget-view+json": {
       "model_id": "d9f0bf4416b8460d9833172dd18548e5",
       "version_major": 2,
       "version_minor": 0
      },
      "text/plain": [
       "Running Epoch 5 of 10:   0%|          | 0/1960 [00:00<?, ?it/s]"
      ]
     },
     "metadata": {},
     "output_type": "display_data"
    },
    {
     "data": {
      "application/vnd.jupyter.widget-view+json": {
       "model_id": "5d4e8a2be9784ae3b113e9c6b12d530c",
       "version_major": 2,
       "version_minor": 0
      },
      "text/plain": [
       "  0%|          | 0/6 [00:00<?, ?it/s]"
      ]
     },
     "metadata": {},
     "output_type": "display_data"
    },
    {
     "data": {
      "application/vnd.jupyter.widget-view+json": {
       "model_id": "4e6779fbfa3741c6b3e82e15eb44373e",
       "version_major": 2,
       "version_minor": 0
      },
      "text/plain": [
       "Running Evaluation:   0%|          | 0/373 [00:00<?, ?it/s]"
      ]
     },
     "metadata": {},
     "output_type": "display_data"
    },
    {
     "name": "stderr",
     "output_type": "stream",
     "text": [
      "/s/ls4/users/grartem/anaconda3/envs/simptr/lib/python3.8/site-packages/seqeval/metrics/sequence_labeling.py:171: UserWarning: CMD1 seems not to be NE tag.\n",
      "  warnings.warn('{} seems not to be NE tag.'.format(chunk))\n",
      "/s/ls4/users/grartem/anaconda3/envs/simptr/lib/python3.8/site-packages/seqeval/metrics/sequence_labeling.py:171: UserWarning: CMD2 seems not to be NE tag.\n",
      "  warnings.warn('{} seems not to be NE tag.'.format(chunk))\n",
      "/s/ls4/users/grartem/anaconda3/envs/simptr/lib/python3.8/site-packages/seqeval/metrics/sequence_labeling.py:171: UserWarning: CMD3 seems not to be NE tag.\n",
      "  warnings.warn('{} seems not to be NE tag.'.format(chunk))\n"
     ]
    },
    {
     "data": {
      "application/vnd.jupyter.widget-view+json": {
       "model_id": "38487b72567447fb8e20cc80c1782bcb",
       "version_major": 2,
       "version_minor": 0
      },
      "text/plain": [
       "  0%|          | 0/6 [00:00<?, ?it/s]"
      ]
     },
     "metadata": {},
     "output_type": "display_data"
    },
    {
     "data": {
      "application/vnd.jupyter.widget-view+json": {
       "model_id": "56f0c6643af9445f8108a7c279adf6a9",
       "version_major": 2,
       "version_minor": 0
      },
      "text/plain": [
       "Running Evaluation:   0%|          | 0/373 [00:00<?, ?it/s]"
      ]
     },
     "metadata": {},
     "output_type": "display_data"
    },
    {
     "name": "stderr",
     "output_type": "stream",
     "text": [
      "/s/ls4/users/grartem/anaconda3/envs/simptr/lib/python3.8/site-packages/seqeval/metrics/sequence_labeling.py:171: UserWarning: CMD1 seems not to be NE tag.\n",
      "  warnings.warn('{} seems not to be NE tag.'.format(chunk))\n",
      "/s/ls4/users/grartem/anaconda3/envs/simptr/lib/python3.8/site-packages/seqeval/metrics/sequence_labeling.py:171: UserWarning: CMD2 seems not to be NE tag.\n",
      "  warnings.warn('{} seems not to be NE tag.'.format(chunk))\n",
      "/s/ls4/users/grartem/anaconda3/envs/simptr/lib/python3.8/site-packages/seqeval/metrics/sequence_labeling.py:171: UserWarning: CMD3 seems not to be NE tag.\n",
      "  warnings.warn('{} seems not to be NE tag.'.format(chunk))\n"
     ]
    },
    {
     "data": {
      "application/vnd.jupyter.widget-view+json": {
       "model_id": "05fd88014c47410cae86e26baf4ab6bb",
       "version_major": 2,
       "version_minor": 0
      },
      "text/plain": [
       "Running Epoch 6 of 10:   0%|          | 0/1960 [00:00<?, ?it/s]"
      ]
     },
     "metadata": {},
     "output_type": "display_data"
    },
    {
     "data": {
      "application/vnd.jupyter.widget-view+json": {
       "model_id": "66d99741a53a476a8b02899a20300e30",
       "version_major": 2,
       "version_minor": 0
      },
      "text/plain": [
       "  0%|          | 0/6 [00:00<?, ?it/s]"
      ]
     },
     "metadata": {},
     "output_type": "display_data"
    },
    {
     "data": {
      "application/vnd.jupyter.widget-view+json": {
       "model_id": "b037090625414111b56259ca97c2b2e4",
       "version_major": 2,
       "version_minor": 0
      },
      "text/plain": [
       "Running Evaluation:   0%|          | 0/373 [00:00<?, ?it/s]"
      ]
     },
     "metadata": {},
     "output_type": "display_data"
    },
    {
     "name": "stderr",
     "output_type": "stream",
     "text": [
      "/s/ls4/users/grartem/anaconda3/envs/simptr/lib/python3.8/site-packages/seqeval/metrics/sequence_labeling.py:171: UserWarning: CMD1 seems not to be NE tag.\n",
      "  warnings.warn('{} seems not to be NE tag.'.format(chunk))\n",
      "/s/ls4/users/grartem/anaconda3/envs/simptr/lib/python3.8/site-packages/seqeval/metrics/sequence_labeling.py:171: UserWarning: CMD2 seems not to be NE tag.\n",
      "  warnings.warn('{} seems not to be NE tag.'.format(chunk))\n",
      "/s/ls4/users/grartem/anaconda3/envs/simptr/lib/python3.8/site-packages/seqeval/metrics/sequence_labeling.py:171: UserWarning: CMD3 seems not to be NE tag.\n",
      "  warnings.warn('{} seems not to be NE tag.'.format(chunk))\n"
     ]
    },
    {
     "data": {
      "application/vnd.jupyter.widget-view+json": {
       "model_id": "cbc752fc930040e3afca75bfbc01a618",
       "version_major": 2,
       "version_minor": 0
      },
      "text/plain": [
       "  0%|          | 0/6 [00:00<?, ?it/s]"
      ]
     },
     "metadata": {},
     "output_type": "display_data"
    },
    {
     "data": {
      "application/vnd.jupyter.widget-view+json": {
       "model_id": "87e543c95f014919ada72fd31abccf69",
       "version_major": 2,
       "version_minor": 0
      },
      "text/plain": [
       "Running Evaluation:   0%|          | 0/373 [00:00<?, ?it/s]"
      ]
     },
     "metadata": {},
     "output_type": "display_data"
    },
    {
     "name": "stderr",
     "output_type": "stream",
     "text": [
      "/s/ls4/users/grartem/anaconda3/envs/simptr/lib/python3.8/site-packages/seqeval/metrics/sequence_labeling.py:171: UserWarning: CMD1 seems not to be NE tag.\n",
      "  warnings.warn('{} seems not to be NE tag.'.format(chunk))\n",
      "/s/ls4/users/grartem/anaconda3/envs/simptr/lib/python3.8/site-packages/seqeval/metrics/sequence_labeling.py:171: UserWarning: CMD2 seems not to be NE tag.\n",
      "  warnings.warn('{} seems not to be NE tag.'.format(chunk))\n",
      "/s/ls4/users/grartem/anaconda3/envs/simptr/lib/python3.8/site-packages/seqeval/metrics/sequence_labeling.py:171: UserWarning: CMD3 seems not to be NE tag.\n",
      "  warnings.warn('{} seems not to be NE tag.'.format(chunk))\n"
     ]
    },
    {
     "data": {
      "application/vnd.jupyter.widget-view+json": {
       "model_id": "8cc1d80aeda54341b2f9b3c777caf303",
       "version_major": 2,
       "version_minor": 0
      },
      "text/plain": [
       "Running Epoch 7 of 10:   0%|          | 0/1960 [00:00<?, ?it/s]"
      ]
     },
     "metadata": {},
     "output_type": "display_data"
    },
    {
     "data": {
      "application/vnd.jupyter.widget-view+json": {
       "model_id": "412d88780e8d42d489646f5c36c0f6b8",
       "version_major": 2,
       "version_minor": 0
      },
      "text/plain": [
       "  0%|          | 0/6 [00:00<?, ?it/s]"
      ]
     },
     "metadata": {},
     "output_type": "display_data"
    },
    {
     "data": {
      "application/vnd.jupyter.widget-view+json": {
       "model_id": "42a75a308c6443a293906ff3c7f207d9",
       "version_major": 2,
       "version_minor": 0
      },
      "text/plain": [
       "Running Evaluation:   0%|          | 0/373 [00:00<?, ?it/s]"
      ]
     },
     "metadata": {},
     "output_type": "display_data"
    },
    {
     "name": "stderr",
     "output_type": "stream",
     "text": [
      "/s/ls4/users/grartem/anaconda3/envs/simptr/lib/python3.8/site-packages/seqeval/metrics/sequence_labeling.py:171: UserWarning: CMD1 seems not to be NE tag.\n",
      "  warnings.warn('{} seems not to be NE tag.'.format(chunk))\n",
      "/s/ls4/users/grartem/anaconda3/envs/simptr/lib/python3.8/site-packages/seqeval/metrics/sequence_labeling.py:171: UserWarning: CMD2 seems not to be NE tag.\n",
      "  warnings.warn('{} seems not to be NE tag.'.format(chunk))\n",
      "/s/ls4/users/grartem/anaconda3/envs/simptr/lib/python3.8/site-packages/seqeval/metrics/sequence_labeling.py:171: UserWarning: CMD3 seems not to be NE tag.\n",
      "  warnings.warn('{} seems not to be NE tag.'.format(chunk))\n"
     ]
    },
    {
     "data": {
      "application/vnd.jupyter.widget-view+json": {
       "model_id": "693bfab63b0b4b01b768f388b9952813",
       "version_major": 2,
       "version_minor": 0
      },
      "text/plain": [
       "  0%|          | 0/6 [00:00<?, ?it/s]"
      ]
     },
     "metadata": {},
     "output_type": "display_data"
    },
    {
     "data": {
      "application/vnd.jupyter.widget-view+json": {
       "model_id": "362fde24002346148ea6a32e5ca15691",
       "version_major": 2,
       "version_minor": 0
      },
      "text/plain": [
       "Running Evaluation:   0%|          | 0/373 [00:00<?, ?it/s]"
      ]
     },
     "metadata": {},
     "output_type": "display_data"
    },
    {
     "name": "stderr",
     "output_type": "stream",
     "text": [
      "/s/ls4/users/grartem/anaconda3/envs/simptr/lib/python3.8/site-packages/seqeval/metrics/sequence_labeling.py:171: UserWarning: CMD1 seems not to be NE tag.\n",
      "  warnings.warn('{} seems not to be NE tag.'.format(chunk))\n",
      "/s/ls4/users/grartem/anaconda3/envs/simptr/lib/python3.8/site-packages/seqeval/metrics/sequence_labeling.py:171: UserWarning: CMD2 seems not to be NE tag.\n",
      "  warnings.warn('{} seems not to be NE tag.'.format(chunk))\n",
      "/s/ls4/users/grartem/anaconda3/envs/simptr/lib/python3.8/site-packages/seqeval/metrics/sequence_labeling.py:171: UserWarning: CMD3 seems not to be NE tag.\n",
      "  warnings.warn('{} seems not to be NE tag.'.format(chunk))\n"
     ]
    },
    {
     "data": {
      "application/vnd.jupyter.widget-view+json": {
       "model_id": "5360e052fabb48679ba28bce5196bee3",
       "version_major": 2,
       "version_minor": 0
      },
      "text/plain": [
       "Running Epoch 8 of 10:   0%|          | 0/1960 [00:00<?, ?it/s]"
      ]
     },
     "metadata": {},
     "output_type": "display_data"
    },
    {
     "data": {
      "application/vnd.jupyter.widget-view+json": {
       "model_id": "f6ebe4d9f90a46858b85e6e8901d9c52",
       "version_major": 2,
       "version_minor": 0
      },
      "text/plain": [
       "  0%|          | 0/6 [00:00<?, ?it/s]"
      ]
     },
     "metadata": {},
     "output_type": "display_data"
    },
    {
     "data": {
      "application/vnd.jupyter.widget-view+json": {
       "model_id": "ef9fc87ef6ea486fa229e914bb800940",
       "version_major": 2,
       "version_minor": 0
      },
      "text/plain": [
       "Running Evaluation:   0%|          | 0/373 [00:00<?, ?it/s]"
      ]
     },
     "metadata": {},
     "output_type": "display_data"
    },
    {
     "name": "stderr",
     "output_type": "stream",
     "text": [
      "/s/ls4/users/grartem/anaconda3/envs/simptr/lib/python3.8/site-packages/seqeval/metrics/sequence_labeling.py:171: UserWarning: CMD1 seems not to be NE tag.\n",
      "  warnings.warn('{} seems not to be NE tag.'.format(chunk))\n",
      "/s/ls4/users/grartem/anaconda3/envs/simptr/lib/python3.8/site-packages/seqeval/metrics/sequence_labeling.py:171: UserWarning: CMD2 seems not to be NE tag.\n",
      "  warnings.warn('{} seems not to be NE tag.'.format(chunk))\n",
      "/s/ls4/users/grartem/anaconda3/envs/simptr/lib/python3.8/site-packages/seqeval/metrics/sequence_labeling.py:171: UserWarning: CMD3 seems not to be NE tag.\n",
      "  warnings.warn('{} seems not to be NE tag.'.format(chunk))\n"
     ]
    },
    {
     "data": {
      "application/vnd.jupyter.widget-view+json": {
       "model_id": "fd4c7a8ffc1b4cc2b4b768782e4ece2f",
       "version_major": 2,
       "version_minor": 0
      },
      "text/plain": [
       "  0%|          | 0/6 [00:00<?, ?it/s]"
      ]
     },
     "metadata": {},
     "output_type": "display_data"
    },
    {
     "data": {
      "application/vnd.jupyter.widget-view+json": {
       "model_id": "befabef069cb47b09b354c86996f503c",
       "version_major": 2,
       "version_minor": 0
      },
      "text/plain": [
       "Running Evaluation:   0%|          | 0/373 [00:00<?, ?it/s]"
      ]
     },
     "metadata": {},
     "output_type": "display_data"
    },
    {
     "name": "stderr",
     "output_type": "stream",
     "text": [
      "/s/ls4/users/grartem/anaconda3/envs/simptr/lib/python3.8/site-packages/seqeval/metrics/sequence_labeling.py:171: UserWarning: CMD1 seems not to be NE tag.\n",
      "  warnings.warn('{} seems not to be NE tag.'.format(chunk))\n",
      "/s/ls4/users/grartem/anaconda3/envs/simptr/lib/python3.8/site-packages/seqeval/metrics/sequence_labeling.py:171: UserWarning: CMD2 seems not to be NE tag.\n",
      "  warnings.warn('{} seems not to be NE tag.'.format(chunk))\n",
      "/s/ls4/users/grartem/anaconda3/envs/simptr/lib/python3.8/site-packages/seqeval/metrics/sequence_labeling.py:171: UserWarning: CMD3 seems not to be NE tag.\n",
      "  warnings.warn('{} seems not to be NE tag.'.format(chunk))\n"
     ]
    },
    {
     "data": {
      "application/vnd.jupyter.widget-view+json": {
       "model_id": "140f66bdf3fd46919a0516db9fd6bc8a",
       "version_major": 2,
       "version_minor": 0
      },
      "text/plain": [
       "Running Epoch 9 of 10:   0%|          | 0/1960 [00:00<?, ?it/s]"
      ]
     },
     "metadata": {},
     "output_type": "display_data"
    },
    {
     "data": {
      "application/vnd.jupyter.widget-view+json": {
       "model_id": "8de6a3d1767b4a418056750344e4d974",
       "version_major": 2,
       "version_minor": 0
      },
      "text/plain": [
       "  0%|          | 0/6 [00:00<?, ?it/s]"
      ]
     },
     "metadata": {},
     "output_type": "display_data"
    },
    {
     "data": {
      "application/vnd.jupyter.widget-view+json": {
       "model_id": "7472ac2ed8fb4a498abbd56316b82e75",
       "version_major": 2,
       "version_minor": 0
      },
      "text/plain": [
       "Running Evaluation:   0%|          | 0/373 [00:00<?, ?it/s]"
      ]
     },
     "metadata": {},
     "output_type": "display_data"
    },
    {
     "name": "stderr",
     "output_type": "stream",
     "text": [
      "/s/ls4/users/grartem/anaconda3/envs/simptr/lib/python3.8/site-packages/seqeval/metrics/sequence_labeling.py:171: UserWarning: CMD1 seems not to be NE tag.\n",
      "  warnings.warn('{} seems not to be NE tag.'.format(chunk))\n",
      "/s/ls4/users/grartem/anaconda3/envs/simptr/lib/python3.8/site-packages/seqeval/metrics/sequence_labeling.py:171: UserWarning: CMD2 seems not to be NE tag.\n",
      "  warnings.warn('{} seems not to be NE tag.'.format(chunk))\n",
      "/s/ls4/users/grartem/anaconda3/envs/simptr/lib/python3.8/site-packages/seqeval/metrics/sequence_labeling.py:171: UserWarning: CMD3 seems not to be NE tag.\n",
      "  warnings.warn('{} seems not to be NE tag.'.format(chunk))\n"
     ]
    },
    {
     "data": {
      "application/vnd.jupyter.widget-view+json": {
       "model_id": "a865ead832e64c888137211f44fd400b",
       "version_major": 2,
       "version_minor": 0
      },
      "text/plain": [
       "  0%|          | 0/6 [00:00<?, ?it/s]"
      ]
     },
     "metadata": {},
     "output_type": "display_data"
    },
    {
     "data": {
      "application/vnd.jupyter.widget-view+json": {
       "model_id": "09036e6931d24696a9fbf5397a8903e9",
       "version_major": 2,
       "version_minor": 0
      },
      "text/plain": [
       "Running Evaluation:   0%|          | 0/373 [00:00<?, ?it/s]"
      ]
     },
     "metadata": {},
     "output_type": "display_data"
    },
    {
     "name": "stderr",
     "output_type": "stream",
     "text": [
      "/s/ls4/users/grartem/anaconda3/envs/simptr/lib/python3.8/site-packages/seqeval/metrics/sequence_labeling.py:171: UserWarning: CMD1 seems not to be NE tag.\n",
      "  warnings.warn('{} seems not to be NE tag.'.format(chunk))\n",
      "/s/ls4/users/grartem/anaconda3/envs/simptr/lib/python3.8/site-packages/seqeval/metrics/sequence_labeling.py:171: UserWarning: CMD2 seems not to be NE tag.\n",
      "  warnings.warn('{} seems not to be NE tag.'.format(chunk))\n",
      "/s/ls4/users/grartem/anaconda3/envs/simptr/lib/python3.8/site-packages/seqeval/metrics/sequence_labeling.py:171: UserWarning: CMD3 seems not to be NE tag.\n",
      "  warnings.warn('{} seems not to be NE tag.'.format(chunk))\n"
     ]
    },
    {
     "data": {
      "text/plain": [
       "(19600,\n",
       " defaultdict(list,\n",
       "             {'global_step': [1960,\n",
       "               2000,\n",
       "               3920,\n",
       "               4000,\n",
       "               5880,\n",
       "               6000,\n",
       "               7840,\n",
       "               8000,\n",
       "               9800,\n",
       "               10000,\n",
       "               11760,\n",
       "               12000,\n",
       "               13720,\n",
       "               14000,\n",
       "               15680,\n",
       "               16000,\n",
       "               17640,\n",
       "               18000,\n",
       "               19600],\n",
       "              'train_loss': [0.0024012785870581865,\n",
       "               0.0036378283984959126,\n",
       "               0.01069735735654831,\n",
       "               0.010477759875357151,\n",
       "               0.0010051507269963622,\n",
       "               0.018477605655789375,\n",
       "               0.00012169281399110332,\n",
       "               0.0014449754962697625,\n",
       "               6.0819445934612304e-05,\n",
       "               0.00012475803669076413,\n",
       "               0.00010830422979779541,\n",
       "               0.00010404713248135522,\n",
       "               2.8362641387502663e-05,\n",
       "               4.189837272861041e-05,\n",
       "               1.8855800590245053e-05,\n",
       "               4.336581696406938e-05,\n",
       "               1.0244548320770264e-05,\n",
       "               5.861093814019114e-05,\n",
       "               2.0993791622458957e-05],\n",
       "              'eval_loss': [0.028182199221396514,\n",
       "               0.02877858201891993,\n",
       "               0.014519399558284492,\n",
       "               0.018862688239325517,\n",
       "               0.01125199202398661,\n",
       "               0.00980633056330733,\n",
       "               0.010559673293550804,\n",
       "               0.009216922648826812,\n",
       "               0.010442006916779387,\n",
       "               0.011107017049375254,\n",
       "               0.010422233546222896,\n",
       "               0.0122359067834808,\n",
       "               0.013530919956470927,\n",
       "               0.012730049673353975,\n",
       "               0.013368042593952393,\n",
       "               0.01337742977287676,\n",
       "               0.014120235393774001,\n",
       "               0.014494304097669417,\n",
       "               0.01370814663624361],\n",
       "              'precision': [0.9610526315789474,\n",
       "               0.9686895338610378,\n",
       "               0.9818278052223006,\n",
       "               0.976420904451874,\n",
       "               0.9872679045092838,\n",
       "               0.9899079320113314,\n",
       "               0.992550549840369,\n",
       "               0.994319190484644,\n",
       "               0.9937888198757764,\n",
       "               0.9946732954545454,\n",
       "               0.9920255183413078,\n",
       "               0.994319190484644,\n",
       "               0.9932600212841434,\n",
       "               0.9925558312655087,\n",
       "               0.9939673527324343,\n",
       "               0.9941458222458754,\n",
       "               0.9939673527324343,\n",
       "               0.9936136242682277,\n",
       "               0.9946751863684771],\n",
       "              'recall': [0.9728289824187534,\n",
       "               0.9779790445746759,\n",
       "               0.988279168886521,\n",
       "               0.9854377552832534,\n",
       "               0.9914757591901971,\n",
       "               0.9928964659918309,\n",
       "               0.993784407742852,\n",
       "               0.9946723494938732,\n",
       "               0.994494761143669,\n",
       "               0.9948499378440774,\n",
       "               0.9941395844432606,\n",
       "               0.9946723494938732,\n",
       "               0.994494761143669,\n",
       "               0.994494761143669,\n",
       "               0.9948499378440774,\n",
       "               0.9952051145444859,\n",
       "               0.9948499378440774,\n",
       "               0.9946723494938732,\n",
       "               0.9952051145444859],\n",
       "              'f1_score': [0.9669049510193276,\n",
       "               0.973312124425592,\n",
       "               0.98504292415258,\n",
       "               0.9809086088032527,\n",
       "               0.9893673577884105,\n",
       "               0.9913999468037947,\n",
       "               0.993167095571923,\n",
       "               0.9944957386363635,\n",
       "               0.9941416651872892,\n",
       "               0.9947616088076001,\n",
       "               0.9930814262905802,\n",
       "               0.9944957386363635,\n",
       "               0.9938770077202946,\n",
       "               0.9935243502173334,\n",
       "               0.9944084494541581,\n",
       "               0.9946751863684771,\n",
       "               0.9944084494541581,\n",
       "               0.9941427050053248,\n",
       "               0.9949400798934753]}))"
      ]
     },
     "execution_count": 8,
     "metadata": {},
     "output_type": "execute_result"
    }
   ],
   "source": [
    "# Train the model\n",
    "model.train_model(train_df, eval_data=valid_df)"
   ]
  },
  {
   "cell_type": "code",
   "execution_count": 9,
   "metadata": {},
   "outputs": [
    {
     "data": {
      "application/vnd.jupyter.widget-view+json": {
       "model_id": "69ab878dbe3546a48f495fb52cb5a0c6",
       "version_major": 2,
       "version_minor": 0
      },
      "text/plain": [
       "  0%|          | 0/6 [00:00<?, ?it/s]"
      ]
     },
     "metadata": {},
     "output_type": "display_data"
    },
    {
     "data": {
      "application/vnd.jupyter.widget-view+json": {
       "model_id": "85d5af5ae83048dd91bc20318d81ab19",
       "version_major": 2,
       "version_minor": 0
      },
      "text/plain": [
       "Running Evaluation:   0%|          | 0/373 [00:00<?, ?it/s]"
      ]
     },
     "metadata": {},
     "output_type": "display_data"
    },
    {
     "name": "stderr",
     "output_type": "stream",
     "text": [
      "/s/ls4/users/grartem/anaconda3/envs/simptr/lib/python3.8/site-packages/seqeval/metrics/sequence_labeling.py:171: UserWarning: CMD1 seems not to be NE tag.\n",
      "  warnings.warn('{} seems not to be NE tag.'.format(chunk))\n",
      "/s/ls4/users/grartem/anaconda3/envs/simptr/lib/python3.8/site-packages/seqeval/metrics/sequence_labeling.py:171: UserWarning: CMD2 seems not to be NE tag.\n",
      "  warnings.warn('{} seems not to be NE tag.'.format(chunk))\n",
      "/s/ls4/users/grartem/anaconda3/envs/simptr/lib/python3.8/site-packages/seqeval/metrics/sequence_labeling.py:171: UserWarning: CMD3 seems not to be NE tag.\n",
      "  warnings.warn('{} seems not to be NE tag.'.format(chunk))\n"
     ]
    }
   ],
   "source": [
    "# Evaluate the model\n",
    "result, model_outputs, preds_list = model.eval_model(valid_df)"
   ]
  },
  {
   "cell_type": "code",
   "execution_count": 10,
   "metadata": {},
   "outputs": [
    {
     "data": {
      "application/vnd.jupyter.widget-view+json": {
       "model_id": "9f020f6f845b4534b3d4ff56f289702d",
       "version_major": 2,
       "version_minor": 0
      },
      "text/plain": [
       "  0%|          | 0/7 [00:00<?, ?it/s]"
      ]
     },
     "metadata": {},
     "output_type": "display_data"
    },
    {
     "data": {
      "application/vnd.jupyter.widget-view+json": {
       "model_id": "be26a674d70548958e2478b35cd91dd7",
       "version_major": 2,
       "version_minor": 0
      },
      "text/plain": [
       "Running Prediction:   0%|          | 0/389 [00:00<?, ?it/s]"
      ]
     },
     "metadata": {},
     "output_type": "display_data"
    }
   ],
   "source": [
    "predictions, raw_outputs = model.predict(df[df[\"subset\"]==\"valid\"][\"full_text\"])"
   ]
  },
  {
   "cell_type": "markdown",
   "metadata": {},
   "source": [
    "# оценка"
   ]
  },
  {
   "cell_type": "code",
   "execution_count": 12,
   "metadata": {},
   "outputs": [
    {
     "name": "stdout",
     "output_type": "stream",
     "text": [
      "              precision    recall  f1-score   support\n",
      "\n",
      "        CMD1       1.00      1.00      1.00     15260\n",
      "        CMD2       1.00      1.00      1.00     10895\n",
      "        CMD3       1.00      0.98      0.99      3127\n",
      "           O       1.00      1.00      1.00      3154\n",
      "\n",
      "    accuracy                           1.00     32436\n",
      "   macro avg       1.00      0.99      1.00     32436\n",
      "weighted avg       1.00      1.00      1.00     32436\n",
      "\n"
     ]
    }
   ],
   "source": [
    "from sklearn.metrics import classification_report\n",
    "flat_token_predictions = [list(x.values())[0] for sent in predictions for x in sent]\n",
    "flat_token_true = valid_df[\"labels\"].values\n",
    "print(classification_report(flat_token_true, flat_token_predictions))"
   ]
  },
  {
   "cell_type": "code",
   "execution_count": 25,
   "metadata": {},
   "outputs": [
    {
     "name": "stdout",
     "output_type": "stream",
     "text": [
      "full_text: обскочи загородку что рядом с останцем который располагается около рытвины припусти к ольхе\n",
      "text1: обскочи загородку что рядом с останцем который располагается около рытвины predict: обскочи загородку что рядом с останцем который располагается около рытвины ольхе\n",
      "text2: припусти к ольхе predict: припусти к\n",
      "text3: nan predict: \n",
      "\n",
      "full_text: пытайся обскакивать чащу которая справа от машины что левее дуба соверши поворот 600 в сторону севера\n",
      "text1: пытайся обскакивать чащу которая справа от машины что левее дуба predict: пытайся обскакивать чащу которая справа от машины что левее дуба севера\n",
      "text2: соверши поворот 600 в сторону севера predict: соверши поворот 600 в сторону\n",
      "text3: nan predict: \n",
      "\n",
      "full_text: убеги к мужчине слева  неподалеку от валуна располагается упавшее дерево которое нужно разглядывать\n",
      "text1: убеги к мужчине слева  predict: убеги к мужчине\n",
      "text2: неподалеку от валуна располагается упавшее дерево которое нужно разглядывать predict: слева неподалеку от валуна располагается упавшее дерево которое нужно разглядывать\n",
      "text3: nan predict: \n",
      "\n",
      "full_text: рядом с железным конём пьяный человек которого просят осмотреть осмотри близкую трещину\n",
      "text1: рядом с железным конём пьяный человек которого просят осмотреть predict: рядом с железным конём пьяный человек которого просят осмотреть осмотри близкую трещину\n",
      "text2: осмотри близкую трещину predict: \n",
      "text3: nan predict: \n",
      "\n",
      "full_text: попробуй выступать вспять засим обойди окрестности по касательной радиуса 15m ступай 20 м на северный край\n",
      "text1: попробуй выступать вспять predict: попробуй выступать вспять ступай 20 м на северный край\n",
      "text2: обойди окрестности по касательной радиуса 15m predict: обойди окрестности по касательной радиуса 15m\n",
      "text3: ступай 20 м на северный край predict: \n",
      "\n",
      "full_text: за лампой находится дубрава которую приказывается отыскать перед мужчиной дуб который приказывается рассматривать дальше пытайся шлёпать на 9m\n",
      "text1: за лампой находится дубрава которую приказывается отыскать predict: за лампой находится дубрава которую приказывается отыскать мужчиной приказывается\n",
      "text2: перед мужчиной дуб который приказывается рассматривать predict: перед дуб который рассматривать пытайся шлёпать на 9m\n",
      "text3: пытайся шлёпать на 9m predict: \n",
      "\n",
      "full_text: за ребёнком располагается железный конь которого приказывают опережать позже повернись в сторону востока 298° осуществляй обход местности по окружности размером 9м\n",
      "text1: за ребёнком располагается железный конь которого приказывают опережать predict: за ребёнком располагается железный конь которого приказывают опережать осуществляй обход местности по окружности размером 9м\n",
      "text2: повернись в сторону востока 298° predict: повернись в сторону востока 298°\n",
      "text3: осуществляй обход местности по окружности размером 9м predict: \n",
      "\n",
      "full_text: пытайся поворачивать 275 ° немного спустя обнаружь ближайший фонарь разведка\n",
      "text1: пытайся поворачивать 275 ° predict: пытайся поворачивать 275 °\n",
      "text2: обнаружь ближайший фонарь predict: обнаружь ближайший фонарь разведка\n",
      "text3: разведка predict: \n",
      "\n",
      "full_text: соверши поворот на 930 на восточный край дальше иди в патруль начинай влачиться 26м\n",
      "text1: соверши поворот на 930 на восточный край predict: соверши поворот на 930 на восточный край начинай влачиться 26м\n",
      "text2: иди в патруль predict: иди в патруль\n",
      "text3: начинай влачиться 26м predict: \n",
      "\n",
      "full_text: выходи к разрыву слева от дуба что находится правее пригорка в дальнейшем отходи в сторону востока семени в сторону запада 1м\n",
      "text1: выходи к разрыву слева от дуба что находится правее пригорка predict: выходи к разрыву слева от дуба что находится правее пригорка семени в сторону запада 1м\n",
      "text2: отходи в сторону востока predict: отходи в сторону востока\n",
      "text3: семени в сторону запада 1м predict: \n",
      "\n",
      "full_text: соверши поворот в сторону севера ползи затем поворачивай в северную сторону на 86 °\n",
      "text1: соверши поворот в сторону севера predict: соверши поворот в сторону севера ползи\n",
      "text2: ползи predict: поворачивай в северную сторону на 86 °\n",
      "text3: поворачивай в северную сторону на 86 ° predict: \n",
      "\n",
      "full_text: пошел в эту сторону до рытвины следом тронься к тому валуну торопись на 25м\n",
      "text1: пошел в эту сторону до рытвины predict: пошел в эту сторону до рытвины торопись на 25м\n",
      "text2: тронься к тому валуну predict: тронься к тому валуну\n",
      "text3: торопись на 25м predict: \n",
      "\n",
      "full_text: разглядывай строение немного спустя заворчивай в сторону востока 296 ° начни поворачивать налево 238 °\n",
      "text1: разглядывай строение predict: разглядывай строение начни поворачивать налево 238 °\n",
      "text2: заворчивай в сторону востока 296 ° predict: заворчивай в сторону востока 296 °\n",
      "text3: начни поворачивать налево 238 ° predict: \n",
      "\n",
      "full_text: лети напрямик пошел в том направлении опосля обскакивай останец находящийся за чащей что левее трещины\n",
      "text1: лети напрямик predict: лети напрямик\n",
      "text2: пошел в том направлении predict: пошел в том направлении что левее трещины\n",
      "text3: обскакивай останец находящийся за чащей что левее трещины predict: обскакивай останец находящийся за чащей\n",
      "\n",
      "full_text: рассматривай растение которое рядом с булыгой которая спереди от пьяного человека спустя время найди столб впереди себя начинай гулять в это место к даме\n",
      "text1: рассматривай растение которое рядом с булыгой которая спереди от пьяного человека predict: рассматривай растение которое рядом с булыгой которая спереди от пьяного человека начинай гулять в это место к даме\n",
      "text2: найди столб впереди себя predict: найди столб впереди себя\n",
      "text3: начинай гулять в это место к даме predict: \n",
      "\n",
      "full_text: углубись до рощи что находится правее дамы располагающейся правее булыжника дальше соверши поворот 292 ° в сторону юга прекрати движение\n",
      "text1: углубись до рощи что находится правее дамы располагающейся правее булыжника predict: углубись до рощи что находится правее дамы располагающейся правее булыжника прекрати движение\n",
      "text2: соверши поворот 292 ° в сторону юга predict: соверши поворот 292 ° в сторону юга\n",
      "text3: прекрати движение predict: \n",
      "\n",
      "full_text: обходи автомобиль что располагается справа от женщины которая находится справа от растения спустя некоторое время пытайся обследовать тот останец куда пошел\n",
      "text1: обходи автомобиль что располагается справа от женщины которая находится справа от растения predict: обходи автомобиль что располагается справа от женщины которая находится справа от растения\n",
      "text2: пытайся обследовать тот останец predict: пытайся обследовать тот останец куда пошел\n",
      "text3: куда пошел predict: \n",
      "\n",
      "full_text: припаркуйся опосля повернись на 137 градусов в сторону севера повернись на западный край 1000\n",
      "text1: припаркуйся predict: припаркуйся повернись на западный край 1000\n",
      "text2: повернись на 137 градусов в сторону севера predict: повернись на 137 градусов в сторону севера\n",
      "text3: повернись на западный край 1000 predict: \n",
      "\n",
      "full_text: сделай поворот на 11 ° через некоторое время иди в патруль по орбите размером 24 метра соверши поворот влево 630\n",
      "text1: сделай поворот на 11 ° predict: сделай поворот на 11 ° соверши поворот влево 630\n",
      "text2: иди в патруль по орбите размером 24 метра predict: иди в патруль по орбите размером 24 метра\n",
      "text3: соверши поворот влево 630 predict: \n",
      "\n",
      "Errors 19\n"
     ]
    }
   ],
   "source": [
    "i, errors = 0, 0\n",
    "for ir, row in df[df[\"subset\"]==\"valid\"].iterrows():\n",
    "    text1, text2, text3 = [], [], []\n",
    "    for token in predictions[i]:\n",
    "        token, cls = list(token.items())[0]\n",
    "        if cls==\"CMD1\":\n",
    "            text1.append(token)\n",
    "        if cls==\"CMD2\":\n",
    "            text2.append(token)\n",
    "        if cls==\"CMD3\":\n",
    "            text3.append(token)\n",
    "    text1 = \" \".join(text1)\n",
    "    text2 = \" \".join(text2)\n",
    "    text3 = \" \".join(text3)\n",
    "    \n",
    "    try:\n",
    "        assert text1 == row[\"text1\"].strip()\n",
    "        assert (text2==\"\" and type(row[\"text2\"]) is float) or text2 == row[\"text2\"].strip()\n",
    "        assert (text3==\"\" and type(row[\"text3\"]) is float) or text3 == row[\"text3\"].strip()\n",
    "        #assert (text3==\"\" and np.isnan(row[\"text3\"])) or text3 == row[\"text3\"].strip()\n",
    "    except AssertionError:\n",
    "        print(\"full_text:\", row[\"full_text\"])\n",
    "        print(\"text1:\", row[\"text1\"], \"predict:\", text1)\n",
    "        print(\"text2:\", row[\"text2\"], \"predict:\", text2)\n",
    "        print(\"text3:\", row[\"text3\"], \"predict:\", text3)\n",
    "        print()\n",
    "        errors += 1\n",
    "    i+=1\n",
    "print(\"Errors\", errors)"
   ]
  },
  {
   "cell_type": "markdown",
   "metadata": {},
   "source": [
    "# проверим, как она хорошо предсказывает фразы из 1 команды, если не видела их"
   ]
  },
  {
   "cell_type": "code",
   "execution_count": 26,
   "metadata": {},
   "outputs": [
    {
     "data": {
      "application/vnd.jupyter.widget-view+json": {
       "model_id": "beb235e3e5974020a0a78a08e63dff8f",
       "version_major": 2,
       "version_minor": 0
      },
      "text/plain": [
       "  0%|          | 0/29 [00:00<?, ?it/s]"
      ]
     },
     "metadata": {},
     "output_type": "display_data"
    },
    {
     "data": {
      "application/vnd.jupyter.widget-view+json": {
       "model_id": "2540bfb82481428c85bb55a3f4364adb",
       "version_major": 2,
       "version_minor": 0
      },
      "text/plain": [
       "Running Prediction:   0%|          | 0/2661 [00:00<?, ?it/s]"
      ]
     },
     "metadata": {},
     "output_type": "display_data"
    }
   ],
   "source": [
    "df = pd.read_csv(\"../Data/Interim/12052022_one_cmd_split.csv\", sep=\",\")\n",
    "predictions, raw_outputs = model.predict(df[\"x\"])"
   ]
  },
  {
   "cell_type": "code",
   "execution_count": 27,
   "metadata": {},
   "outputs": [
    {
     "data": {
      "text/plain": [
       "400"
      ]
     },
     "execution_count": 27,
     "metadata": {},
     "output_type": "execute_result"
    }
   ],
   "source": [
    "errors_count = 0\n",
    "for phrase in predictions:\n",
    "    classes = list(set([list(x.values())[0] for x in phrase]))\n",
    "    if len(classes)==1 and classes[0]==\"CMD1\":\n",
    "        continue\n",
    "    else:\n",
    "        errors_count+=1\n",
    "errors_count"
   ]
  }
 ],
 "metadata": {
  "kernelspec": {
   "display_name": "simptr",
   "language": "python",
   "name": "simptr"
  },
  "language_info": {
   "codemirror_mode": {
    "name": "ipython",
    "version": 3
   },
   "file_extension": ".py",
   "mimetype": "text/x-python",
   "name": "python",
   "nbconvert_exporter": "python",
   "pygments_lexer": "ipython3",
   "version": "3.8.0"
  }
 },
 "nbformat": 4,
 "nbformat_minor": 4
}
