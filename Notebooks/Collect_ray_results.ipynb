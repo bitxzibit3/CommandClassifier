{
 "cells": [
  {
   "cell_type": "code",
   "execution_count": 1,
   "metadata": {},
   "outputs": [],
   "source": [
    "import os\n",
    "import json\n",
    "import pandas as pd"
   ]
  },
  {
   "cell_type": "code",
   "execution_count": 2,
   "metadata": {},
   "outputs": [],
   "source": [
    "base_dir = \"/s/ls4/users/grartem/RL_robots/CommandClassifier/Results/RandomForestClassifier\""
   ]
  },
  {
   "cell_type": "code",
   "execution_count": 3,
   "metadata": {
    "scrolled": true
   },
   "outputs": [
    {
     "name": "stdout",
     "output_type": "stream",
     "text": [
      "ERROR train_function_d5de2ae8_255_class=RandomForestClassifier,bootstrap=True,criterion=entropy,max_features=auto,max_samples=0.95812,mi_2022-04-01_18-24-34\n",
      "ERROR train_function_106e833c_456_class=RandomForestClassifier,bootstrap=True,criterion=entropy,max_features=auto,max_samples=0.55688,mi_2022-04-01_20-56-32\n",
      "ERROR train_function_8fc4a24e_52_class=RandomForestClassifier,bootstrap=True,criterion=gini,max_features=sqrt,max_samples=0.87644,min_sa_2022-04-01_16-35-14\n",
      "ERROR train_function_3b0f8fb8_20_class=RandomForestClassifier,bootstrap=True,criterion=entropy,max_features=auto,max_samples=0.4657,min__2022-04-01_16-18-33\n",
      "ERROR train_function_ec40fd60_323_class=RandomForestClassifier,bootstrap=True,criterion=entropy,max_features=auto,max_samples=0.55487,mi_2022-04-01_19-36-47\n",
      "ERROR train_function_9d0faa30_41_class=RandomForestClassifier,bootstrap=True,criterion=gini,max_features=sqrt,max_samples=0.86604,min_sa_2022-04-01_16-28-27\n",
      "ERROR train_function_a0480ef0_273_class=RandomForestClassifier,bootstrap=True,criterion=entropy,max_features=auto,max_samples=0.87652,mi_2022-04-01_18-44-33\n",
      "ERROR train_function_373c565e_36_class=RandomForestClassifier,bootstrap=True,criterion=gini,max_features=sqrt,max_samples=0.62637,min_sa_2022-04-01_16-25-36\n",
      "ERROR train_function_db02461a_139_class=RandomForestClassifier,bootstrap=True,criterion=entropy,max_features=sqrt,max_samples=0.68094,mi_2022-04-01_17-27-27\n",
      "ERROR train_function_e9ef7372_230_class=RandomForestClassifier,bootstrap=True,criterion=entropy,max_features=auto,max_samples=0.98598,mi_2022-04-01_18-10-49\n",
      "ERROR train_function_422fc168_37_class=RandomForestClassifier,bootstrap=True,criterion=gini,max_features=sqrt,max_samples=0.60208,min_sa_2022-04-01_16-25-54\n",
      "ERROR train_function_88607070_473_class=RandomForestClassifier,bootstrap=True,criterion=entropy,max_features=auto,max_samples=0.56071,mi_2022-04-01_21-07-03\n",
      "ERROR train_function_52c13258_261_class=RandomForestClassifier,bootstrap=True,criterion=entropy,max_features=auto,max_samples=0.90572,mi_2022-04-01_18-28-04\n",
      "ERROR train_function_426b6904_70_class=RandomForestClassifier,bootstrap=True,criterion=gini,max_features=sqrt,max_samples=0.18336,min_sa_2022-04-01_16-47-23\n",
      "ERROR train_function_bae1af40_42_class=RandomForestClassifier,bootstrap=True,criterion=gini,max_features=sqrt,max_samples=0.98556,min_sa_2022-04-01_16-29-17\n",
      "ERROR train_function_634950f8_241_class=RandomForestClassifier,bootstrap=True,criterion=entropy,max_features=auto,max_samples=0.96959,mi_2022-04-01_18-14-12\n",
      "ERROR train_function_48aebbac_348_class=RandomForestClassifier,bootstrap=True,criterion=entropy,max_features=auto,max_samples=0.48705,mi_2022-04-01_20-00-50\n",
      "ERROR train_function_fd119340_34_class=RandomForestClassifier,bootstrap=True,criterion=gini,max_features=sqrt,max_samples=0.62057,min_sa_2022-04-01_16-23-58\n",
      "ERROR train_function_ac32b62c_197_class=RandomForestClassifier,bootstrap=True,criterion=gini,max_features=auto,max_samples=0.94388,min_s_2022-04-01_17-54-46\n",
      "ERROR train_function_4f747ac8_500_class=RandomForestClassifier,bootstrap=True,criterion=entropy,max_features=sqrt,max_samples=0.42375,mi_2022-04-01_21-34-05\n",
      "ERROR train_function_6308e13e_50_class=RandomForestClassifier,bootstrap=True,criterion=gini,max_features=sqrt,max_samples=0.54714,min_sa_2022-04-01_16-33-59\n",
      "ERROR train_function_930e5406_342_class=RandomForestClassifier,bootstrap=True,criterion=entropy,max_features=auto,max_samples=0.56443,mi_2022-04-01_19-55-46\n",
      "ERROR train_function_747834fc_95_class=RandomForestClassifier,bootstrap=True,criterion=gini,max_features=sqrt,max_samples=0.55517,min_sa_2022-04-01_17-03-06\n",
      "ERROR train_function_c29160f8_120_class=RandomForestClassifier,bootstrap=True,criterion=gini,max_features=sqrt,max_samples=0.28617,min_s_2022-04-01_17-19-36\n",
      "ERROR train_function_934ca850_305_class=RandomForestClassifier,bootstrap=True,criterion=entropy,max_features=auto,max_samples=0.82089,mi_2022-04-01_19-19-59\n",
      "ERROR train_function_bd605328_495_class=RandomForestClassifier,bootstrap=True,criterion=entropy,max_features=sqrt,max_samples=0.47029,mi_2022-04-01_21-30-00\n",
      "ERROR train_function_4c0af4a8_115_class=RandomForestClassifier,bootstrap=True,criterion=gini,max_features=sqrt,max_samples=0.37965,min_s_2022-04-01_17-16-17\n",
      "ERROR train_function_4fe45984_448_class=RandomForestClassifier,bootstrap=True,criterion=entropy,max_features=auto,max_samples=0.55416,mi_2022-04-01_20-51-09\n",
      "ERROR train_function_9ddcabc8_328_class=RandomForestClassifier,bootstrap=True,criterion=entropy,max_features=auto,max_samples=0.55436,mi_2022-04-01_19-41-45\n",
      "ERROR train_function_d1fe396e_98_class=RandomForestClassifier,bootstrap=True,criterion=gini,max_features=sqrt,max_samples=0.55413,min_sa_2022-04-01_17-05-43\n",
      "ERROR train_function_58a00892_335_class=RandomForestClassifier,bootstrap=True,criterion=entropy,max_features=auto,max_samples=0.57476,mi_2022-04-01_19-46-58\n",
      "ERROR train_function_5ae26078_127_class=RandomForestClassifier,bootstrap=True,criterion=gini,max_features=sqrt,max_samples=0.38097,min_s_2022-04-01_17-23-52\n",
      "ERROR train_function_974e719a_474_class=RandomForestClassifier,bootstrap=True,criterion=entropy,max_features=auto,max_samples=0.5416,min_2022-04-01_21-07-28\n",
      "ERROR train_function_ab753c9e_411_class=RandomForestClassifier,bootstrap=True,criterion=entropy,max_features=auto,max_samples=0.44568,mi_2022-04-01_20-32-14\n",
      "ERROR train_function_adf94182_75_class=RandomForestClassifier,bootstrap=True,criterion=gini,max_features=sqrt,max_samples=0.31879,min_sa_2022-04-01_16-50-24\n",
      "ERROR train_function_c03b520e_269_class=RandomForestClassifier,bootstrap=True,criterion=entropy,max_features=auto,max_samples=0.9609,min_2022-04-01_18-38-17\n",
      "ERROR train_function_185d8c58_233_class=RandomForestClassifier,bootstrap=True,criterion=entropy,max_features=auto,max_samples=0.83104,mi_2022-04-01_18-12-07\n",
      "ERROR train_function_851105ba_408_class=RandomForestClassifier,bootstrap=True,criterion=entropy,max_features=auto,max_samples=0.39937,mi_2022-04-01_20-31-10\n",
      "ERROR train_function_d4960b14_379_class=RandomForestClassifier,bootstrap=True,criterion=entropy,max_features=auto,max_samples=0.4925,min_2022-04-01_20-19-04\n",
      "ERROR train_function_05f89c8a_66_class=RandomForestClassifier,bootstrap=True,criterion=gini,max_features=sqrt,max_samples=0.59068,min_sa_2022-04-01_16-45-42\n",
      "ERROR train_function_35497f4c_176_class=RandomForestClassifier,bootstrap=True,criterion=entropy,max_features=auto,max_samples=0.70248,mi_2022-04-01_17-44-17\n",
      "ERROR train_function_02b12ea6_144_class=RandomForestClassifier,bootstrap=True,criterion=gini,max_features=auto,max_samples=0.45027,min_s_2022-04-01_17-28-33\n",
      "ERROR train_function_9820f854_343_class=RandomForestClassifier,bootstrap=True,criterion=entropy,max_features=auto,max_samples=0.47889,mi_2022-04-01_19-55-54\n",
      "ERROR train_function_a6c9f660_53_class=RandomForestClassifier,bootstrap=True,criterion=entropy,max_features=auto,max_samples=0.94232,min_2022-04-01_16-35-53\n",
      "ERROR train_function_706b68aa_117_class=RandomForestClassifier,bootstrap=True,criterion=gini,max_features=sqrt,max_samples=0.26193,min_s_2022-04-01_17-17-19\n",
      "ERROR train_function_00f77104_433_class=RandomForestClassifier,bootstrap=True,criterion=entropy,max_features=auto,max_samples=0.55705,mi_2022-04-01_20-41-47\n",
      "ERROR train_function_95298048_244_class=RandomForestClassifier,bootstrap=True,criterion=entropy,max_features=auto,max_samples=0.92788,mi_2022-04-01_18-15-36\n",
      "ERROR train_function_37299b10_297_class=RandomForestClassifier,bootstrap=True,criterion=entropy,max_features=auto,max_samples=0.80222,mi_2022-04-01_19-10-14\n",
      "ERROR train_function_ada827e8_336_class=RandomForestClassifier,bootstrap=True,criterion=entropy,max_features=auto,max_samples=0.49182,mi_2022-04-01_19-49-21\n",
      "ERROR train_function_8271330c_225_class=RandomForestClassifier,bootstrap=True,criterion=entropy,max_features=auto,max_samples=0.9833,min_2022-04-01_18-07-55\n",
      "ERROR train_function_bf0c0b0c_306_class=RandomForestClassifier,bootstrap=True,criterion=entropy,max_features=auto,max_samples=0.90226,mi_2022-04-01_19-21-12\n",
      "ERROR train_function_a798d07c_156_class=RandomForestClassifier,bootstrap=True,criterion=gini,max_features=sqrt,max_samples=0.8102,min_sa_2022-04-01_17-33-10\n",
      "ERROR train_function_8440c2d2_279_class=RandomForestClassifier,bootstrap=True,criterion=entropy,max_features=auto,max_samples=0.91224,mi_2022-04-01_18-50-55\n",
      "ERROR train_function_6cb13f6e_449_class=RandomForestClassifier,bootstrap=True,criterion=entropy,max_features=auto,max_samples=0.3992,min_2022-04-01_20-51-57\n",
      "ERROR train_function_4fb4f7d2_149_class=RandomForestClassifier,bootstrap=True,criterion=gini,max_features=sqrt,max_samples=0.85679,min_s_2022-04-01_17-30-43\n"
     ]
    },
    {
     "name": "stdout",
     "output_type": "stream",
     "text": [
      "ERROR train_function_6992ae2a_128_class=RandomForestClassifier,bootstrap=True,criterion=gini,max_features=sqrt,max_samples=0.42093,min_s_2022-04-01_17-24-17\n",
      "ERROR train_function_d115baea_44_class=RandomForestClassifier,bootstrap=True,criterion=gini,max_features=sqrt,max_samples=0.60153,min_sa_2022-04-01_16-29-54\n",
      "ERROR train_function_48d2aa20_179_class=RandomForestClassifier,bootstrap=True,criterion=entropy,max_features=auto,max_samples=0.56777,mi_2022-04-01_17-44-50\n",
      "ERROR train_function_7eafa2e8_482_class=RandomForestClassifier,bootstrap=True,criterion=entropy,max_features=auto,max_samples=0.47829,mi_2022-04-01_21-13-56\n",
      "ERROR train_function_854a401a_6_class=RandomForestClassifier,bootstrap=True,criterion=entropy,max_features=sqrt,max_samples=0.75956,min__2022-04-01_16-13-28\n",
      "ERROR train_function_229511d8_339_class=RandomForestClassifier,bootstrap=True,criterion=entropy,max_features=auto,max_samples=0.49352,mi_2022-04-01_19-52-37\n",
      "ERROR train_function_d18912ec_314_class=RandomForestClassifier,bootstrap=True,criterion=entropy,max_features=auto,max_samples=0.8292,min_2022-04-01_19-28-52\n",
      "ERROR train_function_40f65cae_402_class=RandomForestClassifier,bootstrap=True,criterion=entropy,max_features=auto,max_samples=0.62562,mi_2022-04-01_20-29-15\n",
      "ERROR train_function_e35fe656_198_class=RandomForestClassifier,bootstrap=True,criterion=entropy,max_features=auto,max_samples=0.61884,mi_2022-04-01_17-56-19\n",
      "ERROR train_function_3172fa7e_103_class=RandomForestClassifier,bootstrap=True,criterion=gini,max_features=sqrt,max_samples=0.21295,min_s_2022-04-01_17-08-23\n",
      "ERROR train_function_c96439a2_313_class=RandomForestClassifier,bootstrap=True,criterion=entropy,max_features=auto,max_samples=0.84634,mi_2022-04-01_19-28-39\n",
      "ERROR train_function_3aad1154_333_class=RandomForestClassifier,bootstrap=True,criterion=entropy,max_features=auto,max_samples=0.43058,mi_2022-04-01_19-46-08\n",
      "ERROR train_function_479a0668_238_class=RandomForestClassifier,bootstrap=True,criterion=entropy,max_features=auto,max_samples=0.97289,mi_2022-04-01_18-13-26\n",
      "ERROR train_function_3184f612_236_class=RandomForestClassifier,bootstrap=True,criterion=entropy,max_features=auto,max_samples=0.82067,mi_2022-04-01_18-12-49\n",
      "ERROR train_function_a7a7e17a_30_class=RandomForestClassifier,bootstrap=True,criterion=gini,max_features=sqrt,max_samples=0.22703,min_sa_2022-04-01_16-21-35\n",
      "ERROR train_function_e03f4998_301_class=RandomForestClassifier,bootstrap=True,criterion=entropy,max_features=auto,max_samples=0.81763,mi_2022-04-01_19-14-58\n",
      "ERROR train_function_d49bee12_264_class=RandomForestClassifier,bootstrap=True,criterion=entropy,max_features=auto,max_samples=0.96243,mi_2022-04-01_18-31-42\n",
      "ERROR train_function_6138cd8e_481_class=RandomForestClassifier,bootstrap=True,criterion=entropy,max_features=auto,max_samples=0.52987,mi_2022-04-01_21-13-07\n",
      "ERROR train_function_60a39182_317_class=RandomForestClassifier,bootstrap=True,criterion=entropy,max_features=auto,max_samples=0.67579,mi_2022-04-01_19-32-53\n",
      "ERROR train_function_0fa39812_112_class=RandomForestClassifier,bootstrap=True,criterion=gini,max_features=sqrt,max_samples=0.38229,min_s_2022-04-01_17-14-36\n",
      "ERROR train_function_cd29e566_463_class=RandomForestClassifier,bootstrap=True,criterion=entropy,max_features=auto,max_samples=0.55296,mi_2022-04-01_21-01-49\n",
      "ERROR train_function_0e2030d6_493_class=RandomForestClassifier,bootstrap=True,criterion=entropy,max_features=sqrt,max_samples=0.55831,mi_2022-04-01_21-25-06\n",
      "ERROR train_function_5e268516_204_class=RandomForestClassifier,bootstrap=True,criterion=gini,max_features=auto,max_samples=0.75706,min_s_2022-04-01_17-59-45\n",
      "ERROR train_function_634c4cf0_150_class=RandomForestClassifier,bootstrap=True,criterion=gini,max_features=auto,max_samples=0.90753,min_s_2022-04-01_17-31-15\n",
      "ERROR train_function_783c4c90_40_class=RandomForestClassifier,bootstrap=True,criterion=gini,max_features=sqrt,max_samples=0.98704,min_sa_2022-04-01_16-27-25\n",
      "ERROR train_function_d156a2e8_442_class=RandomForestClassifier,bootstrap=True,criterion=entropy,max_features=auto,max_samples=0.53388,mi_2022-04-01_20-47-37\n",
      "ERROR train_function_51222c60_277_class=RandomForestClassifier,bootstrap=True,criterion=entropy,max_features=auto,max_samples=0.63602,mi_2022-04-01_18-49-30\n",
      "ERROR train_function_9359748c_8_class=RandomForestClassifier,bootstrap=True,criterion=entropy,max_features=log2,max_samples=0.49769,min__2022-04-01_16-13-52\n",
      "ERROR train_function_63d850ca_299_class=RandomForestClassifier,bootstrap=True,criterion=entropy,max_features=auto,max_samples=0.84629,mi_2022-04-01_19-11-29\n",
      "ERROR train_function_7f9ee098_223_class=RandomForestClassifier,bootstrap=True,criterion=entropy,max_features=auto,max_samples=0.9973,min_2022-04-01_18-07-51\n",
      "ERROR train_function_d0035152_492_class=RandomForestClassifier,bootstrap=True,criterion=entropy,max_features=auto,max_samples=0.57281,mi_2022-04-01_21-23-22\n",
      "ERROR train_function_01532de2_231_class=RandomForestClassifier,bootstrap=True,criterion=entropy,max_features=auto,max_samples=0.76375,mi_2022-04-01_18-11-28\n",
      "ERROR train_function_0e141c76_310_class=RandomForestClassifier,bootstrap=True,criterion=entropy,max_features=auto,max_samples=0.95614,mi_2022-04-01_19-23-25\n",
      "ERROR train_function_937b069a_424_class=RandomForestClassifier,bootstrap=True,criterion=entropy,max_features=auto,max_samples=0.54676,mi_2022-04-01_20-38-43\n",
      "ERROR train_function_9f10ca58_350_class=RandomForestClassifier,bootstrap=True,criterion=entropy,max_features=auto,max_samples=0.47494,mi_2022-04-01_20-03-15\n",
      "ERROR train_function_d1e14e98_254_class=RandomForestClassifier,bootstrap=True,criterion=entropy,max_features=auto,max_samples=0.91311,mi_2022-04-01_18-24-28\n",
      "ERROR train_function_b31a5be8_293_class=RandomForestClassifier,bootstrap=True,criterion=entropy,max_features=auto,max_samples=0.636,min__2022-04-01_19-06-33\n",
      "ERROR train_function_02161366_308_class=RandomForestClassifier,bootstrap=True,criterion=entropy,max_features=auto,max_samples=0.8783,min_2022-04-01_19-23-04\n",
      "ERROR train_function_045c5658_309_class=RandomForestClassifier,bootstrap=True,criterion=entropy,max_features=auto,max_samples=0.853,min__2022-04-01_19-23-08\n",
      "ERROR train_function_f75bffd0_91_class=RandomForestClassifier,bootstrap=True,criterion=entropy,max_features=sqrt,max_samples=0.66404,min_2022-04-01_16-59-36\n",
      "ERROR train_function_b3949164_207_class=RandomForestClassifier,bootstrap=True,criterion=entropy,max_features=auto,max_samples=0.98257,mi_2022-04-01_18-02-08\n",
      "ERROR train_function_2105047a_248_class=RandomForestClassifier,bootstrap=True,criterion=entropy,max_features=auto,max_samples=0.92793,mi_2022-04-01_18-19-31\n",
      "ERROR train_function_395d86ca_302_class=RandomForestClassifier,bootstrap=True,criterion=entropy,max_features=auto,max_samples=0.85036,mi_2022-04-01_19-17-28\n",
      "ERROR train_function_746c3be0_459_class=RandomForestClassifier,bootstrap=True,criterion=entropy,max_features=auto,max_samples=0.49146,mi_2022-04-01_20-59-20\n",
      "ERROR train_function_99f1e78a_118_class=RandomForestClassifier,bootstrap=True,criterion=gini,max_features=sqrt,max_samples=0.37527,min_s_2022-04-01_17-18-28\n",
      "ERROR train_function_d0a08a14_228_class=RandomForestClassifier,bootstrap=True,criterion=entropy,max_features=auto,max_samples=0.87013,mi_2022-04-01_18-10-06\n",
      "ERROR train_function_fbcb8062_47_class=RandomForestClassifier,bootstrap=True,criterion=gini,max_features=sqrt,max_samples=0.98248,min_sa_2022-04-01_16-31-06\n",
      "ERROR train_function_5a65dfaa_250_class=RandomForestClassifier,bootstrap=True,criterion=entropy,max_features=auto,max_samples=0.93635,mi_2022-04-01_18-21-07\n",
      "ERROR train_function_1b0f0830_325_class=RandomForestClassifier,bootstrap=True,criterion=entropy,max_features=auto,max_samples=0.4523,min_2022-04-01_19-38-05\n",
      "ERROR train_function_15a8dee6_467_class=RandomForestClassifier,bootstrap=True,criterion=entropy,max_features=auto,max_samples=0.48724,mi_2022-04-01_21-03-50\n",
      "ERROR train_function_82fd116a_152_class=RandomForestClassifier,bootstrap=True,criterion=gini,max_features=sqrt,max_samples=0.86801,min_s_2022-04-01_17-32-09\n",
      "ERROR train_function_3c2edbfc_458_class=RandomForestClassifier,bootstrap=True,criterion=entropy,max_features=auto,max_samples=0.41492,mi_2022-04-01_20-57-45\n",
      "ERROR train_function_f0204bcc_414_class=RandomForestClassifier,bootstrap=True,criterion=entropy,max_features=auto,max_samples=0.61614,mi_2022-04-01_20-34-09\n",
      "ERROR train_function_98e4ea74_483_class=RandomForestClassifier,bootstrap=True,criterion=entropy,max_features=sqrt,max_samples=0.57666,mi_2022-04-01_21-14-40\n",
      "ERROR train_function_17245a94_123_class=RandomForestClassifier,bootstrap=True,criterion=gini,max_features=sqrt,max_samples=0.42214,min_s_2022-04-01_17-21-58\n",
      "ERROR train_function_196dfd08_35_class=RandomForestClassifier,bootstrap=True,criterion=gini,max_features=sqrt,max_samples=0.49108,min_sa_2022-04-01_16-24-46\n"
     ]
    },
    {
     "name": "stdout",
     "output_type": "stream",
     "text": [
      "ERROR train_function_7d8a2c20_284_class=RandomForestClassifier,bootstrap=True,criterion=entropy,max_features=auto,max_samples=0.81285,mi_2022-04-01_18-57-54\n",
      "ERROR train_function_2bf7eb96_346_class=RandomForestClassifier,bootstrap=True,criterion=entropy,max_features=auto,max_samples=0.57741,mi_2022-04-01_20-00-02\n",
      "ERROR train_function_3f0aaff4_386_class=RandomForestClassifier,bootstrap=True,criterion=entropy,max_features=auto,max_samples=0.49445,mi_2022-04-01_20-22-03\n",
      "ERROR train_function_7159d4ca_27_class=RandomForestClassifier,bootstrap=True,criterion=gini,max_features=sqrt,max_samples=0.58755,min_sa_2022-04-01_16-20-04\n",
      "ERROR train_function_096f282e_19_class=RandomForestClassifier,bootstrap=True,criterion=gini,max_features=log2,max_samples=0.59536,min_sa_2022-04-01_16-17-10\n",
      "ERROR train_function_13202922_399_class=RandomForestClassifier,bootstrap=True,criterion=entropy,max_features=auto,max_samples=0.63139,mi_2022-04-01_20-27-58\n",
      "ERROR train_function_d90df050_280_class=RandomForestClassifier,bootstrap=True,criterion=entropy,max_features=auto,max_samples=0.63387,mi_2022-04-01_18-53-18\n",
      "ERROR train_function_b44345ea_484_class=RandomForestClassifier,bootstrap=True,criterion=entropy,max_features=auto,max_samples=0.55457,mi_2022-04-01_21-15-26\n",
      "ERROR train_function_8f52c6ee_153_class=RandomForestClassifier,bootstrap=True,criterion=gini,max_features=sqrt,max_samples=0.81511,min_s_2022-04-01_17-32-29\n",
      "ERROR train_function_9e8b6b02_87_class=RandomForestClassifier,bootstrap=True,criterion=gini,max_features=auto,max_samples=0.5716,min_sam_2022-04-01_16-57-07\n",
      "ERROR train_function_8a8c1c10_205_class=RandomForestClassifier,bootstrap=True,criterion=gini,max_features=auto,max_samples=0.75319,min_s_2022-04-01_18-00-59\n",
      "ERROR train_function_7f1e6e0a_460_class=RandomForestClassifier,bootstrap=True,criterion=entropy,max_features=auto,max_samples=0.5539,min_2022-04-01_20-59-38\n",
      "ERROR train_function_8fe9dc18_96_class=RandomForestClassifier,bootstrap=True,criterion=gini,max_features=auto,max_samples=0.61266,min_sa_2022-04-01_17-03-52\n",
      "ERROR train_function_e6734c76_55_class=RandomForestClassifier,bootstrap=True,criterion=gini,max_features=sqrt,max_samples=0.87342,min_sa_2022-04-01_16-37-40\n",
      "ERROR train_function_568e158c_490_class=RandomForestClassifier,bootstrap=True,criterion=entropy,max_features=sqrt,max_samples=0.56018,mi_2022-04-01_21-19-58\n",
      "ERROR train_function_5a99b5be_283_class=RandomForestClassifier,bootstrap=True,criterion=entropy,max_features=auto,max_samples=0.66592,mi_2022-04-01_18-56-55\n",
      "ERROR train_function_08732552_497_class=RandomForestClassifier,bootstrap=True,criterion=entropy,max_features=auto,max_samples=0.65176,mi_2022-04-01_21-32-06\n",
      "ERROR train_function_1d7a3e52_477_class=RandomForestClassifier,bootstrap=True,criterion=entropy,max_features=auto,max_samples=0.55611,mi_2022-04-01_21-11-13\n",
      "ERROR train_function_3486a9be_347_class=RandomForestClassifier,bootstrap=True,criterion=entropy,max_features=auto,max_samples=0.53007,mi_2022-04-01_20-00-17\n",
      "ERROR train_function_1d1fc182_113_class=RandomForestClassifier,bootstrap=True,criterion=gini,max_features=sqrt,max_samples=0.27251,min_s_2022-04-01_17-14-59\n",
      "ERROR train_function_047c1efa_56_class=RandomForestClassifier,bootstrap=True,criterion=entropy,max_features=sqrt,max_samples=0.64654,min_2022-04-01_16-38-30\n",
      "ERROR train_function_16b4f200_354_class=RandomForestClassifier,bootstrap=True,criterion=entropy,max_features=auto,max_samples=0.58317,mi_2022-04-01_20-06-36\n",
      "ERROR train_function_38196620_93_class=RandomForestClassifier,bootstrap=True,criterion=gini,max_features=auto,max_samples=0.58865,min_sa_2022-04-01_17-01-25\n",
      "ERROR train_function_73d8328e_192_class=RandomForestClassifier,bootstrap=True,criterion=entropy,max_features=auto,max_samples=0.74718,mi_2022-04-01_17-53-12\n",
      "ERROR train_function_45ff7680_480_class=RandomForestClassifier,bootstrap=True,criterion=entropy,max_features=sqrt,max_samples=0.57084,mi_2022-04-01_21-12-21\n",
      "ERROR train_function_0d981434_199_class=RandomForestClassifier,bootstrap=True,criterion=gini,max_features=auto,max_samples=0.93983,min_s_2022-04-01_17-57-30\n",
      "ERROR train_function_f43ebb00_382_class=RandomForestClassifier,bootstrap=True,criterion=entropy,max_features=auto,max_samples=0.51776,mi_2022-04-01_20-19-57\n",
      "ERROR train_function_6fd7d85a_4_class=RandomForestClassifier,bootstrap=True,criterion=gini,max_features=log2,max_samples=0.6403,min_samp_2022-04-01_16-12-52\n",
      "ERROR train_function_c3297404_32_class=RandomForestClassifier,bootstrap=True,criterion=gini,max_features=sqrt,max_samples=0.5711,min_sam_2022-04-01_16-22-21\n",
      "ERROR train_function_aaab8024_245_class=RandomForestClassifier,bootstrap=True,criterion=entropy,max_features=auto,max_samples=0.82255,mi_2022-04-01_18-16-12\n",
      "ERROR train_function_3b7144ac_298_class=RandomForestClassifier,bootstrap=True,criterion=entropy,max_features=auto,max_samples=0.82168,mi_2022-04-01_19-10-22\n",
      "ERROR train_function_3fbaff64_488_class=RandomForestClassifier,bootstrap=True,criterion=entropy,max_features=auto,max_samples=0.43089,mi_2022-04-01_21-19-20\n",
      "ERROR train_function_fbbb5e48_367_class=RandomForestClassifier,bootstrap=True,criterion=entropy,max_features=auto,max_samples=0.56882,mi_2022-04-01_20-13-00\n",
      "ERROR train_function_79c57714_129_class=RandomForestClassifier,bootstrap=True,criterion=gini,max_features=sqrt,max_samples=0.42401,min_s_2022-04-01_17-24-44\n",
      "ERROR train_function_e3e1c8a2_364_class=RandomForestClassifier,bootstrap=True,criterion=entropy,max_features=auto,max_samples=0.49859,mi_2022-04-01_20-12-20\n",
      "ERROR train_function_f96f1c46_265_class=RandomForestClassifier,bootstrap=True,criterion=entropy,max_features=auto,max_samples=0.89965,mi_2022-04-01_18-32-43\n",
      "ERROR train_function_e2d46c7a_496_class=RandomForestClassifier,bootstrap=True,criterion=entropy,max_features=auto,max_samples=0.42259,mi_2022-04-01_21-31-03\n",
      "ERROR train_function_e1d85630_45_class=RandomForestClassifier,bootstrap=True,criterion=gini,max_features=sqrt,max_samples=0.84247,min_sa_2022-04-01_16-30-22\n",
      "ERROR train_function_43880fea_334_class=RandomForestClassifier,bootstrap=True,criterion=entropy,max_features=auto,max_samples=0.54199,mi_2022-04-01_19-46-23\n",
      "ERROR train_function_c550777c_351_class=RandomForestClassifier,bootstrap=True,criterion=entropy,max_features=auto,max_samples=0.55248,mi_2022-04-01_20-04-19\n",
      "ERROR train_function_53d1ee80_291_class=RandomForestClassifier,bootstrap=True,criterion=entropy,max_features=auto,max_samples=0.8128,min_2022-04-01_19-03-53\n",
      "ERROR train_function_2664f082_59_class=RandomForestClassifier,bootstrap=True,criterion=gini,max_features=sqrt,max_samples=0.56401,min_sa_2022-04-01_16-39-27\n",
      "ERROR train_function_d2a045fe_452_class=RandomForestClassifier,bootstrap=True,criterion=entropy,max_features=auto,max_samples=0.40992,mi_2022-04-01_20-54-48\n",
      "ERROR train_function_201411ea_188_class=RandomForestClassifier,bootstrap=True,criterion=entropy,max_features=auto,max_samples=0.5604,min_2022-04-01_17-50-51\n",
      "ERROR train_function_5114936a_489_class=RandomForestClassifier,bootstrap=True,criterion=entropy,max_features=auto,max_samples=0.47465,mi_2022-04-01_21-19-49\n",
      "ERROR train_function_4e7c3178_148_class=RandomForestClassifier,bootstrap=True,criterion=entropy,max_features=auto,max_samples=0.76373,mi_2022-04-01_17-30-41\n",
      "ERROR train_function_b37eea6c_461_class=RandomForestClassifier,bootstrap=True,criterion=entropy,max_features=auto,max_samples=0.32111,mi_2022-04-01_21-01-06\n",
      "ERROR train_function_87c1ed9c_272_class=RandomForestClassifier,bootstrap=True,criterion=entropy,max_features=auto,max_samples=0.95678,mi_2022-04-01_18-43-52\n",
      "ERROR train_function_8987fd30_377_class=RandomForestClassifier,bootstrap=True,criterion=entropy,max_features=auto,max_samples=0.57087,mi_2022-04-01_20-16-58\n",
      "ERROR train_function_ab727604_391_class=RandomForestClassifier,bootstrap=True,criterion=entropy,max_features=auto,max_samples=0.50587,mi_2022-04-01_20-25-05\n",
      "ERROR train_function_7d03acde_5_class=RandomForestClassifier,bootstrap=True,criterion=gini,max_features=log2,max_samples=0.94542,min_sam_2022-04-01_16-13-14\n",
      "ERROR train_function_1e270048_82_class=RandomForestClassifier,bootstrap=True,criterion=gini,max_features=sqrt,max_samples=0.31335,min_sa_2022-04-01_16-53-32\n",
      "ERROR train_function_0f7c46f0_435_class=RandomForestClassifier,bootstrap=True,criterion=entropy,max_features=auto,max_samples=0.54404,mi_2022-04-01_20-42-11\n"
     ]
    },
    {
     "name": "stdout",
     "output_type": "stream",
     "text": [
      "ERROR train_function_1676960e_247_class=RandomForestClassifier,bootstrap=True,criterion=entropy,max_features=auto,max_samples=0.95791,mi_2022-04-01_18-19-13\n",
      "ERROR train_function_9f0cc266_133_class=RandomForestClassifier,bootstrap=True,criterion=gini,max_features=auto,max_samples=0.45957,min_s_2022-04-01_17-25-46\n",
      "ERROR train_function_6fc385b2_3_class=RandomForestClassifier,bootstrap=True,criterion=entropy,max_features=log2,max_samples=0.15076,min__2022-04-01_16-12-52\n",
      "ERROR train_function_5c4b1154_373_class=RandomForestClassifier,bootstrap=True,criterion=entropy,max_features=auto,max_samples=0.48411,mi_2022-04-01_20-15-42\n",
      "ERROR train_function_b04d1800_268_class=RandomForestClassifier,bootstrap=True,criterion=entropy,max_features=auto,max_samples=0.90139,mi_2022-04-01_18-37-50\n",
      "ERROR train_function_8aeb15fc_86_class=RandomForestClassifier,bootstrap=True,criterion=gini,max_features=sqrt,max_samples=0.29626,min_sa_2022-04-01_16-56-34\n",
      "ERROR train_function_003bcd52_142_class=RandomForestClassifier,bootstrap=True,criterion=entropy,max_features=sqrt,max_samples=0.67678,mi_2022-04-01_17-28-29\n",
      "ERROR train_function_db596a4c_173_class=RandomForestClassifier,bootstrap=True,criterion=entropy,max_features=auto,max_samples=0.7244,min_2022-04-01_17-41-46\n",
      "ERROR train_function_31b28784_48_class=RandomForestClassifier,bootstrap=True,criterion=gini,max_features=sqrt,max_samples=0.85745,min_sa_2022-04-01_16-32-36\n",
      "ERROR train_function_ce0cbec6_475_class=RandomForestClassifier,bootstrap=True,criterion=entropy,max_features=auto,max_samples=0.47597,mi_2022-04-01_21-09-00\n",
      "ERROR train_function_2ee0cef4_92_class=RandomForestClassifier,bootstrap=True,criterion=gini,max_features=sqrt,max_samples=0.25164,min_sa_2022-04-01_17-01-10\n",
      "ERROR train_function_47cfb68e_201_class=RandomForestClassifier,bootstrap=True,criterion=entropy,max_features=auto,max_samples=0.6725,min_2022-04-01_17-59-07\n",
      "ERROR train_function_d261fb54_338_class=RandomForestClassifier,bootstrap=True,criterion=entropy,max_features=auto,max_samples=0.55223,mi_2022-04-01_19-50-22\n",
      "ERROR train_function_e3ea493e_229_class=RandomForestClassifier,bootstrap=True,criterion=entropy,max_features=auto,max_samples=0.82859,mi_2022-04-01_18-10-39\n",
      "ERROR train_function_adb16ed6_108_class=RandomForestClassifier,bootstrap=True,criterion=gini,max_features=sqrt,max_samples=0.27701,min_s_2022-04-01_17-11-52\n",
      "ERROR train_function_6ed8d93c_262_class=RandomForestClassifier,bootstrap=True,criterion=entropy,max_features=auto,max_samples=0.9648,min_2022-04-01_18-28-51\n",
      "ERROR train_function_ee114e24_286_class=RandomForestClassifier,bootstrap=True,criterion=entropy,max_features=auto,max_samples=0.66973,mi_2022-04-01_19-01-02\n",
      "ERROR train_function_8a1256c6_312_class=RandomForestClassifier,bootstrap=True,criterion=entropy,max_features=auto,max_samples=0.81403,mi_2022-04-01_19-26-53\n",
      "ERROR train_function_813092f8_224_class=RandomForestClassifier,bootstrap=True,criterion=entropy,max_features=auto,max_samples=0.9345,min_2022-04-01_18-07-53\n",
      "ERROR train_function_f513b94a_121_class=RandomForestClassifier,bootstrap=True,criterion=gini,max_features=sqrt,max_samples=0.38247,min_s_2022-04-01_17-21-01\n",
      "ERROR train_function_95373c5a_358_class=RandomForestClassifier,bootstrap=True,criterion=entropy,max_features=auto,max_samples=0.57153,mi_2022-04-01_20-10-08\n",
      "ERROR train_function_82fd95ca_285_class=RandomForestClassifier,bootstrap=True,criterion=entropy,max_features=auto,max_samples=0.88113,mi_2022-04-01_18-58-03\n",
      "ERROR train_function_79f2d830_72_class=RandomForestClassifier,bootstrap=True,criterion=gini,max_features=sqrt,max_samples=0.16921,min_sa_2022-04-01_16-48-56\n"
     ]
    }
   ],
   "source": [
    "params_total_table = []\n",
    "results_total_table = []\n",
    "for fName in os.listdir(base_dir):\n",
    "    if not os.path.isdir(base_dir+\"/\"+fName):\n",
    "        continue\n",
    "    if os.path.exists(os.path.join(base_dir, fName, \"error.txt\")):\n",
    "        print(\"ERROR\",fName)\n",
    "        #continue # не, там все равно может быть не пустой json\n",
    "    if os.stat(os.path.join(base_dir, fName, \"result.json\")).st_size == 0:\n",
    "        continue\n",
    "    with open(os.path.join(base_dir, fName, \"params.json\"), \"r\") as f:\n",
    "        params = json.load(f)\n",
    "    with open(os.path.join(base_dir, fName, \"result.json\"), \"r\") as f:\n",
    "        result = json.load(f)\n",
    "    params_total_table.append(params)\n",
    "    results_total_table.append(result)\n",
    "    "
   ]
  },
  {
   "cell_type": "code",
   "execution_count": 11,
   "metadata": {},
   "outputs": [
    {
     "data": {
      "text/plain": [
       "{'classifier': {'class': 'RandomForestClassifier',\n",
       "  'params': {'bootstrap': True,\n",
       "   'criterion': 'gini',\n",
       "   'max_features': 'auto',\n",
       "   'max_samples': 0.9438754107841332,\n",
       "   'min_samples_leaf': 5,\n",
       "   'min_samples_split': 9,\n",
       "   'n_estimators': 244}},\n",
       " 'data_config': {'input_column': 'x',\n",
       "  'path_to_df': '/s/ls4/users/grartem/RL_robots/CommandClassifier/Data/Interim/split.csv',\n",
       "  'target_columns': ['y',\n",
       "   'action',\n",
       "   'direction',\n",
       "   'meters',\n",
       "   'degshours',\n",
       "   'object1',\n",
       "   'nearest',\n",
       "   'relation1',\n",
       "   'object2',\n",
       "   'relation2',\n",
       "   'object3']},\n",
       " 'report_metrics': ['correct_samples_perc',\n",
       "  'class_acc',\n",
       "  'class_macro_f1',\n",
       "  'avg_acc',\n",
       "  'avg_macro_f1'],\n",
       " 'target_metric': 'avg_macro_f1',\n",
       " 'vectorizers': {'TfidfVectorizer': {'analyzer': 'char_wb',\n",
       "   'lowercase': True,\n",
       "   'max_df': 0.7966393534245517,\n",
       "   'max_features': 5032,\n",
       "   'min_df': 12,\n",
       "   'ngram_range': [1, 2],\n",
       "   'norm': 'l1',\n",
       "   'smooth_idf': False,\n",
       "   'sublinear_tf': False,\n",
       "   'use_idf': True}}}"
      ]
     },
     "execution_count": 11,
     "metadata": {},
     "output_type": "execute_result"
    }
   ],
   "source": [
    "df[df[\"avg_macro_f1\"]>0.63].iloc[0][\"config\"]"
   ]
  },
  {
   "cell_type": "code",
   "execution_count": 4,
   "metadata": {},
   "outputs": [
    {
     "data": {
      "text/plain": [
       "0.6370790195952201"
      ]
     },
     "execution_count": 4,
     "metadata": {},
     "output_type": "execute_result"
    }
   ],
   "source": [
    "df = pd.DataFrame(results_total_table)\n",
    "df[\"avg_macro_f1\"].max()"
   ]
  },
  {
   "cell_type": "code",
   "execution_count": 5,
   "metadata": {},
   "outputs": [
    {
     "data": {
      "text/plain": [
       "0.8633401515551136"
      ]
     },
     "execution_count": 5,
     "metadata": {},
     "output_type": "execute_result"
    }
   ],
   "source": [
    "df[\"[y]_macrof1\"].max()"
   ]
  }
 ],
 "metadata": {
  "kernelspec": {
   "display_name": "rl_robots",
   "language": "python",
   "name": "rl_robots"
  },
  "language_info": {
   "codemirror_mode": {
    "name": "ipython",
    "version": 3
   },
   "file_extension": ".py",
   "mimetype": "text/x-python",
   "name": "python",
   "nbconvert_exporter": "python",
   "pygments_lexer": "ipython3",
   "version": "3.8.0"
  }
 },
 "nbformat": 4,
 "nbformat_minor": 4
}
